{
  "nbformat": 4,
  "nbformat_minor": 0,
  "metadata": {
    "colab": {
      "provenance": [],
      "authorship_tag": "ABX9TyNPH3fSUMU2UfoaL+NADuBZ",
      "include_colab_link": true
    },
    "kernelspec": {
      "name": "python3",
      "display_name": "Python 3"
    },
    "language_info": {
      "name": "python"
    }
  },
  "cells": [
    {
      "cell_type": "markdown",
      "metadata": {
        "id": "view-in-github",
        "colab_type": "text"
      },
      "source": [
        "<a href=\"https://colab.research.google.com/github/LuisaMariaMontoyaConde1994/ESTADISTICAII/blob/main/ACTIVIDA_BINOMIAL.ipynb\" target=\"_parent\"><img src=\"https://colab.research.google.com/assets/colab-badge.svg\" alt=\"Open In Colab\"/></a>"
      ]
    },
    {
      "cell_type": "code",
      "execution_count": null,
      "metadata": {
        "id": "YL3ZnuUt1T7x"
      },
      "outputs": [],
      "source": []
    },
    {
      "cell_type": "markdown",
      "source": [
        "Nicolás Esteban Lopez Quevedo"
      ],
      "metadata": {
        "id": "gdGvhO5D2gAK"
      }
    },
    {
      "cell_type": "markdown",
      "source": [
        "# Actividad\n",
        "En una elección, un candidato tiene una probabilidad del 60% de recibir un voto en cada votación individual. Si se emiten 20 votos.\n",
        "\n",
        "\n",
        "1.   ¿Cuál es la probabilidad que que al menos el candidato obtenga 12 votos?\n",
        "2.   ¿Cuál es la probabilidad  que a lo más 10 votos?\n",
        "3.   ¿Cuál es la probabilidad  que obtenga entre 9 y 16 votos?\n",
        "4.   ¿Cuál es la probabilidad  que obtenga 15 votos exactamente?"
      ],
      "metadata": {
        "id": "iLSCIaMg1VBT"
      }
    },
    {
      "cell_type": "code",
      "source": [
        "import numpy as np\n",
        "import matplotlib.pyplot as plt\n",
        "from scipy.stats import binom"
      ],
      "metadata": {
        "id": "WLaszM5C2F9K"
      },
      "execution_count": 1,
      "outputs": []
    },
    {
      "cell_type": "markdown",
      "source": [
        "1. Cuál es la probabilidad que que al menos el candidato obtenga 12 votos?\n",
        "$$p(x \\geq 12) = 1-p(X\\leq 12)$$\n",
        "\n"
      ],
      "metadata": {
        "id": "tcKsDeA32K1K"
      }
    },
    {
      "cell_type": "code",
      "source": [
        "n=20\n",
        "p=0.6\n",
        "x=12\n",
        "prob_1=1-binom.cdf(x, n, p)\n",
        "print(prob_1)"
      ],
      "metadata": {
        "colab": {
          "base_uri": "https://localhost:8080/"
        },
        "id": "aVtEdqEG3HJL",
        "outputId": "a312cb95-7976-4f1f-b05a-f3c4c70963ef"
      },
      "execution_count": 2,
      "outputs": [
        {
          "output_type": "stream",
          "name": "stdout",
          "text": [
            "0.41589293755753554\n"
          ]
        }
      ]
    },
    {
      "cell_type": "markdown",
      "source": [
        "La probabilidad de que el candidato obtenga a lo menos $12$ votos es de $41\\%$ aproximadamente\n"
      ],
      "metadata": {
        "id": "D_wIygUr4I8b"
      }
    },
    {
      "cell_type": "markdown",
      "source": [
        "2. ¿Cual es la probabilidad que a lo mas obtenga 10 votos?\n",
        "$$P(X\\geq 10)$$"
      ],
      "metadata": {
        "id": "haQTprHZ5xKJ"
      }
    },
    {
      "cell_type": "code",
      "source": [
        "n=20\n",
        "p=0.6\n",
        "x=10\n",
        "prob_1=binom.cdf(x, n, p)\n",
        "print(prob_1)"
      ],
      "metadata": {
        "colab": {
          "base_uri": "https://localhost:8080/"
        },
        "id": "ksiijmzu6AMM",
        "outputId": "810c97af-3e4b-44c4-e474-4d64f1abe47b"
      },
      "execution_count": 3,
      "outputs": [
        {
          "output_type": "stream",
          "name": "stdout",
          "text": [
            "0.24466279668360685\n"
          ]
        }
      ]
    },
    {
      "cell_type": "markdown",
      "source": [
        "La probabilidad que el candidato obtenga a lo mas $10$ votos es de $24\\%$ aproximadamente\n"
      ],
      "metadata": {
        "id": "tGClbilZ6niB"
      }
    },
    {
      "cell_type": "markdown",
      "source": [
        "3. ¿Cuál es la probabilidad que obtenga entre 9 y 16 votos?\n",
        "$$P(9\\leq x \\leq 16)$$"
      ],
      "metadata": {
        "id": "mCdV6AGt67RC"
      }
    },
    {
      "cell_type": "code",
      "source": [
        "n=20\n",
        "p=0.6\n",
        "x_1=9\n",
        "x_2=16\n",
        "prob=binom.cdf(x_2,n,p)-binom.cdf(x_1,n,p)\n",
        "print(prob)"
      ],
      "metadata": {
        "colab": {
          "base_uri": "https://localhost:8080/"
        },
        "id": "LH1BCzjt7D9Z",
        "outputId": "59609a96-6cbf-4655-9a12-f36102934390"
      },
      "execution_count": 4,
      "outputs": [
        {
          "output_type": "stream",
          "name": "stdout",
          "text": [
            "0.856517591062775\n"
          ]
        }
      ]
    },
    {
      "cell_type": "markdown",
      "source": [
        "La probabilidad que el candidato obtenga entre $9$ y $16$ votos es de  $85\\%$  aproximadamente\n"
      ],
      "metadata": {
        "id": "k87Y9O_I7fjh"
      }
    },
    {
      "cell_type": "markdown",
      "source": [
        "4. ¿Cuál es la probabilidad que obtenga 15 votos exactamente?\n",
        "$$P(x=15)=\\binom{20}{15}(0.6)^{15}(0.4)^{20-15}$$\n",
        "$$P(x=15)=0.074$$"
      ],
      "metadata": {
        "id": "30cLqQgF7zbB"
      }
    },
    {
      "cell_type": "code",
      "source": [
        "n=20\n",
        "p=0.6\n",
        "x=15\n",
        "pro=binom.pmf(x, n, p)\n",
        "print(pro)"
      ],
      "metadata": {
        "colab": {
          "base_uri": "https://localhost:8080/"
        },
        "id": "qrDfBCbp7_WY",
        "outputId": "a15eae4a-9637-404c-f175-b88936911189"
      },
      "execution_count": 5,
      "outputs": [
        {
          "output_type": "stream",
          "name": "stdout",
          "text": [
            "0.07464701952887111\n"
          ]
        }
      ]
    },
    {
      "cell_type": "markdown",
      "source": [
        "La probabilidad de que obtenca exactamente $15$ votos es de $7.4\\%$"
      ],
      "metadata": {
        "id": "Ah1OlLds9QVY"
      }
    }
  ]
}