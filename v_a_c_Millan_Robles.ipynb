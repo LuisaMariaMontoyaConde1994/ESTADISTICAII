{
  "nbformat": 4,
  "nbformat_minor": 0,
  "metadata": {
    "colab": {
      "provenance": [],
      "authorship_tag": "ABX9TyMiJQBk+zL7AlKvXwsVHAYt",
      "include_colab_link": true
    },
    "kernelspec": {
      "name": "python3",
      "display_name": "Python 3"
    },
    "language_info": {
      "name": "python"
    }
  },
  "cells": [
    {
      "cell_type": "markdown",
      "metadata": {
        "id": "view-in-github",
        "colab_type": "text"
      },
      "source": [
        "<a href=\"https://colab.research.google.com/github/LuisaMariaMontoyaConde1994/ESTADISTICAII/blob/main/v_a_c_Millan_Robles.ipynb\" target=\"_parent\"><img src=\"https://colab.research.google.com/assets/colab-badge.svg\" alt=\"Open In Colab\"/></a>"
      ]
    },
    {
      "cell_type": "markdown",
      "source": [
        "Laura Valentina Millán Castro"
      ],
      "metadata": {
        "id": "UM2G4IArCNmr"
      }
    },
    {
      "cell_type": "markdown",
      "source": [
        "Juan David Robles Salamanca"
      ],
      "metadata": {
        "id": "IsOsg3UHCU66"
      }
    },
    {
      "cell_type": "markdown",
      "source": [
        "$$\\int_{1}^{2} x^{2}dx$$\n"
      ],
      "metadata": {
        "id": "kTnTVk05CY6C"
      }
    },
    {
      "cell_type": "markdown",
      "source": [
        "La demanda semanal de una bebida en una cadena de almacenes se distribuye v.a continua.$$f(x)= \\left\\{ \\begin{array}{lcc} 2(x-1) & si & 1<x<2 \\\\ \\\\ 0 &  & en \\ otro\\  caso &  & \\end{array} \\right.$$ . Hallar el valor esperado $$\\mu$$\n",
        "\n",
        "$$\\mu=\\int_{-\\infty}^{\\infty}xf(x)dx=\\int_{1}^{2}x(2x-1))dx$$\n",
        "\n",
        "$$\\mu=\\int_{1}^{2} 2x^{2}-x \\ dx$$\n",
        "\n",
        "$$\\mu={2}\\int_{1}^{2}x^2dx-\\int_{1}^{2}xdx$$\n",
        "\n",
        "$$\\mu={2}[\\int_{1}^{2}\\frac{x^{2+1}}{2+1}-\\int_{1}^{2}\\frac{x^{1+1}}{1+1}]$$\n",
        "\n",
        "$$\\mu=2\\frac{x^3}{3}-\\frac{x^2}{2}\\int_{1}^{2}$$\n",
        "\n",
        "$$\\mu=\\frac{2x^3}{3}-\\frac{x^2}{2}\\int_{1}^{2}$$\n",
        "\n",
        "$$\\mu=[(\\frac{2(2)^3}{3})-(\\frac{2^2}{2})]-[(\\frac{2(1)^3}{3})-(\\frac{1^2}{2})]$$\n",
        "\n",
        "$$\\mu=[(\\frac{2(8)}{3}-\\frac{4}{2})]-[\\frac{2(1)}{3}-\\frac{1}{2}]$$\n",
        "\n",
        "$$\\mu=(\\frac{16}{3}-\\frac{4}{2})-(\\frac{2}{3}-\\frac{1}{2})$$\n",
        "\n",
        "$$\\mu=(\\frac{(16*2)+(-4*3)}{3*2})-(\\frac{(2*2)-(3*1)}{3*2})$$\n",
        "\n",
        "$$\\mu=(\\frac{32-12}{6})-(\\frac{4-3}{6})$$\n",
        "\n",
        "$$\\mu=\\frac{20}{6}-\\frac{1}{6}$$\n",
        "\n",
        "$$\\mu=\\frac{19}{6}$$\n",
        "\n",
        "##El valor esperado de la bebida en los almacenes de cadena será de $$\\mu=\\frac{19}{6}$$"
      ],
      "metadata": {
        "id": "ijjqGlj8C1-D"
      }
    }
  ]
}