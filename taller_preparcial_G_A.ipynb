{
  "nbformat": 4,
  "nbformat_minor": 0,
  "metadata": {
    "colab": {
      "provenance": [],
      "authorship_tag": "ABX9TyOmFBlx+5z15d3ZFtnylgSo",
      "include_colab_link": true
    },
    "kernelspec": {
      "name": "python3",
      "display_name": "Python 3"
    },
    "language_info": {
      "name": "python"
    }
  },
  "cells": [
    {
      "cell_type": "markdown",
      "metadata": {
        "id": "view-in-github",
        "colab_type": "text"
      },
      "source": [
        "<a href=\"https://colab.research.google.com/github/LuisaMariaMontoyaConde1994/ESTADISTICAII/blob/main/taller_preparcial_G_A.ipynb\" target=\"_parent\"><img src=\"https://colab.research.google.com/assets/colab-badge.svg\" alt=\"Open In Colab\"/></a>"
      ]
    },
    {
      "cell_type": "markdown",
      "source": [
        "Gabriel Aguilar"
      ],
      "metadata": {
        "id": "ie8oAaYMSH3j"
      }
    },
    {
      "cell_type": "markdown",
      "source": [
        "1. Clasifique las siguientes variables aleatorias como discretas o continuas\n",
        " ## X: el número de accidentes automovilisticos que ocurren en el año en Virginia.##\n",
        " ## Y: el tiempo para jugar 18 hoyos de golf##\n",
        " ## M: la cantidad de leche que una vaca especifica produce anualmente.##\n",
        " ## N: el número de huevos que una gallina pone mensualmente##\n",
        " ## P: el número de permisos para construcción que los funcionarios de una ciudad emiten cada mes.##\n",
        " ## Q: el peso del grano producido por acre.##\n",
        "\n",
        "Solución\n",
        "\n",
        " Variable aleatoria discreta: es aquella variable aleatoria que se puede asumir un número contable de valores.\n",
        "\n",
        " Variable aleatoria continua: es aquella variable aleatoria que puede asumir un número incontable de valores.\n",
        "\n",
        " X=discreta\n",
        " Y=continua\n",
        " M=continua\n",
        " N= discreta\n",
        " P=discreta\n",
        " Q=continua\n"
      ],
      "metadata": {
        "id": "CWfIMQCLcTrR"
      }
    },
    {
      "cell_type": "markdown",
      "source": [
        "2) considere la función de densidad\n",
        "$$f(x)= \\left\\{ \\begin{array}{lcc} k\\sqrt{x} & si & 0<x<1 \\\\ \\\\ 0 &  & en \\ otro\\  caso &  & \\end{array} \\right.$$\n",
        "\n",
        "Evalúe K.\n",
        "Calcule f(x) y utilice el resultado para evaluar\n",
        "$$p(0.3<x<0.6)$$\n",
        "\n",
        "Solución\n",
        "$$\\int_{a}^{b} f(x)=1$$\n",
        "$$1=k\\int_{0}^{1}\\sqrt{x}dx=$$\n",
        "$$k\\int_{0}^{1} x^\\frac{1}{2}dx=$$\n",
        "$$k(\\frac{x^\\frac{1}{2}+1}{\\frac{1}{2}+1})=$$\n",
        "$$k(\\frac{x^\\frac{3}{2}}{\\frac{3}{2}})=$$\n",
        "$$k[(\\frac{2}{3}(1)^\\frac{3}{2})-(\\frac{2}{3}(0)^\\frac{3}{2})]=$$\n",
        "$$k[(\\frac{2}{3}(1)-(\\frac{2}{3}(0)]=$$\n",
        "$$k[(\\frac{2}{3}-(0)]=$$\n",
        "$$k\\frac{2}{3}=1$$\n",
        "$$k=\\frac{3}{2}$$\n",
        "\n",
        "Calcule f(x)\n",
        "$$f(x)=\\frac{3}{2}\\int_{0}^{x}\\sqrt{t}dt=$$\n",
        "$$\\frac{3}{2}\\int_{0}^{x}t^\\frac{1}{2}dt=$$\n",
        "$$\\frac{3}{2}(\\frac{t^\\frac{1}{2}+1}{\\frac{1}{2}+1})=$$\n",
        "$$\\frac{3}{2}(\\frac{t^\\frac{3}{2}}{\\frac{3}{2}})=$$\n",
        "$$\\frac{3}{2}(\\frac{2}{3}t^\\frac{3}{2})=$$\n",
        "$$x^\\frac{3}{2}-0^\\frac{3}{2}=$$\n",
        "$$x^\\frac{3}{2}$$\n",
        "$$f(x)= \\left\\{ \\begin{array}{lcc} 0 & si & 0<x \\\\ \\\\ x^\\frac{3}{2}  & si & 0 <x <1\\\\ \\\\  1 & si & x >1\\end{array} \\right.$$\n",
        "$$f(x)=(0.3)^\\frac{3}{2}+(0.6)^\\frac{3}{2}=$$\n",
        "$$f(x)=0,1646+0,4647=0,629$$\n",
        "\n"
      ],
      "metadata": {
        "id": "ysoJN4QchC_z"
      }
    },
    {
      "cell_type": "markdown",
      "source": [
        "3. El Departamento de enredia (DE) asigna proyectos mediante licitación y,por lo general,estima lo que debería ser una licitación razonable.Sea b el estimado.El DE determinó que la función de densidad de la licitación ganadora (baja) es\n",
        "\n",
        "$$f(y)= \\left\\{ \\begin{array}{lcc} \\frac{5}{8b} & si & \\frac{2}{5}b<y<2b \\\\ \\\\ 0 &  & en \\ otro\\  caso &  & \\end{array} \\right.$$\n",
        "\n",
        "\n",
        "\n",
        "*   demuestre que es una función de probabilidad\n",
        "*   halle el valor esperado y la varianza\n",
        "\n",
        "\n",
        "$$\\frac{5}{8b}\\int_{\\frac{2}{5}b}^{2b}dy=$$\n",
        "$$=\\frac{5}{8b}y\\int_{\\frac{2}{5}b}^{2b}dy=$$\n",
        "$$=\\frac{5}{8b}(2b)-\\frac{5}{8b}(\\frac{2}{5}b)=$$\n",
        "$$=\\frac{5}{8b}(2b)-\\frac{5(2)b}{\\frac{5}{8b}}=$$\n",
        "$$=\\frac{10b}{8b}-\\frac{5(2)b}{5(8b)}=$$\n",
        "$$=\\frac{10}{8}-\\frac{2}{8}=$$\n",
        "$$=\\frac{10-2}{8}=$$\n",
        "$$=\\frac{8}{8}=1$$\n",
        "\n",
        "\n",
        "Valor esperado\n",
        "$$E(Y)=\\int_{\\frac{2}{5}b}^{2b}\\frac{5}{8b}dy=$$\n",
        "$$=\\int_{\\frac{2}{5}b}^{2b}(\\frac{y}{1})\\frac{5}{8b}dy=$$\n",
        "$$=\\int_{\\frac{2}{5}b}^{2b}\\frac{5y}{8b}dy=$$\n",
        "$$=\\frac{5}{8b}\\int_{\\frac{2}{5}b}^{2b}ydy=$$\n",
        "$$=(\\frac{5}{8b})\\frac{y^2}{2}=$$\n",
        "$$=\\frac{5y^2}{16b}=$$\n",
        "$$=\\frac{5(2b)^2}{16b}-\\frac{5(\\frac{2}{5}b)^2}{16b}=$$\n",
        "$$=\\frac{5(4b^2)}{16b}-\\frac{5(\\frac{4}{25}b^2)}{16b}=$$\n",
        "$$=\\frac{5b}{4}-\\frac{\\frac{4}{5}b}{16}=$$\n",
        "$$=\\frac{5b}{4}-\\frac{4b}{5}(\\frac{1}{16})=$$\n",
        "$$=\\frac{5b}{4}-\\frac{b}{5(4)}=$$\n",
        "$$=\\frac{5b}{4}-\\frac{b}{20}=$$\n",
        "$$=\\frac{5b(5)}{4(5)}-\\frac{b}{20}=$$\n",
        "$$=\\frac{25b}{20}-\\frac{b}{20}=$$\n",
        "$$=\\frac{25b-b}{20}=$$\n",
        "$$=\\frac{24b}{20}=$$\n",
        "$$=\\frac{6b}{5}=$$\n",
        "$$=\\frac{6}{5}b=$$\n",
        "$$=1,2b$$\n",
        "\n",
        "el valor esperado es de 1,2\n"
      ],
      "metadata": {
        "id": "hOCdRBKn00ZE"
      }
    },
    {
      "cell_type": "markdown",
      "source": [
        "4, Considere la función de dencidad\n",
        "$$f(x)= \\left\\{ \\begin{array}{lcc} k\\sqrt{x} & si & 0<x<1 \\\\ \\\\ 0 &  & en \\ otro\\  caso &  & \\end{array} \\right.$$\n",
        "\n",
        "\n",
        "*   Calcule F(X) y utilice el resultado para evaluar\n",
        "\n",
        "$$p(0.3<x<0.6)$$\n",
        "\n",
        "Solución\n",
        "$$\\int_{a}^{b} f(x)=1$$\n",
        "$$1=k\\int_{0}^{1}\\sqrt{x}dx=$$\n",
        "$$k\\int_{0}^{1} x^\\frac{1}{2}dx=$$\n",
        "$$k(\\frac{x^\\frac{1}{2}+1}{\\frac{1}{2}+1})=$$\n",
        "$$k(\\frac{x^\\frac{3}{2}}{\\frac{3}{2}})=$$\n",
        "$$k[(\\frac{2}{3}(1)^\\frac{3}{2})-(\\frac{2}{3}(0)^\\frac{3}{2})]=$$\n",
        "$$k[(\\frac{2}{3}(1)-(\\frac{2}{3}(0)]=$$\n",
        "$$k[(\\frac{2}{3}-(0)]=$$\n",
        "$$k\\frac{2}{3}=1$$\n",
        "$$k=\\frac{3}{2}$$\n",
        "\n",
        "Calcule f(x)\n",
        "$$f(x)=\\frac{3}{2}\\int_{0}^{x}\\sqrt{t}dt=$$\n",
        "$$\\frac{3}{2}\\int_{0}^{x}t^\\frac{1}{2}dt=$$\n",
        "$$\\frac{3}{2}(\\frac{t^\\frac{1}{2}+1}{\\frac{1}{2}+1})=$$\n",
        "$$\\frac{3}{2}(\\frac{t^\\frac{3}{2}}{\\frac{3}{2}})=$$\n",
        "$$\\frac{3}{2}(\\frac{2}{3}t^\\frac{3}{2})=$$\n",
        "$$x^\\frac{3}{2}-0^\\frac{3}{2}=$$\n",
        "$$x^\\frac{3}{2}$$\n",
        "$$f(x)= \\left\\{ \\begin{array}{lcc} 0 & si & 0<x \\\\ \\\\ x^\\frac{3}{2}  & si & 0 <x <1\\\\ \\\\  1 & si & x >1\\end{array} \\right.$$\n",
        "$$f(x)=(0.3)^\\frac{3}{2}+(0.6)^\\frac{3}{2}=$$\n",
        "$$f(x)=0,1646+0,4647=0,629$$\n",
        "\n",
        "\n"
      ],
      "metadata": {
        "id": "mFesvDcEQcIo"
      }
    },
    {
      "cell_type": "markdown",
      "source": [
        "5. Las mediciones en los sistemas científicos siempre están sujetas a variación,algunas veces más que otras.Hay muchas estructuras para los errores de medición y los estadísticos pasan mucho tiempo modelándolos.Suponga que el error de medición x de cierta cantidad física es determinado por la siguiente función de densidad:\n",
        "\n",
        "$$f(x)= \\left\\{ \\begin{array}{lcc} k(3-x^2) & si & -1\\leq x\\leq1 \\\\ \\\\ 0 &  & en \\ otro\\  caso &  & \\end{array} \\right.$$\n",
        "\n",
        "\n",
        "\n",
        "*   Demuestre si es una función de probabilidad\n",
        "\n",
        "Solución\n",
        "\n",
        "$$\\int_{a}^{b}F(x)=1$$\n",
        "$$1=k\\int_{-1}^{1}3dx-\\int_{-1}^{1}x^2dx=$$\n",
        "$$k=3(-1-1)-\\frac{x^2+1}{2+1}=$$\n",
        "$$k=3(-2)-\\frac{x^3}{3}=$$\n",
        "$$k=-6-\\frac{1^3}{3}-\\frac{-1^3}{3}=$$\n",
        "$$k=-6-\\frac{1}{3}-\\frac{-1}{3}=$$\n",
        "$$k=-6-\\frac{1}{3}+\\frac{1}{3}=$$\n",
        "$$k=-6-\\frac{2}{3}=$$\n",
        "$$k=-\\frac{6(3)}{3}-\\frac{2}{3}=$$\n",
        "$$k=-\\frac{18}{3}-\\frac{2}{3}=$$\n",
        "$$k=\\frac{-18-2}{3}=$$\n",
        "$$k=-\\frac{20}{3}=$$\n",
        "$$K-\\frac{20}{3}=1$$\n",
        "$$k=-\\frac{3}{20}$$\n",
        "\n",
        "\n",
        "\n",
        "\n",
        "\n",
        "\n",
        "\n",
        "\n"
      ],
      "metadata": {
        "id": "f-p70vTfRkil"
      }
    },
    {
      "cell_type": "markdown",
      "source": [
        "6. Las impurezas en el lote del producto final de un proceso químico a menudo reflejan un grave problema.A partir de una cantidad considerable de datos recabados en la planta se sabe que la proporción Y de las impurezas en un lote tiene una función de densidad dada por\n",
        "$$f(y)= \\left\\{ \\begin{array}{lcc} 10(1-y)^9 & si & 0\\leq y\\leq1 \\\\ \\\\ 0 &  & en \\ otro\\  caso &  & \\end{array} \\right.$$\n",
        "\n",
        "* Demuestre si la función se distribuye como una función de densidad continua\n",
        "\n",
        "$$10\\int_{0}^{1}(1-y)^9dy$$\n",
        "$$u=1-y$$\n",
        "$$du=-1dy$$\n",
        "$$-du=dy$$\n",
        "$$10\\int_{0}^{1}u^9(-du)=$$\n",
        "$$=-10\\int_{0}^{1}u^9(du)$$\n",
        "$$=-10(\\frac{u^9+1}{9+1})=$$\n",
        "$$=\\frac{-10(u)^10}{10}=$$\n",
        "$$=-(1-y)^10=$$\n",
        "$$=-(1-1)^10-[-(-1-0)^10]=$$\n",
        "$$=0-(-1)=$$\n",
        "$$1$$\n",
        "\n"
      ],
      "metadata": {
        "id": "TXgh6Gtrb3qt"
      }
    },
    {
      "cell_type": "markdown",
      "source": [
        "7. Sea X una variable aleatoria con la siguiente distribución de probabilidad![distribucion.jpg](data:image/jpeg;base64,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)\n",
        "\n",
        "*Calcule la desviación estandar de X\n",
        "\n",
        "Solución\n",
        "$$μ=-2(0.3)+3(0.2)+5(0.5)=$$\n",
        "$$μ=-0.6+0.6+2.5=$$\n",
        "$$μ=0+2.5=$$\n",
        "$$μ=2.5$$"
      ],
      "metadata": {
        "id": "NDZXj-Vgc_YB"
      }
    },
    {
      "cell_type": "markdown",
      "source": [
        "8.La utilidad de un distribuidor, en unidades de $5000,por un automóvil nuevo es una variable aleatoria X que tiene la siguiente función de densidad\n",
        "\n",
        "$$f(x)= \\left\\{ \\begin{array}{lcc} 2(1-x) & si & 0\\leq x\\leq1 \\\\ \\\\ 0 &  & en \\ otro\\  caso &  & \\end{array} \\right.$$\n",
        "\n",
        "*Calcule la varianza de la utilidad del distribuidor\n",
        "\n",
        "Solución\n",
        "\n",
        "$$E(x)=\\int_{a}^{b}x(F(X))dx=$$\n",
        "$$E(x)=\\int_{0}^{1}x(2(1-x))dx=$$\n",
        "$$E(x)=\\int_{0}^{1}x(2-2x))dx=$$\n",
        "$$E(x)=\\int_{0}^{1}2x-2x^2dx=$$\n",
        "$$E(x)=x^2-\\int_{0}^{1}2x^2dx=$$\n",
        "$$R(x)=x^2-\\frac{2x^2+1}{2+1}=$$\n",
        "$$E(X)=x^2-\\frac{2x^3}{3}=$$\n",
        "$$E(x)=1^2-\\frac{2(1)^3}{3}-(0^2-\\frac{2(0)^3}{3})=$$\n",
        "$$E(x)=1-\\frac{2(1)}{3}-(0-\\frac{2(0)}{3})=$$\n",
        "$$E(x)=1-\\frac{2}{3}-(-\\frac{0}{3})=$$\n",
        "$$E(x)=1-\\frac{2}{3}-(0)=$$\n",
        "$$E(x)=1-\\frac{2}{3}-0=$$\n",
        "$$E(x)=1-\\frac{2}{3}=$$\n",
        "$$E(x)=\\frac{1}{1}-\\frac{2}{3}=$$\n",
        "$$E(x)=\\frac{3-2}{3}=$$\n",
        "$$=E(X)=\\frac{1}{3}=$$\n",
        "$$var(X)=\\int_{a}^{b}x^2(f(x))dx-E(X)^2=$$\n",
        "$$var(X)=\\int_{0}^{1}x^2(2(x-1))dx=$$\n",
        "$$var(X)=\\int_{0}^{1}x^2(2-2x)dx=$$\n",
        "$$var(X)=\\int_{0}^{1}2x^2-2x^3dx=$$\n",
        "$$var(X)=2\\int_{0}^{1}x^2-2\\int_{0}^{1}x^3dx=$$\n",
        "$$var(x)=2(\\frac{x^2+1}{2+1})-2(\\frac{x^3+1}{3+1})=$$\n",
        "$$var(x)=2(\\frac{x^3}{3})-2(\\frac{x^4}{4})=$$\n",
        "$$var(x)=\\frac{2}{1}(\\frac{x^3}{3})-\\frac{2}{1}(\\frac{x^4}{4})=$$\n",
        "$$var(X)=\\frac{2x^3}{3}-\\frac{2x^4}{4}=$$\n",
        "$$var(X)=\\frac{2(1)^3}{3}-\\frac{2(1)^4}{4}-(\\frac{2(0)^3}{3}-\\frac{2(0)^4}{4})=$$\n",
        "$$var(X)=\\frac{2(1)}{3}-\\frac{2(1)}{4}-(\\frac{2(0)}{3}-\\frac{2(0)}{4})=$$\n",
        "$$var(x)=\\frac{2}{3}-\\frac{2}{4}-(\\frac{0}{3}-\\frac{0}{4})=$$\n",
        "$$var(X)=\\frac{2}{3}-\\frac{1}{2}-0-0=$$\n",
        "$$var(x)=\\frac{4-3}{6}=$$\n",
        "$$var(x)=\\frac{1}{6}=$$\n",
        "$$0.17$$"
      ],
      "metadata": {
        "id": "s9ZoxVLXa5_t"
      }
    },
    {
      "cell_type": "markdown",
      "source": [
        "9. Mediante un conjunto de datos,y por la amplia investigación,se sabe que la cantidad de tiempo que cierto empleado de una empresa llega tarde a trabajar,medido en segundos,es una variable aleatoria x con la siguiente función de densidad\n",
        "\n",
        "\n",
        "$$f(x)= \\left\\{ \\begin{array}{lcc} \\frac{3}{(4)(50^3)}(50^2-x^2) & si & -50\\leq x\\leq50 \\\\ \\\\ 0 &  & en \\ otro\\  caso &  & \\end{array} \\right.$$\n",
        "\n",
        "\n",
        "En otras palabras,él no sólo llega ligeramente retrasado aveces,sino que también puede llegar temprano a trabajar.\n",
        "\n",
        "*calcule el valor esperado dl tiempo en segundos que llega tarde.\n",
        "\n",
        "*¿Cuál es la desviación estándar del tiempo en que llega tarde?"
      ],
      "metadata": {
        "id": "SwLaXgXJxqiW"
      }
    },
    {
      "cell_type": "markdown",
      "source": [
        "10. Se entregan dos altavoces idénticos a 12 personas y se les pide que los escuchen para determinar si hay alguna diferencia entre ellos.suponga que sus respuestas son simplemente conjeturas.Calcule la probabilidad de que tres personas afirmen haber detectado una diferencia entre los dos altavoces.\n",
        "\n",
        "*x=12\n",
        "*k=3\n",
        "*q=0,50\n",
        "*p=0,50\n",
        "\n",
        "$$P(X=3)=\\binom{12-1}{3-1}0,50^3 0,50^12-3=$$\n",
        "$$=\\binom{11}{2}0,50^3 0,50^12-3=$$\n",
        "$$=55(0,50^3) (0,50^9)=$$\n",
        "$$=55(0,125)(0.001953)=0.01340*100=1.34%$$\n",
        "\n",
        "la probabilidad es de 1,34%\n",
        "\n"
      ],
      "metadata": {
        "id": "473KsXE97gS-"
      }
    },
    {
      "cell_type": "markdown",
      "source": [
        "11. Sea X una variable aleatoria discreta confunción de densidad dada por:\n",
        "\n",
        "![punto 11.png](data:image/png;base64,iVBORw0KGgoAAAANSUhEUgAAAXMAAABBCAIAAACsHdPXAAAAAXNSR0IArs4c6QAAAARnQU1BAACxjwv8YQUAAAAJcEhZcwAADsMAAA7DAcdvqGQAACWySURBVHhe7Z15XFXXtcdNjbOIEWdxIFpxtsEBcaoDGHGMqGhFZYhjCQqiiBYHnIc6oEapoFitVVGMiFPE4jzGRhyiFLBq1KR1qnWqaZv0fR97v/tuEc7d51wuxuT+/uBzzz7D3nvttX7rt84591LkP3bYYYcdBY3czHL37t0rV65csMMOO+zIB9nZ2c+fP5eUkQ9yM0twcHCfPn169OjR046Cg7e3t5eXV7du3eT26wBr+n4OCmFx6cLT07Nw+sK2Yl5y25bo3r0761hQkxowYMDgwYN9fHzktgLEZHGkQjBsfqDrESNG/PGPf/z2228la+SF3MzSqFGjQYMGRUVFzbWj4BAUFFSzZs1OnTrJ7deBX/3qV25ubj//+c+nTZsmm2yGyMhIBweHFi1aREREyCabISAgwN3dvRBsO2vWLF9f32rVqpF9ZZN1+PWvf71s2bLFixfLbQVMnjy5a9eujCEsLEw2FTrCw8NdXV137tz5zTffSNbIC7mZBefbtWvXs2fP5LYdBYE//OEP7dq1W7Rokdx+HXj69GloaOjs2bP//ve/yyab4d69e61atfrwww+//PJL2WQzfPrpp7/85S/hTbltMxBIv//973/2s5+RrmVToePhw4d40XvvvfenP/1JNhU6/vznP//0pz/93e9+949//EM25YXczAIjnjp16t///rfctqMgALMgFn7729/K7dcEkuTHH39cCMzyt7/9bfTo0SEhIXfu3JFNNsOPiln++c9//uY3v3kjmaVt27YHDx58+fKl3LajIKCXWb777juKWFbhX//6F59lq9XQxSw48fPnz1GvL168IKh0DQNmoRRH5yNeZFP+4MrMlFGBJ0+e8Fm7gM8Fw8xC+qRH9b50MQuXZS6YjukAghBjaoeiCgwwCy5E18wU0arXtnnCILN07979/PnzcsOOAoIuZsEVcIIbN25ABEeOHLF4E14d6szCGJKSkgIDA3v37h0cHBwXFwdZyH0KgFA8PDzQ7RaZBVr5y1/+snLlyvo54Cz4KCsrS+5WgDFmISogCHq8ffs2k5WtmtDFLEyhadOmkyZNWrhwIWaPjo4eM2bM3LlzrQxsvcwClVCCBAUFNWjQ4P3332ckN2/etHIMdmb5HkGdWTIyMmbOnIkfVKhQoWzZslOnTv3rX/8q91kNRWYh04aHh3t6ek6cODE2NnbcuHHVq1d3cXE5duwYu+RBmrh//36XLl0oiIhb2ZQXoBWilKLJx8cH8gIoncaNGw8bNuzcuXPyIEswxiwXL17s3Llz0aJFYXBbMMvVq1dLlSpVunTpMmXKsI61atViasePH5e7jUIXs5CTNmzY0KNHDz8/Pz4sWbKEdYTub926JY8wBDuzfI+gzizEZFpa2pw5c/r27VukSBFim5Qu91kNFWYhoaWmpkJtuOAXX3wBr50+fZp8SxAS/19++aVKWcQsmK/FO7jUI4mJibg76Z1TADTRqVMn4hBKRbjJ4zRhgFmys7MREeXKlcPCxIktmAXTlShRwsvLa9CgQUOGDMHsV65cUZyRBtSZhSPj4+PhdwYAjeJFy5YtK1++PLoJ2SIPMgSDzOLu7r5v3z7F1GSHItSZBYeg7jh79uyECRNeC7MQ7QsWLHjnnXdMwuHZs2cHDx4sXry4k5MTqVhFSz98+HDw4MFkaYvMsmPHjtq1a6NTRAsx4O3tTe9w2ZMnT0SjNvQyy+PHj7dt20YGbdiwoe2YBe1Zo0aNvXv3njlz5rPPPrt7965iL9pQZ5bLly+zBC1atKC6pGtW7eTJkxEREfy18smvzZmFsV64cAHDkdPu3LnDguF2wpQFYsQfEvTewb137966detel2bZvHlz/fr1YRZWVjRmZWUh7BkPka/y3FA8G0J3fPXVV7IpLyB/8BlU+sKFC0WLMFTdunVRbUSyaNSGLmZhdqdOnSLYIG6Sue2YRdxnyczMJEnQI0RDgMh9VkCdWRISEjgMmt6yZQsDYCkZDErK+hdKDDILWpRy2qKtuShMTHJbsWIF3o/QopCbNm2ar68vHsm0Fd3iRwK9zPLy5UsI+rUwi7ilOmPGjOTkZNE1S0l4lCxZsmLFioqaRTDLpk2bHj16JJvyAVfDlzievnAbyMjDw8Pf3//IkSPyCEvQxSwE/MocHD9+PDQ01HbMQhjXq1cP0pw3b15UVNTs2bP37NljPbnALHFxca1bt6agk035gNlRZrZv3566j8I2JiZm+fLl58+ff23M0qFDB+p8bV4ga924cSMwMBAq2bVrV+/evSmMGzVqRFFHYVmmTBmSnsXbhD8q6GUWfB118FqY5VWgOwjFEiVKoK4Rpyr3WQSz7N+/X6Wi4YL46M6dOwk/HKljx45JSUkqvQioMwtBRQqEvFJTUwkPmzILLFmnTh3yNDafOXMmq+/j43PgwAHtaLQImAUxgoksvoI4cOBABwcHgtHT0xPHo+qk+gsKCiJJWHmvwyCzYALSBROQ23kB6qXqIbeQWvGA4ODgKlWqoC1ZMOzITJAzVlrwB4Y3l1kYCRqWwbu4uFy6dIkVlzs0AbOMHDkyLCzs7t27sil/4EIQEImdYHB2dnZzc0Pwqz9rV2QWesGxhwwZsnbtWpzT1szy4MED5DxVrSgeKfco8bp27Zqeni4OMAYCMz4+vk2bNgxbNuUDwSwtW7Zcv349m5w4a9YsR0dH1uXChQviGGMwyCziTTntc/D13bt3Qy5iE2ZhAtSuYtOOV/HmMgtVg5+fH+tLiS6bFHD//n3yqoG3+/ft24eAx3HnzJmjSC6KzEKQoxrCw8PFo09bM0suIN969Ogh6iPZZAgQhOJ9FsEsMCn5gE0IjjE4OTlRSfFBHGMMBplF5e1+URuL6zJDRAreQE9irx2v4k1kFlaZoB02bFi/fv1wCcXwEyCM3d3dLTILOgIRhMAx6XPES0hISKVKlXr27JmZmSkataHILNRBCKJu3bpRwqMmJk+eTLWChZkgxbv2nWYBdWZBqW3atCk6OhqjibJOEFn58uV9fX3FMcagl1nGjh379ddfs2liFuqjmJgYxeduecIgs7i6um7cuNHijTcTDh8+3KpVK7IBH9hk5iQ3YU07TNDLLKTrtLS018ssqJUROTh06JCQD+hwRL7KHVwCtVy5coGBgdrMcvv2bcbTuXNnehEtXDwyMhJmadq0qZDxFqHILAkJCV5eXmRBiJKo69Kli3jaRe/Tp0/PyMiQx+UPRWbhMFR/hw4dGjZsaBJE165dGzNmTMWKFQMCAsRhxqDOLJiU7rCMeNPSxCw1a9bcsGGDNilowyCziO86a7/S8/DhQ9zuxIkTMAjqDo0HNWI7/I8SDs/Qljw/QuhlFvIMefU1MsudO3fGjx9P1FGVkIEhFGQLKQQdobK4ipoFbxk9ejQRTukkWqAkYo+8SlV+4MAB0agNRWa5fv06FEm1JYApxJty8NfJkydVUqkis2Cf1NRUig6sx2UFEdOjt7c3kbJ8+XJxmDGoMwv6oEWLFkOHDhVlLKPavXs3zEKA80ElPeQHg8xi8dkQ8hVaQUPiE9nZ2djL0dFxwoQJV65cOX369MyZMxcvXmzNuH+QUGcW6gKohOMHDx6M3yMGseqNGzd03RzJDyrMQrYgvOfOnYt6rV27Nhme8mHKlCmDBg2ifCC3qywuEQVBzJ49W5sWCQ/yUJUqVah98FeQmJhIZU2/kyZNUvxagyKzmEDWvHTp0vz58wWzEKjp6ekqb8eqV0MEM7UPk7p8+TKMRmEbHh4OHQwZMoTP8iBDUGcWfIYlQKOtXr2aMVy9ejU4OJh6kJEQqvIgQ7AVs7AGycnJ0KGLiwu1K4Ur8xw5cuTatWtJs+PGjcOZ7NVQLqgzC2rl6NGjKEEou379+njGqlWrtm7dqiLXLUKRWXAA1pcEywAI8qpVq+KRFO14KvpFZXHFU2eLZTXVPr7Uv39/+AtxBMhYGAqmIHvJgyxBL7Mgo6iM6LFx48ZMEMZct26d9vebBNSZ5fHjxxREvr6+jAp6DQsLE6/5f/LJJ1aGhjqzIFKY5gc5YAyMpFmzZsOHDz937pziA778YJBZunbtijjUULzsgg5jYmLILf7+/sg88gxLy6BjY2PFjWg7ckGdWfD7lJQUNLM5oAMrn1YKqDALkoQ1JVVER0fTdVRUFKUuCqJ3796UJ4rPawSzkHgoi2RTPoBcKKvpAncC5HnOIqmqe79eZrl16xZ0JgwrkJSUVLB3cAEJmHXs27cvhR7zioiIQHvqugueJ9SZBTApyB2hxAAYBmPIysrSEA2KMMgs7dq1o0q0ktXsyAW991lsBPX7LFZCvM8CtO+zFAj0Moth6GIWG0EXs9gIBpnF/l1nW+DHxixky0qVKgUFBdmZpWBhZxY7/gs/NmZ59OjRsGHDpk2bJl6msCnszFLIMMgsXl5eZ86csT/cKVh8H5jlxYsXkZGRCxYsKJxqaPTo0UlJSQXyBV9t2JmlkGGQWZo1a5aYmFgIzvejwveBWZ4/fx4RETF//vxCY5ZFixYV4A/i5Qc7sxQyDDIL5zB0yuNndhQc9uzZ0759+7Vr18rt1wEKkzFjxoSHh2dmZsommwH/6devX0BAQEZGhmyyGZKTk0eOHAlpym2bgRIvISGhadOmJ06ckE2Fjrt375Ibmjdvnp6eLpsKHVeuXKlbt65uZmnYsOH48eOJgY12FBwoQxo0aDBq1Ci5/Trw8ccfe3h4QHDz5s2TTTYDfZGikGnLly+XTTbDpEmTunbt2qdPH7ltM6xfv37s2LG1atWaNWuWbCp0YM8PPvigdu3a6EHZVOhYsmRJ1apVdTOLi4tLtWrV6tSp864dBQdMWrJkyUqVKsltPeDcEiVKcLqjo2O5cuWKFi1avnx5lknuVgbuWLZsWQcHB2dnZ9mkCUKIg9/KQbFixXS5BH0xYE7nIrJJExz/kxwUKVKEOSqOUACrlilTBpvIbUtwcnJiOqK7ChUqqFuSIytXrly8ePEaNWrIJmVgB5aPtcMmLKiYKfEpdyuD67zzzjv4Q82aNWWTGhg83TEA+jWBleVSeoOdrjGgbmZp0aIFtHT9+vWv7Cg4JCYmtmnTJiYmRm7rAee6ubmxLtQyQ4cOJTBCQkJu3boldyvj8uXL4st4aWlpskkT58+f9/X1LV26NByB82VnZ8sdCqCvli1b/uIXv+Aisil/oPAvXbpE4InYGz58+KFDh+Q+BSxbtszb2xuhLbctAcVBeMBfBPnUqVMp3OQOS8DmaLHGjRt/+umnskkZ2AG9AzFhk61bt0KFkMumTZvkbmVwnbCwsCZNmlCRySY13L59e/PmzbCSJJUcsLL4VVZWFksgj1PAmTNn4CndzGJ/6mwLGL6D+8033wwZMoTl37BhA5uUuH379n3vvfe0FzU/6Hrq/OLFCxIM7oj8rlevHgW23KEAcQdX/U25b7/99ubNm7Gxsbjs3Llzdd33NXAH9/nz58nJyfS1d+9ejdfNc8GaO7gE9sSJE1u1aiV+hZO6GBo1/cKROgzfwWWa+/fvDwgIiI+PT0lJiYuLw69cXV3Pnj0rj1BG4b3P8vLly4cPH+JMTBvr/yvnf7JpPLfOzMykXFy9erX5q+LfffcdV8DpOZHPGIJxW/klC1sAp09KStq2bZuuN7UNM8vjx4+bN2/eu3dv0jib5BYKbFLfo0ePDBhHF7NwfRaUkRtmli1btvBBNlkC9jx27BiKoBCYhanRF3FVaMxCjNy4cQMphxlx+ypVqjRs2PDo0aNytzIMMwthdfXqVbTh/fv3nzx5ghBGAhv7OQWDzEIAWPy1SnOkpqYiKZHZKOcJEyaEhoaGh4dDyTSuX7+eHMt6yENz8PTpU4qCmTNn0ov5omJxGlH7U6ZMmTZtGqcvXbpU/CAQXDtv3rzpOZgxYwbxaU5JhQysuXPnzoiICJK5emwbZha669WrFzpl3759bOJP/v7+VLkHDx7UFeoCBt6Uw/sNM0tUVJSuN+UgFLJ6ITALOHnyZIMGDQqNWXAVqPPOnTuwLdFB0YcLIQnlbmUYZhZA1OBOgmKItXHjxhn7r9sGmUXxt/tN+PzzzyECCBh15+npicpat24demTy5MnQDWGwfft2E09hXzZhn1d/1R1S37hxo5+fX+vWrevXr+/l5bV7927BSnBQUFCQm5sbNerKlSvT0tJe79eaMjIyYDqY9NSpU7LJEgwzC34wZ84cFmXx4sXU+cy9ZcuWVMi4uIGX0AqZWfR+b4gZubu7/yCZRQCz4AlkxxIlSgwbNuzChQvqvQtYwywmEKFjx47FG/X2LmCQWQhpSi/1bEyQQxYdOnRA4DFchJbA6dOnKeScnZ0HDRqECBQHo8TgjujoaFOLCfT44MEDGL1bt26lSpXCw6BYMYwDBw4EBgb279+fdSW66FF9eLYAA9izZ0/Pnj1DQkIUB2OYWcC5c+eIHPpas2YNqaZWrVpkvF27dmFkeYQyvufMQi4lbn+QzIJUx/nJpnzIzMzEGQhO0rCumQLrmYUxUFtQWFCdySadKLz7LAQMIhYuwO6yKQfLly+nbEZrmH52MCUlBQ7atm2b6XdPcwF9iAIqW7YslISQZtWzsrIogogrA7e7bAfGOXv2bOKNYFBxTWuYhZCGyNAs5Dq4m0WtWrUqUlF7XfPE95xZkpOTXV1dC41ZkMZkMnV5bg2zkEq3bt1KjhR5CFFfuXLljz76SO+vjljPLGfOnEH7I4Tltn4UErMg1ynY8HWqA/PZYsGFCxfiKC1atEhISGCThRkwYMDAgQORM/KgV8Aywz5NmzYtXbp0bGwsdSDlaGRkJP6t7gFWghlBfIQfsUSnbGJBBJS5PIFNKIWcnJyWLVuWH0uaw0rNsnnz5vT0dLyKeOjcuTMykMHI3XpggFkOHz7cu3fvd9991/QPLlRggFm4ODncxcUFAuUs9b70MotwxYMHD9auXZuaHWuwxHKfJqxhlsTERG9vbwQ7C4dTITlr1qw5ceJEMpM8Qg3WM0t8fHzHjh2pG+S2fhQSs+BD2AtmGTNmjPlPE7IM/v7+jo6Ow4cPp8zBIhcvXqxQocKCBQuoaORBeSE7OxsvQfCzhOPHjx86dCiuw+lyt+1BlUGPMTExaCsUI8U/vLBjxw4i3Dxvs7S9evUaMWKESlViDbOEhYWRXVesWIFQIuoqVqx47Ngx9cAzhwFm2b17t4eHB+sLu6HnFfvVyyxEOxdHmYo3Pvbt28em3GcJepkFX8LDg4ODy5Qpg9ZGKCkaxBpmgcgYZGhoKItIZHp5eRGc0I3ektZ6ZomKiiJzvwZmIWmQOtTXlVzarl078bqxbMp5ojFlypS6deviJSdOnKAFqj5y5EipUqVI8nc1/7sVvnv27Nnq1au/9dZbXbt2ZRXV1QpXhgssAnfPM03h35TBffv2JSoQYm3btq1Vq1anHBQrVgwZZf4tcK4TEBDAjCz+bBqwhlmoBwMDA5F+1JU+Pj6fffaZYfmmi1kwBXTG4tbJAas5depUkoTcrQm9zMKMUlNTEblMMCgoCCfRELa5oJdZGNInn3wya9Ys5DCDnDdvHjlP5WmjNczCBC9cuIABmzdv3qxZM/IlvqSrwBSwnlnIl/g2eUJu64dBZmnSpAkFofpzh7Vr1zZo0KBs2bKtW7f+338hkQNKHiQ0fow1RbEgmAXNovKbfUjE9u3bFylShFXU9SuN6CaMzrTNAUMzNk9PTygDqhK/KZ+nJ7HSK1euJHPS6eeffz5s2LBy5cohTI4fP05o1ahRg1xnYhZijLlDfyo3BaxhFhwaxiTXAaJCezm1oYtZmOnDhw9xo8z/AzO1nWbB+Jj09u3bTJYPKjWmgAHNglIgHzCdr776iiSKSVUKImuYBdALPSLJAWU+E1TpNBesZxZW/+uvvzbwYNEEg8wCoW7fvl1RpOEQkZGRzs7OkAvyZMKECeSB5cuXI6GPHj1K1WPqWzCLk5OT9i0rLsi4yV2IBZiF41NSUtSpnTIBSs752tT/A6KkltmzZw+KlKslJSXlV01gdLQiyQTeISQIDFdXV7QYA+B0ZLP5k3JS+oEDBxhkwTILDgcdc6Q6CC3F/xyizixMn0WUHZiBbK/Slzqz4CGIMnl1M7BwLJYKv6gzC30dOnRIdvDfuHLlinacAF3MQugSe/LqCsBvsQP+L8/PB7qYJSMjA6eVHSiAFSd/yJPzh0FmIb3v3btXRRwC4rNbt24ODg6IhbS0NGISrQ4l4xDsMjcTLVSVaBZtZsG4KGHEBYINmVC8ePFJkyap/2w9aojZ0pc5IDXAkrCXv/hHfomXXZAOV2Dkp06d6tevH9JJvKLGicB8RpgIrixwZoG84EGp/dQAXyhmMHVmgd1mzJghOzADel6lL3VmIYeZ/mWaOTg3OjpapfhSZxacYd26dR999JHswwz4PGOWx+UDXcyCV0yfPl1eXQHh4eH4ecEyCyGpawy4B1Jdnpw/DDJLmzZt9u/fzxrIbU0gXF1cXOCLuLg42ZQPuOCWLVs4klXJTwTiZAyXGc6dO/fatWtUJaVLlxbjsVhAAY6Bts4qgLCxeEEKUQ8PD2o6sYSQEXY0HzmVQnx8fIEzC0agYIw1Axpw1apVa9askduxsXxGSUHBq1evZpNUg6qX52tCnVlu3LhBJlixYkVMTAzdAU5kGISWSl+6NAtrLeZFd4xw6dKldET8MACVoaozC4t+4sSJDRs2YDfmhQ2BsCF1LiJUHpcPdDEL68i6cGU6Wrx4sfl6CVB3M1naWV82N23aZJHagC5mQYghhUR3AKsKBxCbrCktDIDhiYGhwVXeyjXILE2aNGE0KisKGEqNGjXc3Nx27twpm/KBqIYcHR2RAHlWN0ICTJs2DcdixEQy8qd69eqVKlXCBCplIWPm3ClTplCgoXTGjx9PdcYH5A9/J06cSBIG1GtLlizJ0ygQB5KBkfBh3rx5lEJBQUFC4yCm0tPTzaXczZs3iZwCZ5ZcoOvDhw/DmGJFiA0YDWYUxR3upV4qAnVmATgxIUT5QB4DCFLohka5WxPqzCJArr5//z6kD03gIfRrXnhqQ51ZBHBF6vSTJ09iQMyIDWmR+zShi1kEWCy8WpThBMvVq1eFKsGMcBlegVbiAAyrkjuBLmYxBy59/fp1iiPxwAG/EgbHAiwxHASxWlRMAgaZpVatWhCYxWhhoNgCwqtYsSKJHd2lPSwW7+jRoyVLliRizZ86cxbGwtepPkaNGsVe0/+UYlfLli05JTg4mKhmXc0lw6vAUgkJCQsWLIA4Zs6cyVkQCh+o1NDVcBZpAXPMmTOHZPjqQnJx/ABWxW8Q4b6+vkwtNDQUtUV7VFQUYWn+LRi8wd/fn3rNdsyCBYhM6lOmAM/SwhwZIdVinz59OnXqBF0SIYrRDnQxC/OCHerWrduhQwcG37lzZwyoeANOL7PgHkgJ7InZ6cvPz49chffL3ZrQyyyZmZnoiMGDBzM8LEkGIlS0XUtAL7OwLuj0rl27DhkypEePHiRg1lEYkDH4+PgwTeZL+FBjKn6Fxxiz4Ei4MaUAFYZ4Vgtxb9++3cvL64MPPiDusDwEp5ilbMgsInNinWbNmolvQMAa2t2wKiQ9BweH+fPnm5iF5cTQ8CVu0bBhQ+x+7tw5sQtbMM9+/fohc6iJ0A6EljU3tC0C1kCXFi1aFD5CH+JA4i1JBALB3Lx5c9aSWcijc967wS0Ie0whm/KHAWbBAkikgQMHlitXDi8U7wqy/IwEumQXQdurV6+hQ4cK0lGBLmaB4gMDA6tUqVKvXr1WrVpxIgNgVHK3JnQxC26Avzk7O6OMWHScHuFJKMLd8ghN6GUWKnfY5NixY8yFQK1duzYtKreldTELtmLuXByZjLzFmJMnTyZexPvo2BPPEVkB9iHCWVNxojaMMQsjJ8refvttJycnwSzHjx9ncbt3784FsT/Mgi8pvuZuQ2ZB1H344YelSpUSP43FiE3vrWiACWBZggQNJloIZmKY64jf+BK/QiJu8ZDEqLoJKqozCi6US7t27VBu4kRbgHhDr7LkcGXbtm1nz54tXqUntAYMGMBC5kqhxDNEiQIyL5HygwFmgXPj4+Pr16+PLBLMQkVG/FStWpUPgpRxDsSLxVLUBL3Mgvpbt24dK4IPvaryNCCYhSSpErHMBU946623AgICUOz0GxIS8v777+PB8ghN6GUWVpa1iI2NFYFB8PPZXI3mB13MQsSSe4hkPASKgcU2b96MBkehMEe8HfcWneIbCAfcW5yoDQPMwjRPnz6NS1evXp1kSZzisXiCu7s7qVQcs3HjRpiO5VZJ3gaZxcPDg6XSPgdXw7mhPQHGin5RkVIUO23atNmxY4e4PmZCBMqrHD9+8eJF1D5+xi7hbZRIly5doiKF3dmrcovLMCAOQu6LL75gOvyld7SVuL/AZM3VCiCdIr7effddUoFKyOllFoiV+VKGQKZwPSUehqIFWQfT0TueiokIEtaLSk2eZgl6mQXRgQ/h9J6enhEREYxKl2ZZpvDfVwHXRPchWik/KRyoUIg00pu2E5qgl1lSUlKgY+qCLl269O/f39vbm1XOtb55QhezMCnMhQbHjHwgDRDGnMsKchHyMUJY3EtKS0vr2bMnKUScqA29zMIw0AFQ/IQJEyBryAX3ZjBIpEaNGq1cuVIctn//fq6JlFO5rEFmYYE5RzuGhVszSRMEHVjEtWvXOnXqtHTpUlNVaX4dYtvccflMIwfQzgd1KW4NxHjEdOiOrvPsFy2N9yMgMa7KqPQyC0wdGRnJ8t+9exefCw8Px3TUZSNGjDAxC4ctWrQIoYdDiLMsQu99lujoaEKdv5QnJD26e/Dggcp8BbNMnDiR8csmTZCWYAfUK+RSvnx5op34V+kI6GUWchXhjWpACCOKSd3IzwJnFgGcB19iIqmpqdStouJYu3YtzGL6Z0wwC/MlS4lTtIFz6mIWKDs5OZkCH47r168f8h9mwQGmT5/u6upqYpZDhw4J1iNTihYN2LAaMgwMTYJFw+/atQsbydY3DdAi5NixY0f1MkQXsxCN1CDIZnQcFFOvXj1SK/5HALzKLG5ubuPGjRMnWoQuZiHaUdFUYXgSsnHQoEFkHcYjaFcbglkU77OQ0nFoMurAgQP9/PwoSJkUwaD4bT1dzEIwo/yhS/oKCwtDQVNdUpio3EA1wCwCSGCoGQMSWSxuoTEL4UaBj1rBT27evNmjR49q1apBbehxwrCwmQWNREFou7oDHyUSmBhxwsxl65sDKkFokZihOlAnR3VmgTIOHz6M3zdr1oyCi9xSqVKlxo0bIxxYF3NmIcJnzZpF6c5I5MmWoItZsrOzkWbiQSn+QPgRD1Rkue435QldzEIJHBsbS0qDIwja9evXowfFoyh5hCZ0MUtGRgYD88351S4CjC6aNGni7+9PQSSPyB/GmIVelixZgs/HxcWhOmHqLVu2YEkWgl0cYDtmgblYNVLUnDlz8D1CG42Gwt23b19oaKg5s+DSzZs3ZxeZQ7RowCCzIHpRbqQRuW0DnDlzZt68eTiTuFn7ZoFyANdnqVTWwAR1ZiFuDx48iOuTTgE+hGivUKECUnbBggU4aOXKldHz0MrTp0+JqHbt2pnuw1mELmYhikaNGkU8MCROYdZFixal6wJnFo4R8kE8ZWNqcCgWQBiKA7Shi1nIZ/AIZjTdd+dc1AREIzY1YIBZsAMKpW/fvpAL5EVhQnck17fffpskQYXLZIlz9BrTl+doQhezUHlAGdTUM2bMQAM6OjoWK1aMjnAYDM5FCENWk8yBY5CicDCVYsUgs4jvDSk6nzEwEzQh8owPsunNASsB7aqU5ebQVQ3RBWsGcRBpJ0+erFOnDjkNF8nKylq1ahXqHWclz5MAPT09+/Tpg5SVZ2oCa6OKSWKKgpSKbPDgwfgcZEqqJ/zoGgmjUg09evQoICBAkVnwZkiEnEkvTBkkJCQQ/+LfFViELmahMGFU0NaJEyewAwgJCQkODraFZoEFEhMTq1ev7uHhMXToUAxIBQ3LsAuBBpscOXKEKowV6dSpE3YWZ2kD31uzZo0is5hAcUBHJCEnJycUEwtKTcTiMqRbt27du3ePvOXj44OkkCdo4vt4n+VHC713cMGzZ89wgrp165JncAiKZDYpg/38/GrWrNm+fXtWt0aNGlRMFl9LF0AhTp48mdKJAJZNmkhPTycMqMzxSBLaT37yE7IfYS93awKdz4lBQUEqzELEEvAuLi4EDJKZqdEdcl3bcU3QxSyAxAkjY8MOOSCqYQqVVKGLWTgYOzs4OIg3MwQoRgSzpKSkwDgUufCps7MzmUPFUADDUgLrZRa4gJpIjKF27dpIFeoGGA0VQ4nk7u5eokQJxKzKgzxgkFmYLX6M5CZBqQOlg43khi3BehCiLIbcfkNAOVO8ePHy5cvLbQVUqVLF5JfivxTiB+L/AdKInOYv5QnOypHyHE1wWOnSpUuVKsX6yiZN0BeFmOiLjhiGel/4DyfSFxeRTZrgMCZIL/QlwDTlPkvAtsxL/XhWgbUQ8wLMsWLFinKfJXAup6gbkIXLCWcJNolhdjFmJivASBiDYsQJB8BWioYV4GCmLMZAd5iLAeBOfBZjoJ1N9THgCdu2bdO+Z5KbWSjySa3xOoFwNXCWMUCWCHW58YYgLi6OEoa/clsNnGIOcbq4lAm6rqn3FMN9mU5UP0Ucb4KuvgTktiVwpOwjB+onAnGu4im5OjLh1V3qYzCdqH4KeHUktORqZFMebQkcSZV3+/Zt7bsZuZkFEU4ZRjVkhx122JEn/pbzbwslZeSD3Mxihx122GE97Mxihx12FDzszGKHHXYUPOzMYocddhQ87Mxihx12FDzszGKHHXYUPOzMYocddhQ0/vOf/wFJy+fTQ9T03QAAAABJRU5ErkJggg==)\n",
        "\n",
        "*Halle el valor esperado\n",
        "*Halle la varianza y la desviación estandar\n",
        "\n",
        "Solución\n",
        "$$μ=1(\\frac{9}{40})+2(\\frac{1}{5})+3(\\frac{1}{8})+4(\\frac{1}{8})+5(\\frac{3}{20})+6(\\frac{7}{40})=$$\n",
        "$$μ=\\frac{9}{40}+\\frac{2}{5}+\\frac{3}{8}+\\frac{4}{8}+\\frac{15}{20}+\\frac{42}{40}=$$\n",
        "$$=μ\\frac{9+42}{40}+\\frac{2}{5}+\\frac{3+4}{8}+\\frac{3}{4}=$$\n",
        "$$=μ\\frac{51}{40}+\\frac{2}{5}+\\frac{7}{8}+\\frac{3}{4}=$$\n",
        "$$=μ\\frac{51}{40}+\\frac{2(8)}{5(8)}+\\frac{7(5)}{8(5)}+\\frac{3(10)}{4(10)}=$$\n",
        "$$=μ\\frac{51+16+35+30}{40}=$$\n",
        "$$=μ\\frac{132}{40}=$$\n",
        "$$=μ\\frac{33}{10}=$$\n",
        "$$μ=3.3$$\n",
        "\n",
        "$$E[(x-μ)^2]$$\n",
        "$$[(1-3.3)^2]=5.29$$\n",
        "$$[(2-3.3)^2]=1.69$$\n",
        "$$[(3-3.3)^2]=0.09$$\n",
        "$$[(4-3.3)^2]=0.49$$\n",
        "$$[(5-3.3)^2]=2.89$$\n",
        "$$[(6-3.3)^2]=7.29$$\n",
        "\n",
        "$$var=5.29(\\frac{9}{40})+1.69(\\frac{1}{5})+0.09(\\frac{1}{8})+0.49(\\frac{1}{8})+2.89(\\frac{3}{20})+7.29(\\frac{7}{40})=$$\n",
        "$$=1.19025+0.338+0.01125+0.06125+0.4335+1.27575=$$\n",
        "$$var=3.31$$\n",
        "\n",
        "$$σ=\\sqrt3.31=1.81$$\n",
        "\n"
      ],
      "metadata": {
        "id": "aYwJy0wDHyCH"
      }
    },
    {
      "cell_type": "markdown",
      "source": [
        "12. supongase que el numero de llamadas que entra a una central telefonica es de 30 por hora.¿Cuál es la probabilidad de que no se reciban llamadas en un periodo de 3 minutos?\n",
        "\n",
        "$$f(x)=P(X=x)=\\frac{λ^x e^-λ}{x!}$$\n",
        "$$λ=30$$\n",
        "$$t=3$$\n",
        "$$x=0$$\n",
        "$$P(X=0)=\\frac{30(3)^0 e^-30}{0!}$$\n",
        "$$P(X=0)=\\frac{90^0 e^-30}{0!}$$\n",
        "$$P(X=0)=\\frac{1(9.35 }{1}$$\n",
        "$$P(X=0)=\\frac{9.35}{1}$$\n",
        "$$P(X=0)=9.35%$$\n",
        "\n",
        "La probabilidad de que no se reciban llamadas en un periodo de 3 misnutos es de 9,35%"
      ],
      "metadata": {
        "id": "xpXEIkLOVGO_"
      }
    },
    {
      "cell_type": "markdown",
      "source": [
        "13. en un auditorio se encuentran 135 estudiantes.La probabilidad de que uno de los estudiantes se encuentre hoy cumpliendo años es igual a 1 de 365¿Cuál es la probabilidad de que en el auditorio dos personas cumplan años?\n"
      ],
      "metadata": {
        "id": "pv0LQAD_iwrB"
      }
    },
    {
      "cell_type": "markdown",
      "source": [
        "14. en cierto distrito de la ciudad se establece que la causa de 75% de todos los robos es la necesidad de comprara drogas. Calcule la probabilidad de que entre los 5 casos de robo que se reporten en el distrito. a) exactamente 2 sean resultado de la necesidad de dinero para comprar drogas;\n",
        "\n",
        "$$P(X=x)=\\binom{n}{x}p^x q^n-x$$\n",
        "$$P=0,75$$\n",
        "$$q=1-0,75=0,25$$\n",
        "$$n=5$$\n",
        "$$x=2$$\n",
        "$$P(X=2)=\\binom{5}{2}0,75^2 0,25^5-2=$$\n",
        "$$=\\frac{5!}{(5-2)!2!}0,75^2 0,25^5-2=$$\n",
        "$$=\\frac{5!}{(3)!2!}0,75^2 0,25^5-2=$$\n",
        "$$=\\frac{120}{(6)2}0,75^2 0,25^5-2=$$\n",
        "$$=\\frac{120}{12}0,75^2 0,25^3=$$\n",
        "$$=(10)0,75^2 0,25^3=$$\n",
        "$$=10(0,5625)(0,015625)=$$\n",
        "$$=10(8,78)=87.8%$$\n",
        "La probabilidad de que dos personas cometan hurtos,para consumir drogas es del 87,8%\n",
        "\n"
      ],
      "metadata": {
        "id": "C0eaguV-3KSt"
      }
    },
    {
      "cell_type": "markdown",
      "source": [
        "15.Una ciudad vecina considera entablar una demanda de anexión en contra de una subdivisión del condado de 1200 residencias.Si los ocupantes de la mitad de las residencias objetan la anexión¿Cuál es la probabilidad de que de que en una muestra de 10 residencias al menos 3 estén  a favor de la anexión?\n",
        "\n",
        "\n",
        "$$P(X=x)=\\frac{\\binom{k}{x}\\binom{N-k}{n-x}}{\\binom{N}{n}}$$\n",
        "\n",
        "$$n=10$$\n",
        "$$K=600$$\n",
        "$$N=1200$$\n",
        "$$x=3$$\n",
        "$$P(X=3)=\\frac{\\binom{600}{3}\\binom{1200-600}{10-3}}{\\binom{1200}{10}}=$$\n",
        "$$P(X=3)=\\frac{\\binom{600}{3}\\binom{600}{7}}{\\binom{1200}{10}}=$$\n",
        "$$P(X=3)=\\frac{(35820200)(5,36)}{1.64}=$$\n",
        "$$P(X=3)=\\frac{191996272}{1.64}(100)=1,170%$$"
      ],
      "metadata": {
        "id": "m8TXurBRAApY"
      }
    },
    {
      "cell_type": "markdown",
      "source": [
        "16. La probabilidad de que una persona que estudia una carrera de piloto privado apruebe el examen escrito para obtener la licencia es de 0,7.Calcule la probabilidad de que cierto estudiante apruebe el examen en el tercer intento\n",
        "\n",
        "$$P(X=x)=pq^x-1$$  \n",
        "$$x=1,2,3$$\n",
        "$$P=0,7$$\n",
        "$$q=0,3$$\n",
        "$$x=3$$\n",
        "$$P(X=3)=0,7(0,3)^3-1=$$\n",
        "$$P(X=3)=0,7(0,3)^2=$$\n",
        "$$P(X=3)=0,7(0,09)=0,063=$$\n",
        "$$0,063(100)=6,3%$$\n",
        "\n",
        "la probabilidad de que el estudiante apreuebe el examen en su tercer intento es de 6,3%\n"
      ],
      "metadata": {
        "id": "-kH2RYdYHkeI"
      }
    },
    {
      "cell_type": "markdown",
      "source": [
        "17. Los cambios en los procedimientos de los aeropuertos requieren una planeaciónconsiderable. Los índices de llegadas de los aviones pequeños llegan a cierto aeropuerto,de acuerdo con un proceso Poisson,con una frecuencia de 6 por hora.de esta manera, el parámetro de Poissonpara las llegadas en un periodo de horas es de $$𝜇=6t$$.\n",
        "¿Cuál es la probabilidad de que lleguen  exactamente 4 aviones pequeños durante un periodo de una hora?\n",
        "\n",
        "\n"
      ],
      "metadata": {
        "id": "X6t3umPNKx9U"
      }
    }
  ]
}