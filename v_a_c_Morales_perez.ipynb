{
  "nbformat": 4,
  "nbformat_minor": 0,
  "metadata": {
    "colab": {
      "provenance": [],
      "include_colab_link": true
    },
    "kernelspec": {
      "name": "python3",
      "display_name": "Python 3"
    },
    "language_info": {
      "name": "python"
    }
  },
  "cells": [
    {
      "cell_type": "markdown",
      "metadata": {
        "id": "view-in-github",
        "colab_type": "text"
      },
      "source": [
        "<a href=\"https://colab.research.google.com/github/LuisaMariaMontoyaConde1994/ESTADISTICAII/blob/main/v_a_c_Morales_perez.ipynb\" target=\"_parent\"><img src=\"https://colab.research.google.com/assets/colab-badge.svg\" alt=\"Open In Colab\"/></a>"
      ]
    },
    {
      "cell_type": "markdown",
      "source": [
        "## **Nikol Sofia Perez Babativa**\n",
        "## **Paula Geraldine Morales Diaz**\n",
        "\n",
        "---\n",
        "\n"
      ],
      "metadata": {
        "id": "KXbtFJUoCTYg"
      }
    },
    {
      "cell_type": "markdown",
      "source": [
        "## **Actividad**\n",
        "\n",
        "La demanda semanal de una bebida en una cadena de almacenes se distribuye V.A continua de la siguiente manera\n",
        "\n",
        "$$f(x)= \\left\\{ \\begin{array}{lcc} 2(x-1) & si & 1<x<2 \\\\ \\\\ 0 &  & en \\ otro\\  caso &  & \\end{array} \\right.$$\n",
        "\n",
        "\n",
        "\n",
        "> Hallar el valor esperado de la funcion\n",
        "\n"
      ],
      "metadata": {
        "id": "tQoaWi40Dc0Q"
      }
    },
    {
      "cell_type": "markdown",
      "source": [
        "$$f(x)= \\left\\{ \\begin{array}{lcc} 2(x-1) & si & 1<x<2 \\\\ \\\\ 0 &  & en \\ otro\\  caso &  & \\end{array} \\right.$$\n",
        "\n",
        "$$\\int_{-\\infty}xf(x)dx=\\int_{1}^{2}x(2(x-1))dx$$\n",
        "\n",
        "$$\\int_{1}^{2}(2x^{2}-2x)dx$$\n",
        "\n",
        "$$\\int_{1}^{2} 2x^{2}dx-\\int_{1}^{2}2x dx$$\n",
        "\n",
        "$$2\\int_{1}^{2} x^{2}dx-2\\int_{1}^{2}x dx$$\n",
        "\n",
        "$$2[\\frac{x^{2+1}}{2+1}]-2[\\frac{x^{1+1}}{1+1}]$$\n",
        "\n",
        "$$2[\\frac{x^{3}}{3}]-2[\\frac{x^{2}}{2}]$$\n",
        "\n",
        "$$\\frac{2x^{3}}{3}-\\frac{2x^{2}}{2}$$\n",
        "\n",
        "$$\\frac{2x^{3}}{3}-x^{2}\\int_{1}^{2}$$\n",
        "\n",
        "$$(\\frac{2(2)^{3}}{3}-(2)^{2})-(\\frac{2(1)^{3}}{3}-(1)^{2})$$\n",
        "\n",
        "$$(\\frac{16}{3}-{4})-(\\frac{2}{3}-{1})$$\n",
        "\n",
        "$$(\\frac{16-12}{3})-(\\frac{2-3}{3})$$\n",
        "\n",
        "$$\\frac{4}{3}-(\\frac{-1}{3})$$\n",
        "\n",
        "$$\\frac{5}{3}$$\n",
        "\n",
        "### El valor esperado de la función es de $$\\frac{5}{3}$$"
      ],
      "metadata": {
        "id": "VDMSKwsQEVq4"
      }
    }
  ]
}