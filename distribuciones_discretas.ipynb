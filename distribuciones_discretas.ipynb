{
  "nbformat": 4,
  "nbformat_minor": 0,
  "metadata": {
    "colab": {
      "provenance": [],
      "authorship_tag": "ABX9TyO9IWOU4Dp2zzjtyugP4NjP",
      "include_colab_link": true
    },
    "kernelspec": {
      "name": "python3",
      "display_name": "Python 3"
    },
    "language_info": {
      "name": "python"
    }
  },
  "cells": [
    {
      "cell_type": "markdown",
      "metadata": {
        "id": "view-in-github",
        "colab_type": "text"
      },
      "source": [
        "<a href=\"https://colab.research.google.com/github/LuisaMariaMontoyaConde1994/ESTADISTICAII/blob/main/distribuciones_discretas.ipynb\" target=\"_parent\"><img src=\"https://colab.research.google.com/assets/colab-badge.svg\" alt=\"Open In Colab\"/></a>"
      ]
    },
    {
      "cell_type": "markdown",
      "source": [
        "# *Distribuciones discretas*"
      ],
      "metadata": {
        "id": "5ShH-Qyo7OV9"
      }
    },
    {
      "cell_type": "markdown",
      "source": [
        "Emilhy Ariza, Lissa Cross"
      ],
      "metadata": {
        "id": "qlSUaLz3Gur-"
      }
    },
    {
      "cell_type": "code",
      "execution_count": null,
      "metadata": {
        "id": "yMfylKZp64fE"
      },
      "outputs": [],
      "source": [
        "import numpy as np\n",
        "import matplotlib.pyplot as plt\n",
        "from scipy.stats import binom\n",
        "from scipy.stats import poisson\n",
        "from scipy.stats import hypergeom"
      ]
    },
    {
      "cell_type": "code",
      "source": [
        "x=6\n",
        "lamda=4\n",
        "prob=poisson.pmf(x,lamda)\n",
        "print(prob)"
      ],
      "metadata": {
        "colab": {
          "base_uri": "https://localhost:8080/"
        },
        "id": "lZMtQV-Y70r0",
        "outputId": "3e7df845-e768-479d-c8cd-ff7a1fc502de"
      },
      "execution_count": null,
      "outputs": [
        {
          "output_type": "stream",
          "name": "stdout",
          "text": [
            "0.10419563456702102\n"
          ]
        }
      ]
    },
    {
      "cell_type": "code",
      "source": [
        "N=40\n",
        "n=5\n",
        "k=3\n",
        "x=2\n",
        "prob_1=hypergeom.pmf(x,N,n,k)\n",
        "print(prob_1)"
      ],
      "metadata": {
        "colab": {
          "base_uri": "https://localhost:8080/"
        },
        "id": "8xBHi--y87X3",
        "outputId": "17baf0eb-9453-4308-ef61-c50a10b8dcc0"
      },
      "execution_count": null,
      "outputs": [
        {
          "output_type": "stream",
          "name": "stdout",
          "text": [
            "0.0354251012145749\n"
          ]
        }
      ]
    },
    {
      "cell_type": "markdown",
      "source": [
        "cual es la probabilidad de que a lo más entren 5 particulas?"
      ],
      "metadata": {
        "id": "j5b49p5h9SgL"
      }
    },
    {
      "cell_type": "code",
      "source": [
        "x=5\n",
        "lamda=4\n",
        "prob=1-poisson.cdf(x,lamda)\n",
        "print(prob)"
      ],
      "metadata": {
        "colab": {
          "base_uri": "https://localhost:8080/"
        },
        "outputId": "73cf1ac0-1d71-428e-c859-76766bd737ee",
        "id": "I9J_YMbh_xv7"
      },
      "execution_count": null,
      "outputs": [
        {
          "output_type": "stream",
          "name": "stdout",
          "text": [
            "0.21486961296959484\n"
          ]
        }
      ]
    },
    {
      "cell_type": "markdown",
      "source": [
        "cual es la probabilidad de que salgan a lo más 3 defectuosos?"
      ],
      "metadata": {
        "id": "3GSTO2Ap9bDi"
      }
    },
    {
      "cell_type": "code",
      "source": [
        "N=40\n",
        "n=5\n",
        "k=3\n",
        "x=2\n",
        "prob_1=1-hypergeom.cdf(x,N,n,k)\n",
        "print(prob_1)"
      ],
      "metadata": {
        "colab": {
          "base_uri": "https://localhost:8080/"
        },
        "id": "XM8LPqbT9nHi",
        "outputId": "7112206d-2c45-4e7d-9614-29bd5ba9423d"
      },
      "execution_count": null,
      "outputs": [
        {
          "output_type": "stream",
          "name": "stdout",
          "text": [
            "0.0010121457489878916\n"
          ]
        }
      ]
    },
    {
      "cell_type": "markdown",
      "source": [
        "Binomial negativa"
      ],
      "metadata": {
        "id": "o_TVO5ml-U_C"
      }
    },
    {
      "cell_type": "code",
      "source": [
        "\n",
        "p=0.55\n",
        "x=6-1\n",
        "k=4-1\n",
        "prob_1=binom.pmf(k, x, p)\n",
        "print(prob_1)"
      ],
      "metadata": {
        "colab": {
          "base_uri": "https://localhost:8080/"
        },
        "id": "DuaO0HtN-PsS",
        "outputId": "f178642f-6fad-4a93-c201-c51d70bf7616"
      },
      "execution_count": null,
      "outputs": [
        {
          "output_type": "stream",
          "name": "stdout",
          "text": [
            "0.3369093749999999\n"
          ]
        }
      ]
    },
    {
      "cell_type": "markdown",
      "source": [
        "Binomial geometrica"
      ],
      "metadata": {
        "id": "2h_D6wLn-ZYz"
      }
    },
    {
      "cell_type": "code",
      "source": [
        "p=0.01\n",
        "q=0.99\n",
        "x=5\n",
        "\n",
        "prob=\n"
      ],
      "metadata": {
        "id": "3s7WSe589nmK"
      },
      "execution_count": null,
      "outputs": []
    }
  ]
}