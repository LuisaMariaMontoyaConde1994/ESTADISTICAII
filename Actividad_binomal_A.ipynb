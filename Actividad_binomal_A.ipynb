{
  "nbformat": 4,
  "nbformat_minor": 0,
  "metadata": {
    "colab": {
      "provenance": [],
      "authorship_tag": "ABX9TyNDoJWlrTrUlobPaEW3T7c2",
      "include_colab_link": true
    },
    "kernelspec": {
      "name": "python3",
      "display_name": "Python 3"
    },
    "language_info": {
      "name": "python"
    }
  },
  "cells": [
    {
      "cell_type": "markdown",
      "metadata": {
        "id": "view-in-github",
        "colab_type": "text"
      },
      "source": [
        "<a href=\"https://colab.research.google.com/github/LuisaMariaMontoyaConde1994/ESTADISTICAII/blob/main/Actividad_binomal_A.ipynb\" target=\"_parent\"><img src=\"https://colab.research.google.com/assets/colab-badge.svg\" alt=\"Open In Colab\"/></a>"
      ]
    },
    {
      "cell_type": "code",
      "execution_count": null,
      "metadata": {
        "id": "gWxSCTvw1IT6"
      },
      "outputs": [],
      "source": []
    },
    {
      "cell_type": "markdown",
      "source": [
        "##Nombre: Ana Yiseth Cortes Parada- Estadistica grupo B"
      ],
      "metadata": {
        "id": "2DLbCnoG2gWd"
      }
    },
    {
      "cell_type": "markdown",
      "source": [
        "##**Actividad**\n",
        "En una elección, un candidato tiene una probabilidad del $60\\%$ de recibir un voto en cada votación individual. Si se emiten $20$ votos.\n",
        "\n",
        "\n",
        "1.   ¿Cuál es la probabilidad que que al menos el candidato obtenga $12$ votos?\n",
        "2.   ¿Cuál es la probabilidad  que a lo más $10$ votos?\n",
        "3.   ¿Cuál es la probabilidad  que obtenga entre $9$ y $16$ votos?\n",
        "4.   ¿Cuál es la probabilidad  que obtenga 15 votos exactamente?\n",
        "\n",
        "\n"
      ],
      "metadata": {
        "id": "5lExnLq01cjG"
      }
    },
    {
      "cell_type": "code",
      "source": [
        "import numpy as np\n",
        "import matplotlib.pyplot as plt\n",
        "from scipy.stats import binom"
      ],
      "metadata": {
        "id": "jNTyVoRs2c7W"
      },
      "execution_count": 1,
      "outputs": []
    },
    {
      "cell_type": "markdown",
      "source": [
        "##1.   ¿Cuál es la probabilidad que que al menos el candidato obtenga $12$ votos?\n",
        "$$P(X \\geq 12) = 1-P(X\\leq 12)$$\n",
        "\n"
      ],
      "metadata": {
        "id": "n57vUM0b2res"
      }
    },
    {
      "cell_type": "code",
      "source": [
        "n=20\n",
        "p=0.6\n",
        "x=12\n",
        "prob_1=1-binom.cdf(x, n, p)\n",
        "print(prob_1)"
      ],
      "metadata": {
        "colab": {
          "base_uri": "https://localhost:8080/"
        },
        "id": "lodHwaG65mLd",
        "outputId": "2c35d4f9-cbc8-4444-bc30-4bdd67f201c9"
      },
      "execution_count": 2,
      "outputs": [
        {
          "output_type": "stream",
          "name": "stdout",
          "text": [
            "0.41589293755753554\n"
          ]
        }
      ]
    },
    {
      "cell_type": "markdown",
      "source": [
        "La probabilidad que que al menos el candidato obtenga $12$ votos es de $41,5\\%$ aproximadamente."
      ],
      "metadata": {
        "id": "uADiOAcb52G8"
      }
    },
    {
      "cell_type": "markdown",
      "source": [
        "##2.   ¿Cuál es la probabilidad  que a lo más $10$ votos?\n",
        "$$ P(X\\leq 10)$$\n"
      ],
      "metadata": {
        "id": "Jadqfdm-6IBM"
      }
    },
    {
      "cell_type": "code",
      "source": [
        "n=20\n",
        "p=0.6\n",
        "x=10\n",
        "prob_1=binom.cdf(x, n, p)\n",
        "print(prob_1)"
      ],
      "metadata": {
        "colab": {
          "base_uri": "https://localhost:8080/"
        },
        "id": "YpjGmO4K7Byu",
        "outputId": "afc943bc-802b-45e9-9105-650755d31ab6"
      },
      "execution_count": 3,
      "outputs": [
        {
          "output_type": "stream",
          "name": "stdout",
          "text": [
            "0.24466279668360685\n"
          ]
        }
      ]
    },
    {
      "cell_type": "markdown",
      "source": [
        "La probabilidad  que a lo más $10$ votos es del $24,4\\%$ aproximadamente."
      ],
      "metadata": {
        "id": "IT95M1X27KNc"
      }
    },
    {
      "cell_type": "markdown",
      "source": [
        "##3.   ¿Cuál es la probabilidad  que obtenga entre 9 y 16 votos?\n",
        "$$P(9 \\leq X \\leq 16)$$"
      ],
      "metadata": {
        "id": "NQYA75lu7Rqt"
      }
    },
    {
      "cell_type": "code",
      "source": [
        "n=20\n",
        "p=0.6\n",
        "x_1=9\n",
        "x_2= 16\n",
        "prob=binom.cdf(x_2,n,p)-binom.cdf(x_1,n,p)\n",
        "print(prob)"
      ],
      "metadata": {
        "colab": {
          "base_uri": "https://localhost:8080/"
        },
        "id": "Sy9bMcUV7oxd",
        "outputId": "0d08e13c-af43-42f9-8b3d-7ad626c51039"
      },
      "execution_count": 4,
      "outputs": [
        {
          "output_type": "stream",
          "name": "stdout",
          "text": [
            "0.856517591062775\n"
          ]
        }
      ]
    },
    {
      "cell_type": "markdown",
      "source": [
        "La probabilidad que obtenga entre $9$ y $16$ votos es del $86,6\\%$ aproximadamente."
      ],
      "metadata": {
        "id": "0rUG-gip733V"
      }
    },
    {
      "cell_type": "markdown",
      "source": [
        "##4.   ¿Cuál es la probabilidad  que obtenga $15$ votos exactamente?\n",
        "$$ P(X=15)$$\n",
        "$$P(X=15)=\\binom{20}{15}(0.6)^{15}(0.4)^{20-15}$$"
      ],
      "metadata": {
        "id": "6BciX37Z8aUG"
      }
    },
    {
      "cell_type": "code",
      "source": [
        "n=20\n",
        "p=0.6\n",
        "x=15\n",
        "pro=binom.pmf(x, n, p)\n",
        "print(pro)"
      ],
      "metadata": {
        "colab": {
          "base_uri": "https://localhost:8080/"
        },
        "id": "RyAqgqbs8zwN",
        "outputId": "7f88f81f-4db8-4805-d2a2-0135980409f8"
      },
      "execution_count": 5,
      "outputs": [
        {
          "output_type": "stream",
          "name": "stdout",
          "text": [
            "0.07464701952887111\n"
          ]
        }
      ]
    },
    {
      "cell_type": "markdown",
      "source": [
        "La probabilidad que obtenga $15$ votos exactamente de de $7,4\\%$ aproximadamente."
      ],
      "metadata": {
        "id": "BJHk_HRg9Ayk"
      }
    }
  ]
}