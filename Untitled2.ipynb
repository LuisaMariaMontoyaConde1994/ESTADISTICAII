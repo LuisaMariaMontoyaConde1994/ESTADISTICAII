{
  "nbformat": 4,
  "nbformat_minor": 0,
  "metadata": {
    "colab": {
      "provenance": [],
      "authorship_tag": "ABX9TyOeMEOoTRJ977YpKZz2Yr8M",
      "include_colab_link": true
    },
    "kernelspec": {
      "name": "python3",
      "display_name": "Python 3"
    },
    "language_info": {
      "name": "python"
    }
  },
  "cells": [
    {
      "cell_type": "markdown",
      "metadata": {
        "id": "view-in-github",
        "colab_type": "text"
      },
      "source": [
        "<a href=\"https://colab.research.google.com/github/LuisaMariaMontoyaConde1994/ESTADISTICAII/blob/main/Untitled2.ipynb\" target=\"_parent\"><img src=\"https://colab.research.google.com/assets/colab-badge.svg\" alt=\"Open In Colab\"/></a>"
      ]
    },
    {
      "cell_type": "code",
      "execution_count": 2,
      "metadata": {
        "id": "d2xc_QTSBhxF"
      },
      "outputs": [],
      "source": [
        "##HOJA DE VIDA##\n",
        "\n",
        "##Soy un joven que se caracteriza por ser una persona creativa,\n",
        " ##optimista, empática; la cual se encuentra en búsqueda de una oportunidad laboral,\n",
        "  ##que me permita demostrar mis habilidades y competencias,\n",
        "  ##dando inicio a mi vida laboral.\n",
        "\n",
        "##Colegio Santa Catalina Del Sur Oriente\n",
        "##Nov. 2020\n",
        "\n",
        "##CURSOS\n",
        "##Sep.25.2019\n",
        "\n",
        "##Cuento con licencia de conducción B1.\n",
        "\n",
        "     ##BACHILLER ACADEMICO\n",
        "\n",
        "##PROMOCIONAR ACTIVIDADES\n",
        "##FISICAS COMO HABITO DE VIDA SALUDABLE\n",
        "##Servicio Nacional de Aprendizaje$$\n",
        "\n"
      ]
    }
  ]
}