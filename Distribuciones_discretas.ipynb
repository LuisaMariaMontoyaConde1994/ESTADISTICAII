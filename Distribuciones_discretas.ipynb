{
  "nbformat": 4,
  "nbformat_minor": 0,
  "metadata": {
    "colab": {
      "provenance": [],
      "include_colab_link": true
    },
    "kernelspec": {
      "name": "python3",
      "display_name": "Python 3"
    },
    "language_info": {
      "name": "python"
    }
  },
  "cells": [
    {
      "cell_type": "markdown",
      "metadata": {
        "id": "view-in-github",
        "colab_type": "text"
      },
      "source": [
        "<a href=\"https://colab.research.google.com/github/LuisaMariaMontoyaConde1994/ESTADISTICAII/blob/main/Distribuciones_discretas.ipynb\" target=\"_parent\"><img src=\"https://colab.research.google.com/assets/colab-badge.svg\" alt=\"Open In Colab\"/></a>"
      ]
    },
    {
      "cell_type": "markdown",
      "source": [
        "## **Nikol Sofia Perez Babativa.**\n",
        "## **Paula Geraldine Morales Díaz.**"
      ],
      "metadata": {
        "id": "hW0PMQ8hEQ8N"
      }
    },
    {
      "cell_type": "markdown",
      "source": [
        "# **Distribuciones Discretas**\n",
        "\n",
        "---\n",
        "\n"
      ],
      "metadata": {
        "id": "z3bIO0ju7LG1"
      }
    },
    {
      "cell_type": "code",
      "execution_count": null,
      "metadata": {
        "id": "VA0wbe4S7ITS"
      },
      "outputs": [],
      "source": [
        "import numpy as np\n",
        "import matplotlib.pyplot as plt\n",
        "from scipy.stats import binom\n",
        "from scipy.stats import poisson\n",
        "from scipy.stats import hypergeom\n",
        "from scipy.stats import geom"
      ]
    },
    {
      "cell_type": "code",
      "source": [
        "x=6\n",
        "lamda=4\n",
        "prob=poisson.pmf(x,lamda)\n",
        "print(prob)"
      ],
      "metadata": {
        "colab": {
          "base_uri": "https://localhost:8080/"
        },
        "id": "LNR-Zl-Z75XN",
        "outputId": "67f1f6da-3c99-425f-ef15-0fc9932cd564"
      },
      "execution_count": null,
      "outputs": [
        {
          "output_type": "stream",
          "name": "stdout",
          "text": [
            "0.10419563456702102\n"
          ]
        }
      ]
    },
    {
      "cell_type": "code",
      "source": [
        "N=40\n",
        "n=5\n",
        "k=3\n",
        "x=2\n",
        "prob_1=hypergeom.pmf(x,N,n,k)\n",
        "print(prob_1)"
      ],
      "metadata": {
        "colab": {
          "base_uri": "https://localhost:8080/"
        },
        "id": "1kDK67EF8qKd",
        "outputId": "87dd40bb-0cd0-4b5d-c971-91678c6fbfd6"
      },
      "execution_count": null,
      "outputs": [
        {
          "output_type": "stream",
          "name": "stdout",
          "text": [
            "0.0354251012145749\n"
          ]
        }
      ]
    },
    {
      "cell_type": "markdown",
      "source": [
        "# **Actividad**\n",
        "---\n",
        "\n"
      ],
      "metadata": {
        "id": "eOxP-xkm-X_X"
      }
    },
    {
      "cell_type": "markdown",
      "source": [
        "# **Punto $1$**\n",
        "\n",
        "\n",
        "Durante un experimento el promedio de particulas es de $4$ milisegundos\n",
        "> ¿Cual es la probabilidad de que entre a lo más  $5$  particulas?"
      ],
      "metadata": {
        "id": "CfFVDDhkCfXT"
      }
    },
    {
      "cell_type": "code",
      "source": [
        "lamda=4\n",
        "t=1\n",
        "x=5\n",
        "prob_1=poisson.cdf(x,t,lamda)\n",
        "print(prob_1)\n"
      ],
      "metadata": {
        "colab": {
          "base_uri": "https://localhost:8080/"
        },
        "id": "mqDPJeoLGCpM",
        "outputId": "bce6be06-386e-41de-caa4-f93ed06f9021"
      },
      "execution_count": null,
      "outputs": [
        {
          "output_type": "stream",
          "name": "stdout",
          "text": [
            "0.7357588823428847\n"
          ]
        }
      ]
    },
    {
      "cell_type": "markdown",
      "source": [
        "La probabilidad de que entre a lo más $5$ particulas  es de $73.57\\%$ aproximadamente."
      ],
      "metadata": {
        "id": "IIbgdxEc2mL-"
      }
    },
    {
      "cell_type": "markdown",
      "source": [
        "# **Punto $2$**"
      ],
      "metadata": {
        "id": "s8sy69X9Cm7c"
      }
    },
    {
      "cell_type": "markdown",
      "source": [
        "Lotes con $40$ componentes, cada uno que contenga $3$ o más defectuosos. Si se selecciona $5$ componentes al azar.\n",
        "> ¿Cual es la probabilidad de que salga a lo más $2$ defectuosos?\n",
        "$$(X\\leq 2)$$\n"
      ],
      "metadata": {
        "id": "14W8P-rm_FAO"
      }
    },
    {
      "cell_type": "code",
      "source": [
        "N=40\n",
        "n=5\n",
        "k=3\n",
        "x=2\n",
        "prob_2=hypergeom.cdf(x,N,n,k)\n",
        "print(prob_2)"
      ],
      "metadata": {
        "colab": {
          "base_uri": "https://localhost:8080/"
        },
        "id": "AwiJocdQ9Zz9",
        "outputId": "f8069037-ae3b-4c4c-ce6f-e85e4381ca58"
      },
      "execution_count": null,
      "outputs": [
        {
          "output_type": "stream",
          "name": "stdout",
          "text": [
            "0.9989878542510121\n"
          ]
        }
      ]
    },
    {
      "cell_type": "markdown",
      "source": [
        "La probabilidad de que salga a lo más $2$ defectuosos es de $73.57\\%$ aproximadamente."
      ],
      "metadata": {
        "id": "29HsD3ao31vj"
      }
    },
    {
      "cell_type": "markdown",
      "source": [
        "# **Punto $3$**"
      ],
      "metadata": {
        "id": "Gwc9s-bpCo9l"
      }
    },
    {
      "cell_type": "markdown",
      "source": [
        "\n",
        "Realice el mismo ejemplo de la binomial negativas usando poisson\n"
      ],
      "metadata": {
        "id": "W7RZtn_F9QDs"
      }
    },
    {
      "cell_type": "markdown",
      "source": [
        "En un campeonato, el equipo que gane $4$ de $7$ juegos será el ganador. Si se enfrentan los equipos $A$ y $B$, el equipo $A$ tiene una probabilidad de $55\\%$ de ganarle al $B$.\n",
        "> ¿Cual es la probabilidad de que gane el equipo $A$ en $6$ juegos?\n",
        "\n"
      ],
      "metadata": {
        "id": "zlwsLXAZ4a1O"
      }
    },
    {
      "cell_type": "code",
      "source": [
        "x=6-1\n",
        "k=4-1\n",
        "p=0.55\n",
        "prob=binom.pmf(k,x,p)\n",
        "print(prob)"
      ],
      "metadata": {
        "id": "BN-3af6pDYqt",
        "colab": {
          "base_uri": "https://localhost:8080/"
        },
        "outputId": "4ce09fa0-c3f6-4d3e-b6b5-437b8290e780"
      },
      "execution_count": null,
      "outputs": [
        {
          "output_type": "stream",
          "name": "stdout",
          "text": [
            "0.3369093749999999\n"
          ]
        }
      ]
    },
    {
      "cell_type": "markdown",
      "source": [
        "La probabilidad de que gane el equipo $A$ en $6$ juegos es de $33.69\\%$ aproximadamente."
      ],
      "metadata": {
        "id": "HAoo8o7z5oVa"
      }
    },
    {
      "cell_type": "markdown",
      "source": [
        "# **Punto $4$**"
      ],
      "metadata": {
        "id": "LPS-Vw8i6J5K"
      }
    },
    {
      "cell_type": "markdown",
      "source": [
        "En un fabrica uno cada de $100$ articulos, en promedio resulta defectuoso.\n",
        "> ¿Cual es la probabilidad de que $5$ articulos sea defectuoso?\n"
      ],
      "metadata": {
        "id": "0KBn6OtS6IfJ"
      }
    },
    {
      "cell_type": "code",
      "source": [
        "p=0.01\n",
        "x=5\n",
        "prob_4=geom.pmf(x,p)\n",
        "print(prob_4)"
      ],
      "metadata": {
        "colab": {
          "base_uri": "https://localhost:8080/"
        },
        "id": "ricCpTmT6xay",
        "outputId": "55f75c39-b9cc-4efe-ddc3-ad68a78c6314"
      },
      "execution_count": null,
      "outputs": [
        {
          "output_type": "stream",
          "name": "stdout",
          "text": [
            "0.0096059601\n"
          ]
        }
      ]
    },
    {
      "cell_type": "markdown",
      "source": [
        "La probabilidad de que  $5$ articulos sea defectuoso es de $0.96\\%$ aproximadamente."
      ],
      "metadata": {
        "id": "8MO4GCuP9X6s"
      }
    }
  ]
}