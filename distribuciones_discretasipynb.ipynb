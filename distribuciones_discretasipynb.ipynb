{
  "nbformat": 4,
  "nbformat_minor": 0,
  "metadata": {
    "colab": {
      "provenance": [],
      "authorship_tag": "ABX9TyOnLyPrzxcijw/SvlqMIpKB",
      "include_colab_link": true
    },
    "kernelspec": {
      "name": "python3",
      "display_name": "Python 3"
    },
    "language_info": {
      "name": "python"
    }
  },
  "cells": [
    {
      "cell_type": "markdown",
      "metadata": {
        "id": "view-in-github",
        "colab_type": "text"
      },
      "source": [
        "<a href=\"https://colab.research.google.com/github/LuisaMariaMontoyaConde1994/ESTADISTICAII/blob/main/distribuciones_discretasipynb.ipynb\" target=\"_parent\"><img src=\"https://colab.research.google.com/assets/colab-badge.svg\" alt=\"Open In Colab\"/></a>"
      ]
    },
    {
      "cell_type": "markdown",
      "source": [
        "# Distribuciones discretas\n",
        "Joustin Saenz\n",
        "Catalina Aparicio"
      ],
      "metadata": {
        "id": "BrobhA417PZL"
      }
    },
    {
      "cell_type": "code",
      "execution_count": 4,
      "metadata": {
        "id": "Hr1c2oVY66s5"
      },
      "outputs": [],
      "source": [
        "import numpy as np\n",
        "import matplotlib.pyplot as plt\n",
        "from scipy.stats import binom\n",
        "from scipy.stats import poisson\n",
        "from scipy.stats import hypergeom"
      ]
    },
    {
      "cell_type": "code",
      "source": [
        "x= 6\n",
        "lamda=4\n",
        "prob=poisson.pmf(x, lamda)\n",
        "print(prob)"
      ],
      "metadata": {
        "colab": {
          "base_uri": "https://localhost:8080/"
        },
        "id": "DhVYK0FA72O7",
        "outputId": "4bd9b624-a3c4-4a3f-f972-66ce190f9250"
      },
      "execution_count": null,
      "outputs": [
        {
          "output_type": "stream",
          "name": "stdout",
          "text": [
            "0.10419563456702102\n"
          ]
        }
      ]
    },
    {
      "cell_type": "code",
      "source": [
        "N=40\n",
        "n=5\n",
        "k=3\n",
        "x=2\n",
        "prob_1=hypergeom.pmf(x,N,n,k)\n",
        "print(prob_1)\n"
      ],
      "metadata": {
        "colab": {
          "base_uri": "https://localhost:8080/"
        },
        "id": "pJZoCNQN8i7q",
        "outputId": "6f41f2a4-9486-4c94-f484-fc8eca1acd6b"
      },
      "execution_count": null,
      "outputs": [
        {
          "output_type": "stream",
          "name": "stdout",
          "text": [
            "0.0354251012145749\n"
          ]
        }
      ]
    },
    {
      "cell_type": "markdown",
      "source": [
        "Durante un experimento el promedio de particulas es de 4 milisegundos ¿cúal es la probabilidad de que entren a lo más 5 particulas en un milisegundo?\n",
        "\n",
        "$$ P(X≥5) $$"
      ],
      "metadata": {
        "id": "gr-aZIKU9VtK"
      }
    },
    {
      "cell_type": "code",
      "source": [
        "Lamda= 4\n",
        "x=5\n",
        "prob_2=poisson.cdf(x,lamda)\n",
        "print(prob_2)"
      ],
      "metadata": {
        "colab": {
          "base_uri": "https://localhost:8080/"
        },
        "id": "v31QXZ65-chY",
        "outputId": "64ec5643-274b-4ecd-c384-8def5d998a66"
      },
      "execution_count": null,
      "outputs": [
        {
          "output_type": "stream",
          "name": "stdout",
          "text": [
            "0.7851303870304052\n"
          ]
        }
      ]
    },
    {
      "cell_type": "markdown",
      "source": [
        "# Lotes con 40 componentes, cada uno que contenga 3 o más defectuosos si se selecciona 5 componentes a la zar ¿cúal es la probabilidad de que salgan a lo más 3 defectuosos?\n",
        "$$ P(X≥3) $$"
      ],
      "metadata": {
        "id": "ZCNGAvPs9l2B"
      }
    },
    {
      "cell_type": "code",
      "source": [
        "N=40\n",
        "n=5\n",
        "k=3\n",
        "x=2\n",
        "prob_3=hypergeom.cdf(x,N,n,k)\n",
        "print(prob_3)"
      ],
      "metadata": {
        "colab": {
          "base_uri": "https://localhost:8080/"
        },
        "id": "chnPfab_BUyx",
        "outputId": "d17ff9d9-e077-4481-b2b4-5a0fdfa3f5bf"
      },
      "execution_count": null,
      "outputs": [
        {
          "output_type": "stream",
          "name": "stdout",
          "text": [
            "0.9989878542510121\n"
          ]
        }
      ]
    },
    {
      "cell_type": "code",
      "source": [
        "x=6\n",
        "k=4\n",
        "p=0.55\n",
        "q=0.45\n",
        "P(X=6)"
      ],
      "metadata": {
        "id": "XZ4zYsJvEUjG"
      },
      "execution_count": null,
      "outputs": []
    },
    {
      "cell_type": "markdown",
      "source": [
        "#Binomial Negativa"
      ],
      "metadata": {
        "id": "53_yxih6Gc8M"
      }
    },
    {
      "cell_type": "code",
      "source": [
        "p=0.55\n",
        "x=6-1\n",
        "k=4-1\n",
        "prob_4= binom.pmf(k, x, p)\n",
        "print(prob_4)"
      ],
      "metadata": {
        "colab": {
          "base_uri": "https://localhost:8080/"
        },
        "id": "eDuSbUUTkQfM",
        "outputId": "5a0dcf38-e358-4031-e405-c39df1c54f01"
      },
      "execution_count": 6,
      "outputs": [
        {
          "output_type": "stream",
          "name": "stdout",
          "text": [
            "0.3369093749999999\n"
          ]
        }
      ]
    }
  ]
}