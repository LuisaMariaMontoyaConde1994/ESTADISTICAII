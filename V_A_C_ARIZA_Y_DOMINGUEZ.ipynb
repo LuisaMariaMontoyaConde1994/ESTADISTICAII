{
  "nbformat": 4,
  "nbformat_minor": 0,
  "metadata": {
    "colab": {
      "provenance": [],
      "authorship_tag": "ABX9TyOl2V8uwVAOc+OtiaAPHZjh",
      "include_colab_link": true
    },
    "kernelspec": {
      "name": "python3",
      "display_name": "Python 3"
    },
    "language_info": {
      "name": "python"
    }
  },
  "cells": [
    {
      "cell_type": "markdown",
      "metadata": {
        "id": "view-in-github",
        "colab_type": "text"
      },
      "source": [
        "<a href=\"https://colab.research.google.com/github/LuisaMariaMontoyaConde1994/ESTADISTICAII/blob/main/V_A_C_ARIZA_Y_DOMINGUEZ.ipynb\" target=\"_parent\"><img src=\"https://colab.research.google.com/assets/colab-badge.svg\" alt=\"Open In Colab\"/></a>"
      ]
    },
    {
      "cell_type": "markdown",
      "source": [
        "##Integrantes##\n",
        "Emilhy Ariza\n",
        "\n",
        "Kevin Dominguez"
      ],
      "metadata": {
        "id": "FKUTZAvHMsXP"
      }
    },
    {
      "cell_type": "markdown",
      "source": [
        "La demanda semanal de una bebida en una cadena de almacenes, se distribuye como una variable aleatoria continua.\n",
        "$$f(x)= \\left\\{ \\begin{array}{lcc} 2(x-1) & si & 1<x<2 \\\\ \\\\ 0 &  & en \\ otro\\  caso &  & \\end{array} \\right.$$\n",
        "\n",
        "Hallar el valor esperado de esa funcion."
      ],
      "metadata": {
        "id": "yMDJqFj-C9oa"
      }
    },
    {
      "cell_type": "markdown",
      "source": [
        "##Solución##"
      ],
      "metadata": {
        "id": "elv3J5qADeSB"
      }
    },
    {
      "cell_type": "markdown",
      "source": [
        "$$\\int_{-\\infty}^{\\infty}xf(x)dx=\\int_{1}^{2}x(2(x-1))dx$$\n",
        "\n",
        "$$\\int_{1}^{2}x(2x-2)dx$$\n",
        "\n",
        "$$\\int_{1}^{2}(2x^2-2x)dx$$\n",
        "\n",
        "$$\\int_{1}^{2}(2x^2)dx-\\int_{1}^{2}(2x)dx$$  \n",
        "\n",
        "$$2\\int_{1}^{2}(x^2)dx-2\\int_{1}^{2}(x)dx$$\n",
        "\n",
        "$$2\\int_{1}^{2}\\frac{x^3}{3}-2\\int_{1}^{2}\\frac{x^2}{2}$$\n",
        "\n",
        "$$[\\frac{2(2)^3}{3}-\\frac{2(1)^3}{3}]-[(2)^2-(1)^2]$$\n",
        "\n",
        "$$[\\frac{16}{3}-\\frac{2}{3}]-[3]$$\n",
        "\n",
        "$$[\\frac{14}{3}-3]$$\n",
        "\n",
        "$$\\frac{5}{3}$$"
      ],
      "metadata": {
        "id": "324NQRjWFIkx"
      }
    }
  ]
}