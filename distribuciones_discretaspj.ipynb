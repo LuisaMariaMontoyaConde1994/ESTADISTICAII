{
  "nbformat": 4,
  "nbformat_minor": 0,
  "metadata": {
    "colab": {
      "provenance": [],
      "authorship_tag": "ABX9TyOCSFgiNueeFKYi8fA2o+V1",
      "include_colab_link": true
    },
    "kernelspec": {
      "name": "python3",
      "display_name": "Python 3"
    },
    "language_info": {
      "name": "python"
    }
  },
  "cells": [
    {
      "cell_type": "markdown",
      "metadata": {
        "id": "view-in-github",
        "colab_type": "text"
      },
      "source": [
        "<a href=\"https://colab.research.google.com/github/LuisaMariaMontoyaConde1994/ESTADISTICAII/blob/main/distribuciones_discretaspj.ipynb\" target=\"_parent\"><img src=\"https://colab.research.google.com/assets/colab-badge.svg\" alt=\"Open In Colab\"/></a>"
      ]
    },
    {
      "cell_type": "markdown",
      "source": [
        "Juan Felipe Hernandez Florez - Paula alejandra R\n",
        "ivas Bustos"
      ],
      "metadata": {
        "id": "rhyvtMBuESyH"
      }
    },
    {
      "cell_type": "markdown",
      "source": [
        "#Distribuciones discretas"
      ],
      "metadata": {
        "id": "fHcNFFfu7Q8h"
      }
    },
    {
      "cell_type": "code",
      "source": [
        "import numpy as np\n",
        "import matplotlib.pyplot as plt\n",
        "from scipy.stats import binom\n",
        "from scipy.stats import poisson\n",
        "from scipy.stats import hypergeom\n"
      ],
      "metadata": {
        "id": "IMtS-e8E7oTR"
      },
      "execution_count": null,
      "outputs": []
    },
    {
      "cell_type": "code",
      "source": [
        "import numpy as np\n",
        "import matplotlib.pyplot as plt\n",
        "from scipy.stats import binom"
      ],
      "metadata": {
        "id": "n6CJyEZGNIsX"
      },
      "execution_count": null,
      "outputs": []
    },
    {
      "cell_type": "code",
      "source": [
        "x=6\n",
        "lamda=4\n",
        "prob=poisson.pmf(x, lamda)\n",
        "print(prob)\n"
      ],
      "metadata": {
        "colab": {
          "base_uri": "https://localhost:8080/"
        },
        "id": "EiRIaaZe7zeR",
        "outputId": "3fa6b2c3-d73a-4511-8a8e-2cc33843a662"
      },
      "execution_count": null,
      "outputs": [
        {
          "output_type": "stream",
          "name": "stdout",
          "text": [
            "0.10419563456702102\n"
          ]
        }
      ]
    },
    {
      "cell_type": "code",
      "source": [
        "N=40\n",
        "n=5\n",
        "k=3\n",
        "x=2\n",
        "prob_1=hypergeom.cdf(x,N,n,k)\n",
        "print(prob_1)"
      ],
      "metadata": {
        "colab": {
          "base_uri": "https://localhost:8080/"
        },
        "id": "7phCmwZU8ogp",
        "outputId": "b21e0204-4272-435b-97fa-5b0518a75f72"
      },
      "execution_count": null,
      "outputs": [
        {
          "output_type": "stream",
          "name": "stdout",
          "text": [
            "0.0354251012145749\n"
          ]
        }
      ]
    },
    {
      "cell_type": "markdown",
      "source": [
        "a lo mas 5 particulas"
      ],
      "metadata": {
        "id": "uu_9NioH9XII"
      }
    },
    {
      "cell_type": "code",
      "source": [
        "lamda=1/5\n",
        "x_1=5\n",
        "prob_1=poisson.cdf(x_1, lamda)\n",
        "print(prob_1)"
      ],
      "metadata": {
        "colab": {
          "base_uri": "https://localhost:8080/"
        },
        "id": "SPPfoRdp-LtQ",
        "outputId": "934871f2-0bcf-4acc-8f7e-622e1fd119d6"
      },
      "execution_count": null,
      "outputs": [
        {
          "output_type": "stream",
          "name": "stdout",
          "text": [
            "0.9999999250914553\n"
          ]
        }
      ]
    },
    {
      "cell_type": "markdown",
      "source": [
        "a lo mas 3 defectuosos"
      ],
      "metadata": {
        "id": "iG6zU8Ws9cfA"
      }
    },
    {
      "cell_type": "code",
      "source": [
        "n= 5\n",
        "p=0.0354\n",
        "k=3\n",
        "x_1=2\n",
        "prob_1=binom.cdf(x_1, n, p, k)\n",
        "print(prob_1)"
      ],
      "metadata": {
        "colab": {
          "base_uri": "https://localhost:8080/"
        },
        "id": "fETJT-_L-ixA",
        "outputId": "9714b697-8dc3-4732-cb3c-c17b364e39e7"
      },
      "execution_count": null,
      "outputs": [
        {
          "output_type": "stream",
          "name": "stdout",
          "text": [
            "0.0\n"
          ]
        }
      ]
    },
    {
      "cell_type": "markdown",
      "source": [
        "**realice el mas ejemplo de la bonimial negativa, usando codigo,  y el de la distribucion geo**"
      ],
      "metadata": {
        "id": "DhvNPUkI9wQI"
      }
    },
    {
      "cell_type": "markdown",
      "source": [
        "¿Cuál es la probabilidad que entre 30 personas al menos el se escojan 10 personas entre ellas, teniendo cada una la probabilidad del 10% de ser elegida?\n",
        "\n",
        "\n",
        "$$P(X\\geq 10)$$"
      ],
      "metadata": {
        "id": "S1Efhm9cMZNB"
      }
    },
    {
      "cell_type": "code",
      "source": [
        "n=30\n",
        "p=0.1\n",
        "x=10\n",
        "pro_1= 1-binom.cdf(x, n, p)\n",
        "print(pro_1)"
      ],
      "metadata": {
        "colab": {
          "base_uri": "https://localhost:8080/"
        },
        "id": "KpofHuIRMZ4l",
        "outputId": "216aba28-daee-40ee-c75c-906811054660"
      },
      "execution_count": null,
      "outputs": [
        {
          "output_type": "stream",
          "name": "stdout",
          "text": [
            "8.907787382306243e-05\n"
          ]
        }
      ]
    }
  ]
}