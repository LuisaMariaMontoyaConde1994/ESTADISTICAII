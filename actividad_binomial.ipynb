{
  "nbformat": 4,
  "nbformat_minor": 0,
  "metadata": {
    "colab": {
      "provenance": [],
      "authorship_tag": "ABX9TyPwxUIJ+WFgHr7LG/sgklRq",
      "include_colab_link": true
    },
    "kernelspec": {
      "name": "python3",
      "display_name": "Python 3"
    },
    "language_info": {
      "name": "python"
    }
  },
  "cells": [
    {
      "cell_type": "markdown",
      "metadata": {
        "id": "view-in-github",
        "colab_type": "text"
      },
      "source": [
        "<a href=\"https://colab.research.google.com/github/LuisaMariaMontoyaConde1994/ESTADISTICAII/blob/main/actividad_binomial.ipynb\" target=\"_parent\"><img src=\"https://colab.research.google.com/assets/colab-badge.svg\" alt=\"Open In Colab\"/></a>"
      ]
    },
    {
      "cell_type": "markdown",
      "source": [
        "** JUAN FELIPE HERNANDEZ FLOREZ**"
      ],
      "metadata": {
        "id": "puCEKFlI2hUn"
      }
    },
    {
      "cell_type": "markdown",
      "source": [
        "# **Actividad**\n",
        "En una elección, un candidato tiene una probabilidad del 60% de recibir un voto en cada votación individual. Si se emiten 20 votos.\n",
        "\n",
        "\n",
        "1.   ¿Cuál es la probabilidad que que al menos el candidato obtenga 12 votos?\n",
        "2.   ¿Cuál es la probabilidad  que a lo más 10 votos?\n",
        "3.   ¿Cuál es la probabilidad  que obtenga entre 9 y 16 votos?\n",
        "4.   ¿Cuál es la probabilidad  que obtenga 15 votos exactamente?"
      ],
      "metadata": {
        "id": "y9gvWNn61SoP"
      }
    },
    {
      "cell_type": "code",
      "source": [
        "import numpy as np\n",
        "import matplotlib.pyplot as plt\n",
        "from scipy.stats import binom"
      ],
      "metadata": {
        "id": "HK4e77ni2NZu"
      },
      "execution_count": 1,
      "outputs": []
    },
    {
      "cell_type": "markdown",
      "source": [
        "¿Cuál es la probabilidad que que al menos el candidato obtenga 12 votos?\n",
        "$$P(X\\geq 12)$$"
      ],
      "metadata": {
        "id": "uJf_gseT2Sue"
      }
    },
    {
      "cell_type": "code",
      "source": [
        "n=20\n",
        "p=0.6\n",
        "x=12\n",
        "pro_1= 1-binom.cdf(x, n, p)\n",
        "print(pro_1)"
      ],
      "metadata": {
        "colab": {
          "base_uri": "https://localhost:8080/"
        },
        "id": "og9aQ8zV2nxW",
        "outputId": "79540aea-c5d9-44ca-d470-6609b5c76312"
      },
      "execution_count": 2,
      "outputs": [
        {
          "output_type": "stream",
          "name": "stdout",
          "text": [
            "0.00027890443878397786\n"
          ]
        }
      ]
    },
    {
      "cell_type": "markdown",
      "source": [
        "**la probabilidad de que obtengan votos a lo menos 12 personas es de $0.002\\%$ aproximadamente**"
      ],
      "metadata": {
        "id": "RxDiukyp3ZNO"
      }
    },
    {
      "cell_type": "markdown",
      "source": [
        "¿Cuál es la probabilidad que a lo más 10 votos?\n",
        "$$p(8\\leq X)$$"
      ],
      "metadata": {
        "id": "EX_6ifbf4t_e"
      }
    },
    {
      "cell_type": "code",
      "source": [
        "n= 20\n",
        "p=0.6\n",
        "x_1=10\n",
        "prob_1=binom.cdf(x_1, n, p)\n",
        "print(prob_1)"
      ],
      "metadata": {
        "colab": {
          "base_uri": "https://localhost:8080/"
        },
        "id": "HdJZLRr94wOQ",
        "outputId": "5dc3c21d-a5bc-4540-9c48-23ba040a7c5f"
      },
      "execution_count": 3,
      "outputs": [
        {
          "output_type": "stream",
          "name": "stdout",
          "text": [
            "0.24466279668360685\n"
          ]
        }
      ]
    },
    {
      "cell_type": "markdown",
      "source": [
        "**la probabilidad de que obtengan votos a lo  mas 12 personas es de $24\\%$ aproximadamente**"
      ],
      "metadata": {
        "id": "netSjbat4_SO"
      }
    },
    {
      "cell_type": "markdown",
      "source": [
        "¿Cuál es la probabilidad  que obtenga entre 9 y 16 votos?\n",
        "$$p(9\\leq x \\leq 16)$$"
      ],
      "metadata": {
        "id": "WFI8Nlb_5Vpm"
      }
    },
    {
      "cell_type": "code",
      "source": [
        "n= 20\n",
        "p=0.6\n",
        "x_1=9\n",
        "x_2=16\n",
        "prob=binom.cdf(x_2, n, p)-binom.cdf(x_1, n, p)\n",
        "print(prob)"
      ],
      "metadata": {
        "colab": {
          "base_uri": "https://localhost:8080/"
        },
        "id": "cnoZ7Frr5c2p",
        "outputId": "a6839868-2415-4f2b-a332-832fbf336d4d"
      },
      "execution_count": 4,
      "outputs": [
        {
          "output_type": "stream",
          "name": "stdout",
          "text": [
            "0.856517591062775\n"
          ]
        }
      ]
    },
    {
      "cell_type": "markdown",
      "source": [
        "**la probabilidad que obtenga entre 9 y 16 votos es de  $85\\%$ aproximadamente**"
      ],
      "metadata": {
        "id": "3YRlezf_5l8N"
      }
    },
    {
      "cell_type": "markdown",
      "source": [
        "¿Cuál es la probabilidad que obtenga 15 votos exactamente?"
      ],
      "metadata": {
        "id": "KkqLJwMv7CL9"
      }
    },
    {
      "cell_type": "code",
      "source": [
        "n= 20\n",
        "p=0.6\n",
        "x_1=15\n",
        "prob_1=binom.pmf(x_1, n, p)\n",
        "print(prob_1)"
      ],
      "metadata": {
        "colab": {
          "base_uri": "https://localhost:8080/"
        },
        "id": "OU9dXeb-7EkN",
        "outputId": "4a9999a4-b084-4862-b3de-92974faac841"
      },
      "execution_count": 5,
      "outputs": [
        {
          "output_type": "stream",
          "name": "stdout",
          "text": [
            "0.07464701952887111\n"
          ]
        }
      ]
    },
    {
      "cell_type": "markdown",
      "source": [
        "**la probabilidad que obtenga 15 exactamente es de  $7\\%$ aproximadamente**"
      ],
      "metadata": {
        "id": "b-M2Qfq37yY9"
      }
    }
  ]
}