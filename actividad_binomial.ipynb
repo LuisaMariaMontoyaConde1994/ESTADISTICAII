{
  "nbformat": 4,
  "nbformat_minor": 0,
  "metadata": {
    "colab": {
      "provenance": [],
      "authorship_tag": "ABX9TyMo3riJtg1wCyDxp8LUNn7j",
      "include_colab_link": true
    },
    "kernelspec": {
      "name": "python3",
      "display_name": "Python 3"
    },
    "language_info": {
      "name": "python"
    }
  },
  "cells": [
    {
      "cell_type": "markdown",
      "metadata": {
        "id": "view-in-github",
        "colab_type": "text"
      },
      "source": [
        "<a href=\"https://colab.research.google.com/github/LuisaMariaMontoyaConde1994/ESTADISTICAII/blob/main/actividad_binomial.ipynb\" target=\"_parent\"><img src=\"https://colab.research.google.com/assets/colab-badge.svg\" alt=\"Open In Colab\"/></a>"
      ]
    },
    {
      "cell_type": "markdown",
      "source": [
        "#**Gabriel Arturo Aguilar Jiménez**#"
      ],
      "metadata": {
        "id": "Tv2wg8UO1Un5"
      }
    },
    {
      "cell_type": "markdown",
      "source": [
        "#*Actividad*#\n",
        "En una elección, un candidato tiene una probabilidad del 60% de recibir un voto en cada votación individual. Si se emiten 20 votos.\n",
        "\n",
        "\n",
        "1.   ¿Cuál es la probabilidad que que al menos el candidato obtenga 12 votos?\n",
        "2.   ¿Cuál es la probabilidad  que a lo más 10 votos?\n",
        "3.   ¿Cuál es la probabilidad  que obtenga entre 9 y 16 votos?\n",
        "4.   ¿Cuál es la probabilidad  que obtenga 15 votos exactamente?\n"
      ],
      "metadata": {
        "id": "j3ibAwcK216I"
      }
    },
    {
      "cell_type": "markdown",
      "source": [
        "1 ¿Cuál es la probabilidad que que al menos el candidato obtenga 12 votos?\n",
        "$$P(x\\geq 12)$$\n"
      ],
      "metadata": {
        "id": "NNI8yJNS3PSA"
      }
    },
    {
      "cell_type": "code",
      "source": [
        "n=20\n",
        "p=0.6\n",
        "x=12\n",
        "prob_1=1 -binom.cdf(x, n, p,)\n",
        "print(prob_1)"
      ],
      "metadata": {
        "colab": {
          "base_uri": "https://localhost:8080/"
        },
        "id": "5VNocoJu6OVq",
        "outputId": "80d20e4c-722e-482a-a358-dde4c54b2566"
      },
      "execution_count": 5,
      "outputs": [
        {
          "output_type": "stream",
          "name": "stdout",
          "text": [
            "0.41589293755753554\n"
          ]
        }
      ]
    },
    {
      "cell_type": "code",
      "source": [
        "import numpy as np\n",
        "import matplotlib.pyplot as plt\n",
        "from scipy.stats import binom"
      ],
      "metadata": {
        "id": "Kbj1PC7c6iHn"
      },
      "execution_count": 3,
      "outputs": []
    },
    {
      "cell_type": "markdown",
      "source": [
        "la probabilidad de que al menos tenga 12 votos es del 41.5%"
      ],
      "metadata": {
        "id": "EhM4E1yr6sCQ"
      }
    },
    {
      "cell_type": "markdown",
      "source": [
        " 2 ¿Cuál es la probabilidad  que a lo más 10 votos?\n",
        "\n",
        " $$P(x\\leq 10)$$\n",
        "\n",
        "---\n",
        "\n"
      ],
      "metadata": {
        "id": "KCdcocp322Cp"
      }
    },
    {
      "cell_type": "code",
      "source": [
        "n=20\n",
        "p=0.6\n",
        "x=10\n",
        "prob_1=binom.cdf(x, n, p,)\n",
        "print(prob_1)"
      ],
      "metadata": {
        "colab": {
          "base_uri": "https://localhost:8080/"
        },
        "id": "xkJm3Tpn8dS4",
        "outputId": "c8653a0d-add7-4b29-8be7-daa09c4c47c9"
      },
      "execution_count": 6,
      "outputs": [
        {
          "output_type": "stream",
          "name": "stdout",
          "text": [
            "0.24466279668360685\n"
          ]
        }
      ]
    },
    {
      "cell_type": "markdown",
      "source": [
        "la probabilidad de que el candidato obtenga 10 votos es 24%"
      ],
      "metadata": {
        "id": "-afPoEjy8xrY"
      }
    },
    {
      "cell_type": "markdown",
      "source": [
        "3 ¿Cuál es la probabilidad que obtenga entre 9 y 16 votos?\n",
        "$$P(9\\leq X \\leq16)$$"
      ],
      "metadata": {
        "id": "RsB0szZw9FH4"
      }
    },
    {
      "cell_type": "code",
      "source": [
        "n=20\n",
        "p=0.6\n",
        "x_1=9\n",
        "x_2=16\n",
        "prob=binom.cdf(x_2,n,p)-binom.cdf(x_1,n,p)\n",
        "print(prob)"
      ],
      "metadata": {
        "colab": {
          "base_uri": "https://localhost:8080/"
        },
        "id": "jT-X6hHp9VeT",
        "outputId": "f52f2df0-20f5-43e2-817b-a81abb39acd1"
      },
      "execution_count": 7,
      "outputs": [
        {
          "output_type": "stream",
          "name": "stdout",
          "text": [
            "0.856517591062775\n"
          ]
        }
      ]
    },
    {
      "cell_type": "markdown",
      "source": [
        "3 la probabilidad de que obtenga entre 9 y 16 votos es 85%"
      ],
      "metadata": {
        "id": "4d6SWykV9kqY"
      }
    },
    {
      "cell_type": "markdown",
      "source": [
        "4 ¿Cuál es la probabilidad que obtenga 15 votos exactamente?\n",
        "\n",
        "* $p=0.6$\n",
        "* $q=1-0.6=0.4$\n",
        "* $n=20$\n",
        "\n",
        "$$P(X=15)\\binom{15}{20}(0.6)^{15}(0.4)^{20-15}$$\n"
      ],
      "metadata": {
        "id": "vnRQ64ek90xY"
      }
    },
    {
      "cell_type": "code",
      "source": [
        "n=20\n",
        "p=0.6\n",
        "x=15\n",
        "pro=binom.pmf(15, 20, 0.6)\n",
        "print(pro)"
      ],
      "metadata": {
        "colab": {
          "base_uri": "https://localhost:8080/"
        },
        "id": "19oE3Bb1-yfZ",
        "outputId": "186067d6-f937-48ec-bba0-c7f0cc8693ad"
      },
      "execution_count": 9,
      "outputs": [
        {
          "output_type": "stream",
          "name": "stdout",
          "text": [
            "0.07464701952887111\n"
          ]
        }
      ]
    },
    {
      "cell_type": "markdown",
      "source": [
        "4)la probabilidad de que tenga exactamente 15 votos es 7.4% aproximadamente"
      ],
      "metadata": {
        "id": "-AsSuTOc_GHY"
      }
    }
  ]
}