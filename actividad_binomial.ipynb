{
  "nbformat": 4,
  "nbformat_minor": 0,
  "metadata": {
    "colab": {
      "provenance": [],
      "authorship_tag": "ABX9TyNagPVxGwwMBbaKx/qNqe4D",
      "include_colab_link": true
    },
    "kernelspec": {
      "name": "python3",
      "display_name": "Python 3"
    },
    "language_info": {
      "name": "python"
    }
  },
  "cells": [
    {
      "cell_type": "markdown",
      "metadata": {
        "id": "view-in-github",
        "colab_type": "text"
      },
      "source": [
        "<a href=\"https://colab.research.google.com/github/LuisaMariaMontoyaConde1994/ESTADISTICAII/blob/main/actividad_binomial.ipynb\" target=\"_parent\"><img src=\"https://colab.research.google.com/assets/colab-badge.svg\" alt=\"Open In Colab\"/></a>"
      ]
    },
    {
      "cell_type": "markdown",
      "source": [
        "# **Nikol Sofia Perez Babativa**"
      ],
      "metadata": {
        "id": "AfcGUNba5GLW"
      }
    },
    {
      "cell_type": "markdown",
      "source": [
        "# **ACTIVIDAD**\n",
        "\n",
        "En una elección, un candidato tiene una probabilidad del 60% de recibir un voto en cada votación individual. Si se emiten 20 votos.\n",
        "\n",
        "\n",
        "1.   ¿Cuál es la probabilidad que que al menos el candidato obtenga 12 votos?\n",
        "2.   ¿Cuál es la probabilidad  que a lo más 10 votos?\n",
        "3.   ¿Cuál es la probabilidad  que obtenga entre 9 y 16 votos?\n",
        "4.   ¿Cuál es la probabilidad  que obtenga 15 votos exactamente?\n",
        "\n",
        "\n",
        "* $p=0.6$\n",
        "* $q=1-p=1-0.6=0.4$\n",
        "* $n=20$\n",
        "\n",
        "\n"
      ],
      "metadata": {
        "id": "YdKOWpHO1Ufo"
      }
    },
    {
      "cell_type": "code",
      "execution_count": null,
      "metadata": {
        "id": "81dNfs6n1HRl"
      },
      "outputs": [],
      "source": [
        "import numpy as np\n",
        "import matplotlib.pyplot as plt\n",
        "from scipy.stats import binom"
      ]
    },
    {
      "cell_type": "markdown",
      "source": [
        "¿Cuál es la probabilidad que que al menos el candidato obtenga 12 votos?\n",
        "$$P(X \\geq 12)$$\n"
      ],
      "metadata": {
        "id": "c_hyf32o2L9n"
      }
    },
    {
      "cell_type": "code",
      "source": [
        "n=20\n",
        "p=0.6\n",
        "x=12\n",
        "prob_1=1-binom.cdf(x,n,p)\n",
        "print(prob_1)"
      ],
      "metadata": {
        "colab": {
          "base_uri": "https://localhost:8080/"
        },
        "id": "PUd3UXfS20kH",
        "outputId": "62bdfaeb-9355-4967-e420-719dbfe67279"
      },
      "execution_count": null,
      "outputs": [
        {
          "output_type": "stream",
          "name": "stdout",
          "text": [
            "0.41589293755753554\n"
          ]
        }
      ]
    },
    {
      "cell_type": "markdown",
      "source": [
        "La probabilidad de que al menos el candidato obtenga $12$ votos es del $41,58\\%$"
      ],
      "metadata": {
        "id": "zJY4VDN93NUn"
      }
    },
    {
      "cell_type": "markdown",
      "source": [
        "¿Cuál es la probabilidad que a lo más 10 votos?"
      ],
      "metadata": {
        "id": "t3hdKbAy3Y7f"
      }
    },
    {
      "cell_type": "code",
      "source": [
        "n=20\n",
        "p=0.6\n",
        "x=10\n",
        "prob_1=binom.cdf(x,n,p)\n",
        "print(prob_1)"
      ],
      "metadata": {
        "colab": {
          "base_uri": "https://localhost:8080/"
        },
        "id": "dOHzaq4q3f7m",
        "outputId": "e930bb7d-1446-4d9f-93dc-09c539c8da38"
      },
      "execution_count": null,
      "outputs": [
        {
          "output_type": "stream",
          "name": "stdout",
          "text": [
            "0.24466279668360685\n"
          ]
        }
      ]
    },
    {
      "cell_type": "markdown",
      "source": [
        "La probabilidad de que obtenga a los mas $10$ votos es del $24.46\\%$"
      ],
      "metadata": {
        "id": "9FHaLwSb38hu"
      }
    },
    {
      "cell_type": "markdown",
      "source": [
        "¿Cuál es la probabilidad que obtenga entre 9 y 16 votos?\n",
        "$$(9\\leq x \\leq  16)$$"
      ],
      "metadata": {
        "id": "cQadEbT84Nd3"
      }
    },
    {
      "cell_type": "code",
      "source": [
        "n=20\n",
        "p=0.6\n",
        "x_1=9\n",
        "x_2=16\n",
        "prob=binom.cdf(x_2,n,p)-binom.cdf(x_1,n,p)\n",
        "print(prob)"
      ],
      "metadata": {
        "colab": {
          "base_uri": "https://localhost:8080/"
        },
        "id": "9hfT7pDk4T_q",
        "outputId": "5865ef4a-8535-44a0-f4f9-03ddb33cad54"
      },
      "execution_count": null,
      "outputs": [
        {
          "output_type": "stream",
          "name": "stdout",
          "text": [
            "0.856517591062775\n"
          ]
        }
      ]
    },
    {
      "cell_type": "markdown",
      "source": [
        "La probabilidad que tengo entre $9$ y $16$ es del $85,65\\%$"
      ],
      "metadata": {
        "id": "h8JglAld4jQP"
      }
    },
    {
      "cell_type": "markdown",
      "source": [
        "¿Cuál es la probabilidad que obtenga $15$ votos exactamente?\n",
        "$$p(x=15)$$"
      ],
      "metadata": {
        "id": "bnK5WmLV40bG"
      }
    },
    {
      "cell_type": "code",
      "source": [
        "n=20\n",
        "p=0.6\n",
        "x=15\n",
        "pro=binom.pmf(x,n,p)\n",
        "print(pro)"
      ],
      "metadata": {
        "colab": {
          "base_uri": "https://localhost:8080/"
        },
        "id": "u2Qh6hPf43N2",
        "outputId": "4b6537dc-1509-4442-9e8c-611e56713fe6"
      },
      "execution_count": null,
      "outputs": [
        {
          "output_type": "stream",
          "name": "stdout",
          "text": [
            "0.07464701952887111\n"
          ]
        }
      ]
    },
    {
      "cell_type": "markdown",
      "source": [
        "La probabilidad de que obtenga exactamente 15 votos es del $7.4\\%$"
      ],
      "metadata": {
        "id": "yrHdvOz_5ktW"
      }
    }
  ]
}