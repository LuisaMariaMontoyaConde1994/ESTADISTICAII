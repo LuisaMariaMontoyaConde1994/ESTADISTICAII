{
  "nbformat": 4,
  "nbformat_minor": 0,
  "metadata": {
    "colab": {
      "provenance": [],
      "authorship_tag": "ABX9TyOiYsb81+qTenCP3yYRQsN4",
      "include_colab_link": true
    },
    "kernelspec": {
      "name": "python3",
      "display_name": "Python 3"
    },
    "language_info": {
      "name": "python"
    }
  },
  "cells": [
    {
      "cell_type": "markdown",
      "metadata": {
        "id": "view-in-github",
        "colab_type": "text"
      },
      "source": [
        "<a href=\"https://colab.research.google.com/github/LuisaMariaMontoyaConde1994/ESTADISTICAII/blob/main/actividad_binomial.ipynb\" target=\"_parent\"><img src=\"https://colab.research.google.com/assets/colab-badge.svg\" alt=\"Open In Colab\"/></a>"
      ]
    },
    {
      "cell_type": "code",
      "execution_count": null,
      "metadata": {
        "id": "gZTK1KFg1X4C"
      },
      "outputs": [],
      "source": []
    },
    {
      "cell_type": "markdown",
      "source": [
        "WILSON SANTIAGO LEON FULA"
      ],
      "metadata": {
        "id": "eTjYDFck5KNW"
      }
    },
    {
      "cell_type": "markdown",
      "source": [
        "# **ACTIVIDAD**\n",
        "En una elección, un candidato tiene una probabilidad del 60% de recibir un voto en cada votación individual. Si se emiten 20 votos.\n",
        "\n",
        "\n",
        "1.   ¿Cuál es la probabilidad que que al menos el candidato obtenga 12 votos?\n",
        "2.   ¿Cuál es la probabilidad  que a lo más 10 votos?\n",
        "3.   ¿Cuál es la probabilidad  que obtenga entre 9 y 16 votos?\n",
        "4.   ¿Cuál es la probabilidad  que obtenga 15 votos exactamente?"
      ],
      "metadata": {
        "id": "2EXG7oh-1b2t"
      }
    },
    {
      "cell_type": "code",
      "source": [
        "import numpy as np\n",
        "import matplotlib.pyplot as plt\n",
        "from scipy.stats import binom"
      ],
      "metadata": {
        "id": "jTrlgC2H2GSN"
      },
      "execution_count": 1,
      "outputs": []
    },
    {
      "cell_type": "markdown",
      "source": [
        "¿Cuál es la probabilidad que que al menos el candidato obtenga 12 votos?\n",
        "\n",
        "$$(X\\geq 12)$$"
      ],
      "metadata": {
        "id": "vgw2nh1I2Jm_"
      }
    },
    {
      "cell_type": "code",
      "source": [
        "n=20\n",
        "p=0.6\n",
        "x=12\n",
        "prob_1=1-binom.cdf(x, n, p)\n",
        "print(prob_1)"
      ],
      "metadata": {
        "colab": {
          "base_uri": "https://localhost:8080/"
        },
        "id": "U7wbS_Kf3KLF",
        "outputId": "0d8a0031-3232-4a1a-c9c9-b9bb7395afbb"
      },
      "execution_count": 2,
      "outputs": [
        {
          "output_type": "stream",
          "name": "stdout",
          "text": [
            "0.41589293755753554\n"
          ]
        }
      ]
    },
    {
      "cell_type": "markdown",
      "source": [
        "la probabilidad de que el candidato al menos obtenga 12 votos es del 12%"
      ],
      "metadata": {
        "id": "yvbGBH9_5CQt"
      }
    },
    {
      "cell_type": "markdown",
      "source": [
        "2. ¿Cuál es la probabilidad que a lo más 10 votos?\n"
      ],
      "metadata": {
        "id": "zamludZn5I9F"
      }
    },
    {
      "cell_type": "code",
      "source": [
        "n=20\n",
        "p=0.6\n",
        "x=10\n",
        "prob_1=binom.cdf(x, n, p)\n",
        "print(prob_1)"
      ],
      "metadata": {
        "colab": {
          "base_uri": "https://localhost:8080/"
        },
        "id": "zwR8NpB45ocr",
        "outputId": "e40d6d4f-6723-4b70-8062-7562e0b55e80"
      },
      "execution_count": 10,
      "outputs": [
        {
          "output_type": "stream",
          "name": "stdout",
          "text": [
            "0.24466279668360685\n"
          ]
        }
      ]
    },
    {
      "cell_type": "markdown",
      "source": [
        "LA PROBABILIDAD DE QUE A LO MAS OBTENGA 10 VOTOS ES DEL 24%"
      ],
      "metadata": {
        "id": "7VMKnhoe674m"
      }
    },
    {
      "cell_type": "markdown",
      "source": [
        "3. ¿Cuál es la probabilidad que obtenga entre 9 y 16 votos?\n",
        "$$(9\\geq X \\geq 16)$$"
      ],
      "metadata": {
        "id": "XiN3MRxg7HgE"
      }
    },
    {
      "cell_type": "code",
      "source": [
        "n=20\n",
        "p=0.6\n",
        "x_1=9\n",
        "x_2=16\n",
        "prob_1=binom.cdf(x_2, n, p)-binom.cdf(x_1, n, p)\n",
        "print(prob_1)"
      ],
      "metadata": {
        "colab": {
          "base_uri": "https://localhost:8080/"
        },
        "id": "buYnCXpq7uFF",
        "outputId": "692ad522-0965-4f21-fbe5-b595624e58dc"
      },
      "execution_count": 12,
      "outputs": [
        {
          "output_type": "stream",
          "name": "stdout",
          "text": [
            "0.856517591062775\n"
          ]
        }
      ]
    },
    {
      "cell_type": "markdown",
      "source": [
        "4.  ¿Cuál es la probabilidad que obtenga 15 votos exactamente?\n"
      ],
      "metadata": {
        "id": "bXIpFfPb8hDE"
      }
    },
    {
      "cell_type": "code",
      "source": [
        "n=20\n",
        "p=0.6\n",
        "x=15\n",
        "pro=binom.pmf(x, n, p)\n",
        "print(pro)"
      ],
      "metadata": {
        "colab": {
          "base_uri": "https://localhost:8080/"
        },
        "id": "Op7YMupb8mh8",
        "outputId": "9186a712-6a41-403e-997f-052ed86f30f1"
      },
      "execution_count": 14,
      "outputs": [
        {
          "output_type": "stream",
          "name": "stdout",
          "text": [
            "0.07464701952887111\n"
          ]
        }
      ]
    }
  ]
}