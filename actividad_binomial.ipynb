{
  "nbformat": 4,
  "nbformat_minor": 0,
  "metadata": {
    "colab": {
      "provenance": [],
      "authorship_tag": "ABX9TyODgtxTn1NCCU6/Z66+Ar1u",
      "include_colab_link": true
    },
    "kernelspec": {
      "name": "python3",
      "display_name": "Python 3"
    },
    "language_info": {
      "name": "python"
    }
  },
  "cells": [
    {
      "cell_type": "markdown",
      "metadata": {
        "id": "view-in-github",
        "colab_type": "text"
      },
      "source": [
        "<a href=\"https://colab.research.google.com/github/LuisaMariaMontoyaConde1994/ESTADISTICAII/blob/main/actividad_binomial.ipynb\" target=\"_parent\"><img src=\"https://colab.research.google.com/assets/colab-badge.svg\" alt=\"Open In Colab\"/></a>"
      ]
    },
    {
      "cell_type": "markdown",
      "source": [
        "**Emilhy Ariza**\n",
        "**Lissa Cross**\n",
        "**Grupo C**"
      ],
      "metadata": {
        "id": "CyypnRoN77b7"
      }
    },
    {
      "cell_type": "markdown",
      "source": [
        "# Actividad\n",
        "\n",
        "*En una elección, un candidato tiene una probabilidad del 60% de recibir un voto en cada votación individual. Si se emiten 20 votos*\n",
        "\n",
        "\n",
        "*1.   ¿Cuál es la probabilidad que que al menos el candidato obtenga 12 votos?*\n",
        "*2.   ¿Cuál es la probabilidad  que a lo más 10 votos?*\n",
        "*3.   ¿Cuál es la probabilidad  que obtenga entre 9 y 16 votos?*\n",
        "*4.   ¿Cuál es la probabilidad  que obtenga 15 votos exactamente?*\n"
      ],
      "metadata": {
        "id": "_Sqq3HOf1SYc"
      }
    },
    {
      "cell_type": "code",
      "source": [
        "import numpy as np\n",
        "import matplotlib.pyplot as plt\n",
        "from scipy.stats import binom"
      ],
      "metadata": {
        "id": "rauzlmKs1Tak"
      },
      "execution_count": 9,
      "outputs": []
    },
    {
      "cell_type": "markdown",
      "source": [
        "1*.   ¿Cuál es la probabilidad que que al menos el candidato obtenga 12 votos?*\n",
        "$$P(X\\geq 12)$$\n",
        "\n"
      ],
      "metadata": {
        "id": "2PnMmI-z4oaT"
      }
    },
    {
      "cell_type": "code",
      "source": [
        "n=20\n",
        "p=0.6\n",
        "x=12\n",
        "\n",
        "prob_1=1-binom.cdf(x, n, p)\n",
        "print(prob_1)\n"
      ],
      "metadata": {
        "colab": {
          "base_uri": "https://localhost:8080/"
        },
        "id": "hv8XH6B04vok",
        "outputId": "49195d2a-28ef-43cb-8238-a4f57574f424"
      },
      "execution_count": 8,
      "outputs": [
        {
          "output_type": "stream",
          "name": "stdout",
          "text": [
            "0.41589293755753554\n"
          ]
        }
      ]
    },
    {
      "cell_type": "markdown",
      "source": [
        "*La probabilidad de que obtenga 12 votos es de $41\\%$*"
      ],
      "metadata": {
        "id": "TBC_uzUr6GPz"
      }
    },
    {
      "cell_type": "markdown",
      "source": [
        "¿Cuál es la probabilidad que a lo más obtenga 10 votos?"
      ],
      "metadata": {
        "id": "-c9y-SNA5L16"
      }
    },
    {
      "cell_type": "code",
      "source": [
        "n=20\n",
        "p=0.6\n",
        "x=10\n",
        "\n",
        "prob_1=binom.cdf(x, n, p)\n",
        "print(prob_1)"
      ],
      "metadata": {
        "colab": {
          "base_uri": "https://localhost:8080/"
        },
        "id": "UoJ2nJxx4aI9",
        "outputId": "cf89bcf7-3cfd-4de7-80e4-83386d5d553a"
      },
      "execution_count": 4,
      "outputs": [
        {
          "output_type": "stream",
          "name": "stdout",
          "text": [
            "0.24466279668360685\n"
          ]
        }
      ]
    },
    {
      "cell_type": "markdown",
      "source": [
        "*La probabilidad de que a lo más obtenga 10 votos es de $24\\%$*\n"
      ],
      "metadata": {
        "id": "D9SorUiD58RM"
      }
    },
    {
      "cell_type": "markdown",
      "source": [
        "3.   ¿Cuál es la probabilidad  que obtenga entre 9 y 16 votos?\n",
        "$$P(9\\leq X \\leq 16)$$"
      ],
      "metadata": {
        "id": "PzUmAc3l61Gm"
      }
    },
    {
      "cell_type": "code",
      "source": [
        "n=20\n",
        "p=0.6\n",
        "x_1=9\n",
        "x_2=16\n",
        "prob=binom.cdf(x_2,n,p)-binom.cdf(x_1,n,p)\n",
        "print(prob)"
      ],
      "metadata": {
        "colab": {
          "base_uri": "https://localhost:8080/"
        },
        "id": "K_UO__x066SG",
        "outputId": "921e896f-01f1-455b-a443-45bab72c92db"
      },
      "execution_count": 5,
      "outputs": [
        {
          "output_type": "stream",
          "name": "stdout",
          "text": [
            "0.856517591062775\n"
          ]
        }
      ]
    },
    {
      "cell_type": "markdown",
      "source": [
        "La probabilidad de que obtenga entre 9 y 16 votos es de $85\\%$"
      ],
      "metadata": {
        "id": "AyUxmIYm7R3L"
      }
    },
    {
      "cell_type": "markdown",
      "source": [
        "4.   ¿Cuál es la probabilidad  que obtenga 15 votos exactamente?\n"
      ],
      "metadata": {
        "id": "cuZR0iZd7fVS"
      }
    },
    {
      "cell_type": "code",
      "source": [
        "n=20\n",
        "p=0.6\n",
        "x=15\n",
        "pro=binom.pmf(x, n, p )\n",
        "print(pro)"
      ],
      "metadata": {
        "colab": {
          "base_uri": "https://localhost:8080/"
        },
        "id": "m6NURa0J7kL7",
        "outputId": "c6f705ac-6169-42af-d681-20abb710ee9d"
      },
      "execution_count": 6,
      "outputs": [
        {
          "output_type": "stream",
          "name": "stdout",
          "text": [
            "0.07464701952887111\n"
          ]
        }
      ]
    }
  ]
}