{
  "nbformat": 4,
  "nbformat_minor": 0,
  "metadata": {
    "colab": {
      "provenance": [],
      "authorship_tag": "ABX9TyMyIgJZ4ljPZ+UyV64mUbGM",
      "include_colab_link": true
    },
    "kernelspec": {
      "name": "python3",
      "display_name": "Python 3"
    },
    "language_info": {
      "name": "python"
    }
  },
  "cells": [
    {
      "cell_type": "markdown",
      "metadata": {
        "id": "view-in-github",
        "colab_type": "text"
      },
      "source": [
        "<a href=\"https://colab.research.google.com/github/LuisaMariaMontoyaConde1994/ESTADISTICAII/blob/main/V_A_C_Cortes_Parada.ipynb\" target=\"_parent\"><img src=\"https://colab.research.google.com/assets/colab-badge.svg\" alt=\"Open In Colab\"/></a>"
      ]
    },
    {
      "cell_type": "code",
      "execution_count": null,
      "metadata": {
        "id": "hAZZIdRbCMk8"
      },
      "outputs": [],
      "source": []
    },
    {
      "cell_type": "markdown",
      "source": [
        "Ana Yiseth Cortés"
      ],
      "metadata": {
        "id": "sC1dIm9gCNEu"
      }
    },
    {
      "cell_type": "markdown",
      "source": [
        "$$\\int_{1}^{2} x^{2} dx$$\n",
        "La demanda semanal de una bebida en una cadena de almacenes se distribuye como una variable aleatoria continua de la siguiente manera:\n",
        "$$f(x)= \\left\\{ \\begin{array}{lcc} 2(x-1) & si & 1<x<2 \\\\ \\\\ 0 &  & en \\ otro\\  caso &  & \\end{array} \\right.$$\n",
        "* Hallar el valor esperado de esa función.\n",
        "\n",
        "***Procedimiento:***\n",
        "\n",
        "$\\int_{-\\infty}^{\\infty}xf(x)dx=\\int_{1}^{2}x(2(x-1))dx$\n",
        "\n",
        "$\\mu=\\int_{1}^{2} 2x^{2}-x \\ dx$\n",
        "\n",
        "$\\mu={2}\\int_{1}^{2}x^2dx-\\int_{1}^{2}x\\ dx$\n",
        "\n",
        "$\\mu={2}[\\int_{1}^{2}\\frac{x^{2+1}}{2+1}-\\int_{1}^{2}\\frac{x^{1+1}}{1+1}]$\n",
        "\n",
        "$\\mu=2\\frac{x^3}{3}-\\frac{x^2}{2}\\int_{1}^{2}$\n",
        "\n",
        "$\\mu=\\frac{2x^3}{3}-\\frac{x^2}{2}\\int_{1}^{2}$\n",
        "\n",
        "$\\mu=[(\\frac{2(2)^3}{3})-(\\frac{2^2}{2})]-[(\\frac{2(1)^3}{3})-(\\frac{1^2}{2})]$\n",
        "\n",
        "$\\mu=[(\\frac{2(8)}{3}-\\frac{4}{2})]-[\\frac{2(1)}{3}-\\frac{1}{2}]$\n",
        "\n",
        "$\\mu=(\\frac{16}{3}-\\frac{4}{2})-(\\frac{2}{3}-\\frac{1}{2})$\n",
        "\n",
        "$\\mu=(\\frac{(16*2)+(-4*3)}{3*2})-(\\frac{(2*2)-(3*1)}{3*2})$\n",
        "\n",
        "$\\mu=(\\frac{32-12}{6})-(\\frac{4-3}{6})$\n",
        "\n",
        "$\\mu=\\frac{20}{6}-\\frac{1}{6}$\n",
        "\n",
        "$\\mu=\\frac{19}{6}$\n",
        "\n",
        "***Rta.*** El valor esperado de la bebida en los almacenes de cadena será de $$\\mu=\\frac{19}{6}$$"
      ],
      "metadata": {
        "id": "mkCnsxaACqwH"
      }
    },
    {
      "cell_type": "code",
      "source": [],
      "metadata": {
        "id": "TQqNj7q2EVKa"
      },
      "execution_count": null,
      "outputs": []
    }
  ]
}