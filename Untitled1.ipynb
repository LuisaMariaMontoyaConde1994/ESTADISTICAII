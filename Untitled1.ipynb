{
  "nbformat": 4,
  "nbformat_minor": 0,
  "metadata": {
    "colab": {
      "provenance": [],
      "authorship_tag": "ABX9TyMwvgI2EsCfDOYoWg4p847b",
      "include_colab_link": true
    },
    "kernelspec": {
      "name": "python3",
      "display_name": "Python 3"
    },
    "language_info": {
      "name": "python"
    }
  },
  "cells": [
    {
      "cell_type": "markdown",
      "metadata": {
        "id": "view-in-github",
        "colab_type": "text"
      },
      "source": [
        "<a href=\"https://colab.research.google.com/github/LuisaMariaMontoyaConde1994/ESTADISTICAII/blob/main/Untitled1.ipynb\" target=\"_parent\"><img src=\"https://colab.research.google.com/assets/colab-badge.svg\" alt=\"Open In Colab\"/></a>"
      ]
    },
    {
      "cell_type": "markdown",
      "source": [
        "# Binomial\n"
      ],
      "metadata": {
        "id": "AQXoGwMuqFnF"
      }
    },
    {
      "cell_type": "code",
      "source": [
        "import numpy as np\n",
        "import matplotlib.pyplot as plt\n",
        "from scipy.stats import binom"
      ],
      "metadata": {
        "id": "KYjEX0ApqaHF"
      },
      "execution_count": 1,
      "outputs": []
    },
    {
      "cell_type": "markdown",
      "source": [
        "## Ejemplo 1\n",
        "La probabilidad de que un paciente se recupere de una rara enfermedad es del 40% si se sabe que 15 personas contrageron la enfermedad cual es la probabilidad de que sobrevivan 5 personas?"
      ],
      "metadata": {
        "id": "r1jVCGUgqKoD"
      }
    },
    {
      "cell_type": "code",
      "source": [
        "n=15\n",
        "p=0.4\n",
        "x=5\n",
        "pro=binom.pmf(x, n, p)\n",
        "print(pro)\n"
      ],
      "metadata": {
        "colab": {
          "base_uri": "https://localhost:8080/"
        },
        "id": "yTa5chzgrFSU",
        "outputId": "d6c0f00d-85a2-4fba-cdee-a851b4eff305"
      },
      "execution_count": 2,
      "outputs": [
        {
          "output_type": "stream",
          "name": "stdout",
          "text": [
            "0.18593784476467187\n"
          ]
        }
      ]
    },
    {
      "cell_type": "code",
      "source": [
        "n=15\n",
        "p=0.4\n",
        "x=6\n",
        "prob_1=1-binom.cdf(x, n, p)\n",
        "print(prob_1)"
      ],
      "metadata": {
        "colab": {
          "base_uri": "https://localhost:8080/"
        },
        "id": "-kQ-_bB1zALi",
        "outputId": "a0fc12f6-ec43-4114-bc98-d11e53751060"
      },
      "execution_count": 3,
      "outputs": [
        {
          "output_type": "stream",
          "name": "stdout",
          "text": [
            "0.3901868442910721\n"
          ]
        }
      ]
    },
    {
      "cell_type": "code",
      "source": [
        "1.   ¿Cuál es la probabilidad que que al menos el candidato obtenga 12 votos?\n",
        "2.   ¿Cuál es la probabilidad  que a lo más 10 votos?\n",
        "3.   ¿Cuál es la probabilidad  que obtenga entre 9 y 16 votos?\n",
        "4.   ¿Cuál es la probabilidad  que obtenga 15 votos exactamente?\n"
      ],
      "metadata": {
        "colab": {
          "base_uri": "https://localhost:8080/"
        },
        "id": "rgQHLi4r2A6A",
        "outputId": "bdac415b-a3cd-4adf-8a4d-e1b55ee3aba7"
      },
      "execution_count": 5,
      "outputs": [
        {
          "output_type": "stream",
          "name": "stdout",
          "text": [
            "Object `votos` not found.\n",
            "Object `votos` not found.\n",
            "Object `votos` not found.\n",
            "Object `exactamente` not found.\n"
          ]
        }
      ]
    },
    {
      "cell_type": "markdown",
      "source": [
        "Angel David Salas Reina"
      ],
      "metadata": {
        "id": "hdZKxAPW2rFS"
      }
    },
    {
      "cell_type": "code",
      "source": [
        "1.   ¿Cuál es la probabilidad que que al menos el candidato obtenga 12 votos?\n",
        "2.   ¿Cuál es la probabilidad  que a lo más 10 votos?\n",
        "3.   ¿Cuál es la probabilidad  que obtenga entre 9 y 16 votos?\n",
        "4.   ¿Cuál es la probabilidad  que obtenga 15 votos exactamente?\n",
        "n=15\n",
        "p=0.4\n",
        "x_1=8\n",
        "x_2=10\n",
        "prob=binom.cdf(x_2,n,p)-binom.cdf(x_1,n,p)\n",
        "print(prob)\n",
        "n=15\n",
        "p=0.4\n",
        "x=6\n",
        "prob_1=1-binom.cdf(x, n, p)\n",
        "print(prob_1)\n",
        "import numpy as np\n",
        "import matplotlib.pyplot as plt\n",
        "from scipy.stats import binom\n",
        "n=15\n",
        "p=0.4\n",
        "x=5\n",
        "pro=binom.pmf(x, n, p)\n",
        "print(pro)\n",
        "n=15\n",
        "p=0.4\n",
        "x=5\n",
        "pro=binom.pmf(x, n, p)\n",
        "print(pro)\n",
        "import numpy as np\n",
        "import matplotlib.pyplot as plt\n",
        "from scipy.stats import binom\n",
        "\n"
      ],
      "metadata": {
        "id": "07Jbz13G23mx"
      },
      "execution_count": 5,
      "outputs": []
    }
  ]
}