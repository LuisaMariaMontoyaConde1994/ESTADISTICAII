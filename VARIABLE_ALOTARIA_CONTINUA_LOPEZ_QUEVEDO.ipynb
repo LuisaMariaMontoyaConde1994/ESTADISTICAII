{
  "nbformat": 4,
  "nbformat_minor": 0,
  "metadata": {
    "colab": {
      "provenance": [],
      "authorship_tag": "ABX9TyOcm7NwMVEfJQ8UoGyNnVWm",
      "include_colab_link": true
    },
    "kernelspec": {
      "name": "python3",
      "display_name": "Python 3"
    },
    "language_info": {
      "name": "python"
    }
  },
  "cells": [
    {
      "cell_type": "markdown",
      "metadata": {
        "id": "view-in-github",
        "colab_type": "text"
      },
      "source": [
        "<a href=\"https://colab.research.google.com/github/LuisaMariaMontoyaConde1994/ESTADISTICAII/blob/main/VARIABLE_ALOTARIA_CONTINUA_LOPEZ_QUEVEDO.ipynb\" target=\"_parent\"><img src=\"https://colab.research.google.com/assets/colab-badge.svg\" alt=\"Open In Colab\"/></a>"
      ]
    },
    {
      "cell_type": "markdown",
      "source": [
        "Nicolás Esteban López Quevedo"
      ],
      "metadata": {
        "id": "XsnCwbBaCV9P"
      }
    },
    {
      "cell_type": "markdown",
      "source": [
        "$$\\int_{1}^{2} X^{2} dx$$"
      ],
      "metadata": {
        "id": "jzZxPaowCcon"
      }
    },
    {
      "cell_type": "markdown",
      "source": [
        "La demanda semanal de una bebida en una cadena de almacenes se distribuye como una variable aleatoria continua\n",
        "\n",
        "$$f(x)= \\left\\{ \\begin{array}{lcc} 2(x-1) & si & 1<x<2 \\\\ \\\\ 0 &  & en \\ otro\\  caso &  & \\end{array} \\right.$$\n",
        "\n",
        "\n",
        "\n",
        "$$\\int_{-\\infty}^{\\infty}xf(x)dx=\\int_{1}^{2}x(2(x-1))dx$$\n",
        "\n",
        "\n",
        "\n",
        "$$\\int_{-1}^{2}(2x^{2}-2x))dx$$\n",
        "\n",
        "\n",
        "$$2\\int_{-1}^{2}(x^{2})dx-2\\int_{-1}^{2}(x)dx$$\n",
        "\n",
        "\n",
        "$$2\\int_{-1}^{2}\\frac{x^{2+1}}{2+1}dx-2\\int_{-1}^{2}\\frac{x^{1+1}}{1+1}dx$$\n",
        "\n",
        "$$2\\int_{-1}^{2}\\frac{x^{3}}{3}dx-2\\int_{-1}^{2}\\frac{x^{2}}{2}dx$$\n",
        "\n",
        "$$2\\int_{1}^{2}x^2dx-2\\int_{1}^{2}xdx$$\n",
        "\n",
        "$$2(\\frac{x^3}{3})-2(\\frac{x^2}{2})\\int_{1}^{2}$$\n",
        "\n",
        "$$\\frac{2x^3}{3}-x^2\\int_{1}^{2}$$\n",
        "\n",
        "$$[\\frac{2(2)^3}{3}-2^2]-[\\frac{2(1)^3}{3}-1^2]$$\n",
        "\n",
        "$$(\\frac{16}{3}-{4})-(\\frac{2}{3}-1)$$\n",
        "\n",
        "$$\\frac{4}{3}-(-\\frac{1}{3})$$\n",
        "\n",
        "$$\\frac{5}{3}$$"
      ],
      "metadata": {
        "id": "BzXFF9T1Cyav"
      }
    },
    {
      "cell_type": "markdown",
      "source": [],
      "metadata": {
        "id": "S4aVNi7LDGcX"
      }
    },
    {
      "cell_type": "code",
      "execution_count": null,
      "metadata": {
        "id": "w5FenEKOBvOj"
      },
      "outputs": [],
      "source": []
    }
  ]
}