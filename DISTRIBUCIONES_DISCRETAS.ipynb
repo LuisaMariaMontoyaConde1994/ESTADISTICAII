{
  "nbformat": 4,
  "nbformat_minor": 0,
  "metadata": {
    "colab": {
      "provenance": [],
      "authorship_tag": "ABX9TyNRh/abBuh6qhUscV9cife6",
      "include_colab_link": true
    },
    "kernelspec": {
      "name": "python3",
      "display_name": "Python 3"
    },
    "language_info": {
      "name": "python"
    }
  },
  "cells": [
    {
      "cell_type": "markdown",
      "metadata": {
        "id": "view-in-github",
        "colab_type": "text"
      },
      "source": [
        "<a href=\"https://colab.research.google.com/github/LuisaMariaMontoyaConde1994/ESTADISTICAII/blob/main/DISTRIBUCIONES_DISCRETAS.ipynb\" target=\"_parent\"><img src=\"https://colab.research.google.com/assets/colab-badge.svg\" alt=\"Open In Colab\"/></a>"
      ]
    },
    {
      "cell_type": "markdown",
      "source": [
        "# Distribuciones discretas #"
      ],
      "metadata": {
        "id": "EnaT3Rzu7Awq"
      }
    },
    {
      "cell_type": "markdown",
      "source": [
        "Nicolás Esteban López Quevedo"
      ],
      "metadata": {
        "id": "7P91RZbXkpeZ"
      }
    },
    {
      "cell_type": "code",
      "execution_count": 8,
      "metadata": {
        "id": "GjznlQ7-63To"
      },
      "outputs": [],
      "source": [
        "import numpy as np\n",
        "import matplotlib.pyplot as plt\n",
        "from scipy.stats import binom\n",
        "from scipy.stats import poisson\n",
        "from scipy.stats import hypergeom\n",
        "from scipy.stats import geom\n"
      ]
    },
    {
      "cell_type": "code",
      "source": [
        "x=6\n",
        "lamda=4\n",
        "prob=poisson.pmf(x,lamda)\n",
        "print(prob)"
      ],
      "metadata": {
        "colab": {
          "base_uri": "https://localhost:8080/"
        },
        "id": "DfNeQFoD70rC",
        "outputId": "268e92a7-05b2-44d8-b0e8-2b0e61b1a230"
      },
      "execution_count": null,
      "outputs": [
        {
          "output_type": "stream",
          "name": "stdout",
          "text": [
            "0.10419563456702102\n"
          ]
        }
      ]
    },
    {
      "cell_type": "code",
      "source": [
        "N=40\n",
        "n=5\n",
        "k=3\n",
        "x=2\n",
        "prob_1=hypergeom.pmf(x,N,n,k)\n",
        "print(prob_1)"
      ],
      "metadata": {
        "colab": {
          "base_uri": "https://localhost:8080/"
        },
        "id": "vXgnPkZs8ixq",
        "outputId": "ed644a51-a4a8-49ce-e522-1751c7d10e55"
      },
      "execution_count": null,
      "outputs": [
        {
          "output_type": "stream",
          "name": "stdout",
          "text": [
            "0.0354251012145749\n"
          ]
        }
      ]
    },
    {
      "cell_type": "markdown",
      "source": [
        "Cual es la probabilidad de que enten a lo mas 5 particulas.\n",
        "Cual es la probabilidad de que salgan a lo mas 3 defectuosos\n",
        "realice el mismo ejemplo de la binomial negativa y la distribucion geometrica"
      ],
      "metadata": {
        "id": "v-mKgAqJ9Tj6"
      }
    },
    {
      "cell_type": "code",
      "source": [
        "x=5\n",
        "lamda=4\n",
        "prob_1=poisson.cdf(x,lamda)\n",
        "print(prob_1)"
      ],
      "metadata": {
        "colab": {
          "base_uri": "https://localhost:8080/"
        },
        "id": "ljRy-lBk-pab",
        "outputId": "ada06a78-15b3-4530-f415-f4e528a864fa"
      },
      "execution_count": null,
      "outputs": [
        {
          "output_type": "stream",
          "name": "stdout",
          "text": [
            "0.7851303870304052\n"
          ]
        }
      ]
    },
    {
      "cell_type": "markdown",
      "source": [
        "La probabilidad de que entren a lo mas 5 particulas es de $78\\%$ aproximadamente."
      ],
      "metadata": {
        "id": "E7_rc7jlDXks"
      }
    },
    {
      "cell_type": "code",
      "source": [
        "N=40\n",
        "n=5\n",
        "k=3\n",
        "x=2\n",
        "prob_1=hypergeom.cdf(x,N,n,k)\n",
        "print(prob_1)"
      ],
      "metadata": {
        "colab": {
          "base_uri": "https://localhost:8080/"
        },
        "id": "hussHtnwAXJU",
        "outputId": "0b8fc854-6056-496d-e2d0-8f1c9bd3aba0"
      },
      "execution_count": null,
      "outputs": [
        {
          "output_type": "stream",
          "name": "stdout",
          "text": [
            "0.9989878542510121\n"
          ]
        }
      ]
    },
    {
      "cell_type": "markdown",
      "source": [
        "La probabilidad de que salgan 2 defectuosos es de $99\\%$"
      ],
      "metadata": {
        "id": "7tjplDhuE81M"
      }
    },
    {
      "cell_type": "code",
      "source": [
        "x=6-1\n",
        "k=4-1\n",
        "p=0.55\n",
        "prob_1=binom.pmf(k,x,p)\n",
        "print(prob_1)"
      ],
      "metadata": {
        "colab": {
          "base_uri": "https://localhost:8080/"
        },
        "id": "uBDIXzzHFTVc",
        "outputId": "c9c4f716-64b5-4241-d768-cb33fe9ab30e"
      },
      "execution_count": null,
      "outputs": [
        {
          "output_type": "stream",
          "name": "stdout",
          "text": [
            "0.3369093749999999\n"
          ]
        }
      ]
    },
    {
      "cell_type": "markdown",
      "source": [
        "La binomial es de aproximadamente 33%"
      ],
      "metadata": {
        "id": "Nh_aEsHCF081"
      }
    },
    {
      "cell_type": "code",
      "source": [
        "p=0.01\n",
        "x=5\n",
        "prob_5=geom.pmf(x,p)\n",
        "print(prob_5)"
      ],
      "metadata": {
        "id": "A9rdqqFlGWu1",
        "colab": {
          "base_uri": "https://localhost:8080/"
        },
        "outputId": "1cbb6b89-8d91-4301-df39-0ed113f7bc29"
      },
      "execution_count": 9,
      "outputs": [
        {
          "output_type": "stream",
          "name": "stdout",
          "text": [
            "0.0096059601\n"
          ]
        }
      ]
    }
  ]
}