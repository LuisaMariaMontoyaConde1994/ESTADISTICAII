{
  "nbformat": 4,
  "nbformat_minor": 0,
  "metadata": {
    "colab": {
      "provenance": [],
      "authorship_tag": "ABX9TyN8Hw6VANmZvUbgtedjqg/Z",
      "include_colab_link": true
    },
    "kernelspec": {
      "name": "python3",
      "display_name": "Python 3"
    },
    "language_info": {
      "name": "python"
    }
  },
  "cells": [
    {
      "cell_type": "markdown",
      "metadata": {
        "id": "view-in-github",
        "colab_type": "text"
      },
      "source": [
        "<a href=\"https://colab.research.google.com/github/LuisaMariaMontoyaConde1994/ESTADISTICAII/blob/main/V_a_c_Aparicio_Saenz.ipynb\" target=\"_parent\"><img src=\"https://colab.research.google.com/assets/colab-badge.svg\" alt=\"Open In Colab\"/></a>"
      ]
    },
    {
      "cell_type": "markdown",
      "source": [
        "#Catalina Aparicio, Joustin Saenz"
      ],
      "metadata": {
        "id": "K3iE7UzrCOKe"
      }
    },
    {
      "cell_type": "markdown",
      "source": [
        "$$\\int_{1}^{2} x^{2}dx$$\n",
        "La demanda semanal de una de una bebida en una cadena de almacenes se distribuye como una variable aleatoria continua de la siguiente manera:\n",
        "\n",
        "$$f(x) =  \\left\\{ \\begin{array}{lcc} 2(x-1) & si & 1<x<2 \\\\ \\\\ 0 &  & en \\ otro\\  caso &  & \\end{array} \\right. $$\n",
        "\n",
        "Hallar la esperanza matematica\n",
        "\n",
        "---\n",
        "\n",
        "$$\\int_{-\\infty}^{\\infty}xf(x)dx=\\int_{1}^{2}x(2(x-1))dx$$\n",
        "\n",
        "$$\\int_{1}^{2}x(2(x-1))dx = \\int_{1}^{2}x(2x-2)dx$$\n",
        "\n",
        "$$\\int_{1}^{2}x(2x-2)dx = \\int_{1}^{2} 2 x^2 - 2x dx $$\n",
        "\n",
        "$$\\int_{1}^{2}(2x^2)dx - \\int_{1}^{2}(2x)dx$$\n",
        "\n",
        "$$2 \\int_{1}^{2}(x^2)dx - 2\\int_{1}^{2}(x)dx$$\n",
        "\n",
        "\n",
        "\n",
        "---\n",
        "\n",
        "\n",
        "\n",
        "$$ 2(X^3/3) - 2(X^2/2)$$\n",
        "\n",
        "$$ 2(X^3/3) -X^2$$\n",
        "\n",
        "$$ (2((2)^3/3)-2^2)-((2(1)^3/3)-((1)^2/1)) $$\n",
        "\n",
        "$$(2(8/3) -4) -((2/3)-(1/1)) $$\n",
        "\n",
        "$$((16/3) -(4/1)) -((2/3)-(1/1))$$\n",
        "\n",
        "$$((16-12/3)) -((2-3/1))$$\n",
        "\n",
        "$$(4/3) -(-1/1)$$\n",
        "\n",
        "$$=5/3$$\n"
      ],
      "metadata": {
        "id": "VEnDqPjLCTQm"
      }
    }
  ]
}