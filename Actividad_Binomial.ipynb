{
  "nbformat": 4,
  "nbformat_minor": 0,
  "metadata": {
    "colab": {
      "provenance": [],
      "authorship_tag": "ABX9TyPTWip0g88O7MLjlV2Sb1P2",
      "include_colab_link": true
    },
    "kernelspec": {
      "name": "python3",
      "display_name": "Python 3"
    },
    "language_info": {
      "name": "python"
    }
  },
  "cells": [
    {
      "cell_type": "markdown",
      "metadata": {
        "id": "view-in-github",
        "colab_type": "text"
      },
      "source": [
        "<a href=\"https://colab.research.google.com/github/LuisaMariaMontoyaConde1994/ESTADISTICAII/blob/main/Actividad_Binomial.ipynb\" target=\"_parent\"><img src=\"https://colab.research.google.com/assets/colab-badge.svg\" alt=\"Open In Colab\"/></a>"
      ]
    },
    {
      "cell_type": "markdown",
      "source": [
        "**Santiago Borja Sanabria**\n",
        "\n"
      ],
      "metadata": {
        "id": "2Adv1SwF3i-u"
      }
    },
    {
      "cell_type": "markdown",
      "source": [
        "# **Actividad**\n",
        "\n",
        "En una elección, un candidato tiene una probabilidad del 60% de recibir un voto en cada votación individual. Si se emiten 20 votos.\n",
        "\n",
        "\n",
        "1.   ¿Cuál es la probabilidad que que al menos el candidato obtenga 12 votos?\n",
        "2.   ¿Cuál es la probabilidad  que a lo más 10 votos?\n",
        "3.   ¿Cuál es la probabilidad  que obtenga entre 9 y 16 votos?\n",
        "4.   ¿Cuál es la probabilidad  que obtenga 15 votos exactamente?"
      ],
      "metadata": {
        "id": "I49ZTdsj1Z-9"
      }
    },
    {
      "cell_type": "code",
      "source": [
        "import numpy as np\n",
        "import matplotlib.pyplot as plt\n",
        "from scipy.stats import binom"
      ],
      "metadata": {
        "id": "Zbns0W0i2Ent"
      },
      "execution_count": 1,
      "outputs": []
    },
    {
      "cell_type": "markdown",
      "source": [
        "**¿Cuál es la probabilidad que que al menos el candidato obtenga 12 votos?**\n",
        "$$P(X \\geq 12)$$\n"
      ],
      "metadata": {
        "id": "YJbYFFA02KFd"
      }
    },
    {
      "cell_type": "code",
      "source": [
        "n=20\n",
        "p=0.6\n",
        "x=12\n",
        "prob_1=1-binom.cdf(x, n, p)\n",
        "print(prob_1)\n"
      ],
      "metadata": {
        "colab": {
          "base_uri": "https://localhost:8080/"
        },
        "id": "s1lNZ97g2nbu",
        "outputId": "57803c7d-f04b-4eb5-e8ae-c3684c8ba2b4"
      },
      "execution_count": 2,
      "outputs": [
        {
          "output_type": "stream",
          "name": "stdout",
          "text": [
            "0.41589293755753554\n"
          ]
        }
      ]
    },
    {
      "cell_type": "markdown",
      "source": [
        "La probabilidad de que el candidato tenga al menos 12 votos es de 41%"
      ],
      "metadata": {
        "id": "_oQqI3pa5HCN"
      }
    },
    {
      "cell_type": "markdown",
      "source": [
        "**¿Cuál es la probabilidad que a lo más 10 votos?**\n",
        "$$P(X \\leq  10)$$\n",
        "\n"
      ],
      "metadata": {
        "id": "yYhz0xsk5Vsd"
      }
    },
    {
      "cell_type": "code",
      "source": [
        "n=20\n",
        "p=0.6\n",
        "x=10\n",
        "prob_1=binom.cdf(x, n, p)\n",
        "print(prob_1)\n"
      ],
      "metadata": {
        "colab": {
          "base_uri": "https://localhost:8080/"
        },
        "id": "s2sHy1QQ5y3n",
        "outputId": "d42d1cc1-fa3e-4861-dd45-84f54ae73ea9"
      },
      "execution_count": 3,
      "outputs": [
        {
          "output_type": "stream",
          "name": "stdout",
          "text": [
            "0.24466279668360685\n"
          ]
        }
      ]
    },
    {
      "cell_type": "markdown",
      "source": [
        "La probabilidad de que el candidato reciba a lo mas 10 votos es de 24% aproximadamente"
      ],
      "metadata": {
        "id": "rxNOiVix6INd"
      }
    },
    {
      "cell_type": "markdown",
      "source": [
        "**¿Cuál es la probabilidad que obtenga entre 9 y 16 votos?**\n",
        "$$P(9\\leq X \\leq 16)$$"
      ],
      "metadata": {
        "id": "1qBfLETl6pqV"
      }
    },
    {
      "cell_type": "code",
      "source": [
        "n=20\n",
        "p=0.6\n",
        "x_1=9\n",
        "x_2=16\n",
        "prob=binom.cdf(x_2,n,p)-binom.cdf(x_1,n,p)\n",
        "print(prob)\n"
      ],
      "metadata": {
        "colab": {
          "base_uri": "https://localhost:8080/"
        },
        "id": "bVwkYTNJ6-ud",
        "outputId": "feccde5b-5df6-40ef-e29a-8c344968f0f0"
      },
      "execution_count": 4,
      "outputs": [
        {
          "output_type": "stream",
          "name": "stdout",
          "text": [
            "0.856517591062775\n"
          ]
        }
      ]
    },
    {
      "cell_type": "markdown",
      "source": [
        "La probabilidad de que el candidato reciba entre 9 y 16 votos es de 85% aproximadamente"
      ],
      "metadata": {
        "id": "S9BexEf27PpF"
      }
    },
    {
      "cell_type": "markdown",
      "source": [
        "**¿Cuál es la probabilidad que obtenga 15 votos exactamente?**\n",
        "$$P(X=x)$$"
      ],
      "metadata": {
        "id": "qvXk5c7I7fLN"
      }
    },
    {
      "cell_type": "code",
      "source": [
        "n=20\n",
        "p=0.6\n",
        "x=15\n",
        "pro=binom.pmf(x, n, p)\n",
        "print(pro)"
      ],
      "metadata": {
        "colab": {
          "base_uri": "https://localhost:8080/"
        },
        "id": "EC0thA4S7v4c",
        "outputId": "cd0764dd-c18a-49b8-efcb-290c70f16b1d"
      },
      "execution_count": 5,
      "outputs": [
        {
          "output_type": "stream",
          "name": "stdout",
          "text": [
            "0.07464701952887111\n"
          ]
        }
      ]
    },
    {
      "cell_type": "markdown",
      "source": [
        "La probabilidad de que el candidato consiga 15 votos exactamente es de el 7% aproximadamente"
      ],
      "metadata": {
        "id": "6_XP6qB68Ch0"
      }
    }
  ]
}