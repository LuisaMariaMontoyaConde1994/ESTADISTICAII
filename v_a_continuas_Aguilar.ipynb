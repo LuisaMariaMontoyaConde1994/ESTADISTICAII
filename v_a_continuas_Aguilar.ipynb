{
  "nbformat": 4,
  "nbformat_minor": 0,
  "metadata": {
    "colab": {
      "provenance": [],
      "authorship_tag": "ABX9TyMWcnb1i2sVR9Euz+XOJtkO",
      "include_colab_link": true
    },
    "kernelspec": {
      "name": "python3",
      "display_name": "Python 3"
    },
    "language_info": {
      "name": "python"
    }
  },
  "cells": [
    {
      "cell_type": "markdown",
      "metadata": {
        "id": "view-in-github",
        "colab_type": "text"
      },
      "source": [
        "<a href=\"https://colab.research.google.com/github/LuisaMariaMontoyaConde1994/ESTADISTICAII/blob/main/v_a_continuas_Aguilar.ipynb\" target=\"_parent\"><img src=\"https://colab.research.google.com/assets/colab-badge.svg\" alt=\"Open In Colab\"/></a>"
      ]
    },
    {
      "cell_type": "markdown",
      "source": [
        "Gabriel Arturo Aguilar Jiménez"
      ],
      "metadata": {
        "id": "EHUHzIDAsz4u"
      }
    },
    {
      "cell_type": "markdown",
      "source": [
        "la demanda semanal de una bebida en una cadena de almacenes se distribuye  como una variable aleatoria continua\n",
        "$$f(x)= \\left\\{ \\begin{array}{lcc} 2(x-1) & si & 1<x<2 \\\\ \\\\ 0 &  & en \\ otro\\  caso &  & \\end{array} \\right.$$\n",
        "\n",
        "\n",
        "\n",
        "hallar el valor esperado\n",
        "$$\\int_{1}^{2} x^{2} dx$$\n",
        "\n",
        "\n",
        "\n",
        "$$\\int_{-\\infty}^{\\infty}xf(x)dx=\\int_{1}^{2}x(2(x-1))dx=$$\n",
        "\n",
        "$$\\int_{1}^{2}2x^2-2xdx=$$\n",
        "\n",
        "$$2\\int_{1}^{2} x^2dx-\\int_{2}^{1}2xdx=$$\n",
        "\n",
        "\n",
        "$$\\frac{(2)(2)^3}{(3)}- \\frac{(2)(1)^3}{(3)}=$$\n",
        "\n",
        "$$\\frac{(2)^4}{(3)}- \\frac{(2)(1)}{(3)}=$$\n",
        "\n",
        "$$\\frac{16}{3}- \\frac{2}{3}=$$\n",
        "\n",
        "$$\\frac{14}{3}= \\frac{7}{3}=2.33$$"
      ],
      "metadata": {
        "id": "xpTeeM3wCAY1"
      }
    },
    {
      "cell_type": "markdown",
      "source": [
        "El valor esperado de es de tres botellas en la semana"
      ],
      "metadata": {
        "id": "3pvA0xVQtAXi"
      }
    }
  ]
}