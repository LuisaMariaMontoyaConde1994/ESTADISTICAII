{
  "nbformat": 4,
  "nbformat_minor": 0,
  "metadata": {
    "colab": {
      "provenance": [],
      "include_colab_link": true
    },
    "kernelspec": {
      "name": "python3",
      "display_name": "Python 3"
    },
    "language_info": {
      "name": "python"
    }
  },
  "cells": [
    {
      "cell_type": "markdown",
      "metadata": {
        "id": "view-in-github",
        "colab_type": "text"
      },
      "source": [
        "<a href=\"https://colab.research.google.com/github/LuisaMariaMontoyaConde1994/ESTADISTICAII/blob/main/Julianrojas.ipynb\" target=\"_parent\"><img src=\"https://colab.research.google.com/assets/colab-badge.svg\" alt=\"Open In Colab\"/></a>"
      ]
    },
    {
      "cell_type": "markdown",
      "source": [
        "\n",
        "\n",
        "*  Julian Andres Rojas Suarez\n"
      ],
      "metadata": {
        "id": "NxQ8SzXuCRmL"
      }
    },
    {
      "cell_type": "markdown",
      "source": [
        "Ejercicio\n",
        "La demanda semanal de una bebida en una cadena de almacenes se distribuye v.a continua de la sigueinte manera\n",
        "$$f(x)= \\left\\{ \\begin{array}{lcc} 2(x-1) & si & 1<x<2 \\\\ \\\\ 0 &  & en \\ otro\\  caso &  & \\end{array} \\right.$$\n",
        "Hallar el valor esperado de esa función\n",
        "$$\\int_{-\\infty}^{\\infty}xf(x)dx=\\int_{1}^{2}x(2(x-1))dx$$\n",
        "$$\\int_{1}^{2}x(2x-2)dx$$\n",
        "$$\\int_{1}^{2}2x^2-2xd x$$\n",
        "$$2\\int_{1}^{2}x^2dx-2\\int_{1}^{2}xdx$$\n",
        "$$2(\\frac{x^3}{3})-2(\\frac{x^2}{2})\\int_{1}^{2}$$\n",
        "$$\\frac{2x^3}{3}-x^2\\int_{1}^{2}$$\n",
        "$$[\\frac{2(2)^3}{3}-2^2]-[\\frac{2(1)^3}{3}-1^2]$$\n",
        "$$(\\frac{16}{3}-{4})-(\\frac{2}{3}-1)$$\n",
        "$$\\frac{4}{3}-(-\\frac{1}{3})$$\n",
        "$$\\frac{5}{3}$$"
      ],
      "metadata": {
        "id": "X5WlwyeoClbj"
      }
    },
    {
      "cell_type": "code",
      "execution_count": null,
      "metadata": {
        "id": "5v-hkBLoB1AU"
      },
      "outputs": [],
      "source": []
    }
  ]
}