{
  "nbformat": 4,
  "nbformat_minor": 0,
  "metadata": {
    "colab": {
      "provenance": [],
      "authorship_tag": "ABX9TyOPjsS7leNWtj8nZf+3PK6N",
      "include_colab_link": true
    },
    "kernelspec": {
      "name": "python3",
      "display_name": "Python 3"
    },
    "language_info": {
      "name": "python"
    }
  },
  "cells": [
    {
      "cell_type": "markdown",
      "metadata": {
        "id": "view-in-github",
        "colab_type": "text"
      },
      "source": [
        "<a href=\"https://colab.research.google.com/github/LuisaMariaMontoyaConde1994/ESTADISTICAII/blob/main/variable_aleatoria_continua_cross.ipynb\" target=\"_parent\"><img src=\"https://colab.research.google.com/assets/colab-badge.svg\" alt=\"Open In Colab\"/></a>"
      ]
    },
    {
      "cell_type": "markdown",
      "source": [
        "*La demanda semanal de una bebida en una cadena de almacenes se distribuye v.a continua*\n",
        "\n",
        "$$f(x)= \\left\\{ \\begin{array}{lcc} 2(x-1) & si & 1<x<2 \\\\ \\\\ 0 &  & en \\ otro\\  caso &  & \\end{array}\\right.$$\n",
        "\n",
        "*Hallar el valor esperado de la función*"
      ],
      "metadata": {
        "id": "jNS_qAWhCqBg"
      }
    },
    {
      "cell_type": "markdown",
      "source": [
        "$$\\int_{-\\infty}^{\\infty}xf(x)dx=\\int_{1}^{2}x(2(x-1))dx=$$\n",
        "$$\\int_{1}^2 (2x^2-2x)dx= 2*[\\int_{1}^{2}x^2dx - \\int_{1}^{2}xdx]=$$\n",
        "$$2* [\\int_{1}^{2}\\frac{x^{2+1}}{2+1}  - \\int_{1}^{2}\\frac{x^{1+1}}{1+1}]=$$\n",
        "$$2*[\\int_{1}^{2}\\frac{x^3}3 - \\int_{1}^{2}\\frac{x^2}2]=$$\n",
        "$$\\int_{1}^{2}\\frac{2x^3}3 - \\int_{1}^{2}\\frac{2x^2}2 =$$\n",
        "$$(\\frac{2(2)^3}3 - \\frac{2(1)^3}3) - (2^2-1^2)=$$\n",
        "$$(\\frac{16}3 - \\frac{2}3) - 3 = \\frac{14}3 -3 = \\frac{14-9}3=$$\n",
        "$$\\frac{5}3 ⇒ Rta$$\n",
        "\n"
      ],
      "metadata": {
        "id": "NdQM5v3EBv_w"
      }
    }
  ]
}