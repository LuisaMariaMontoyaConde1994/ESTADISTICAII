{
  "nbformat": 4,
  "nbformat_minor": 0,
  "metadata": {
    "colab": {
      "provenance": [],
      "include_colab_link": true
    },
    "kernelspec": {
      "name": "python3",
      "display_name": "Python 3"
    },
    "language_info": {
      "name": "python"
    }
  },
  "cells": [
    {
      "cell_type": "markdown",
      "metadata": {
        "id": "view-in-github",
        "colab_type": "text"
      },
      "source": [
        "<a href=\"https://colab.research.google.com/github/LuisaMariaMontoyaConde1994/ESTADISTICAII/blob/main/Distribuciones_Discretas.ipynb\" target=\"_parent\"><img src=\"https://colab.research.google.com/assets/colab-badge.svg\" alt=\"Open In Colab\"/></a>"
      ]
    },
    {
      "cell_type": "markdown",
      "source": [
        "#Distribuciones discretas"
      ],
      "metadata": {
        "id": "r7YTv7xm7R5u"
      }
    },
    {
      "cell_type": "markdown",
      "source": [
        "#Juan David Robles Salamanca"
      ],
      "metadata": {
        "id": "sNxG4SPIMlmI"
      }
    },
    {
      "cell_type": "markdown",
      "source": [
        "#Laura Valentina Millan Castro"
      ],
      "metadata": {
        "id": "2Y1U4QvxNEXd"
      }
    },
    {
      "cell_type": "code",
      "source": [
        "import numpy as np\n",
        "import matplotlib.pyplot as plit\n",
        "from scipy.stats import binom\n",
        "from scipy.stats import poisson\n",
        "from scipy.stats import hypergeom"
      ],
      "metadata": {
        "id": "tVGieM2Z7WO2"
      },
      "execution_count": 1,
      "outputs": []
    },
    {
      "cell_type": "code",
      "source": [
        "x=6\n",
        "lamda=4\n",
        "prob=poisson.pmf(x,lamda)\n",
        "print(prob)"
      ],
      "metadata": {
        "colab": {
          "base_uri": "https://localhost:8080/"
        },
        "id": "G5VKGqbz72EP",
        "outputId": "4b5461a9-7d7b-482b-acfe-4cf2b39b1857"
      },
      "execution_count": 4,
      "outputs": [
        {
          "output_type": "stream",
          "name": "stdout",
          "text": [
            "0.10419563456702102\n"
          ]
        }
      ]
    },
    {
      "cell_type": "code",
      "source": [
        "N=40\n",
        "n=5\n",
        "k=3\n",
        "x=2\n",
        "prob_1=hypergeom.pmf(x,N,n,k)\n",
        "print(prob_1)"
      ],
      "metadata": {
        "colab": {
          "base_uri": "https://localhost:8080/"
        },
        "id": "Lumz3CeE8k9e",
        "outputId": "729df51b-ee6e-4932-a823-88ebdf09a7dd"
      },
      "execution_count": 5,
      "outputs": [
        {
          "output_type": "stream",
          "name": "stdout",
          "text": [
            "0.0354251012145749\n"
          ]
        }
      ]
    },
    {
      "cell_type": "markdown",
      "source": [
        "Durante un experimento el promedio de particulas es de 4 milisegundos ¿Cuál es la probabilidad de que a los más entren 5 particulas?\n",
        "$$P(X\\geq5)$$"
      ],
      "metadata": {
        "id": "w13u9TpX9R__"
      }
    },
    {
      "cell_type": "code",
      "source": [
        "x=5\n",
        "lamda=4\n",
        "prob_2=poisson.cdf(x,lamda)\n",
        "print(prob_2)"
      ],
      "metadata": {
        "colab": {
          "base_uri": "https://localhost:8080/"
        },
        "id": "m-Cpeb7p9ui3",
        "outputId": "b76e837d-dcf8-4dd9-bddd-25466b22c7bb"
      },
      "execution_count": 6,
      "outputs": [
        {
          "output_type": "stream",
          "name": "stdout",
          "text": [
            "0.7851303870304052\n"
          ]
        }
      ]
    },
    {
      "cell_type": "markdown",
      "source": [
        "¿Cuál es la probailidad de que salgan a lo más 2 defectuosos?"
      ],
      "metadata": {
        "id": "EXJa9kp19Zsn"
      }
    },
    {
      "cell_type": "code",
      "source": [
        "N=40\n",
        "n=5\n",
        "k=3\n",
        "x=2\n",
        "prob_3=hypergeom.cdf(x,N,n,k)\n",
        "print(prob_3)"
      ],
      "metadata": {
        "colab": {
          "base_uri": "https://localhost:8080/"
        },
        "id": "9Q9zlS7r9v5u",
        "outputId": "632973cd-dbb0-4b8d-edea-1a78a6dc81a3"
      },
      "execution_count": 7,
      "outputs": [
        {
          "output_type": "stream",
          "name": "stdout",
          "text": [
            "0.9989878542510121\n"
          ]
        }
      ]
    },
    {
      "cell_type": "markdown",
      "source": [
        "Realice el mismo ejemplo que hicimos de la binomial negativo usando codigo"
      ],
      "metadata": {
        "id": "9VlUlSA69w-H"
      }
    },
    {
      "cell_type": "markdown",
      "source": [
        "Distribución Binomial Negativa"
      ],
      "metadata": {
        "id": "dy2GHSpSFvL0"
      }
    },
    {
      "cell_type": "code",
      "source": [
        "x=6-1\n",
        "k=4-1\n",
        "p=0.55\n",
        "prob_4=binom.pmf(k,x,p)\n",
        "print(prob_4)"
      ],
      "metadata": {
        "colab": {
          "base_uri": "https://localhost:8080/"
        },
        "id": "-RbE0FdxDWkc",
        "outputId": "ac53de59-3fe9-497f-f96e-5ef5bb667501"
      },
      "execution_count": 9,
      "outputs": [
        {
          "output_type": "stream",
          "name": "stdout",
          "text": [
            "0.3369093749999999\n"
          ]
        }
      ]
    },
    {
      "cell_type": "markdown",
      "source": [
        "Dsitribución Geométrica"
      ],
      "metadata": {
        "id": "NAzddQpaF8t1"
      }
    },
    {
      "cell_type": "code",
      "source": [
        "from scipy.stats.distributions import geom\n",
        "p=0.01\n",
        "x=5\n",
        "prob_5=geom.pmf(x,p)\n",
        "print(prob_5)"
      ],
      "metadata": {
        "colab": {
          "base_uri": "https://localhost:8080/"
        },
        "id": "QGJoM4C_FoDH",
        "outputId": "8617fc64-da74-43f4-dfbe-05addf9cafb8"
      },
      "execution_count": 10,
      "outputs": [
        {
          "output_type": "stream",
          "name": "stdout",
          "text": [
            "0.0096059601\n"
          ]
        }
      ]
    }
  ]
}