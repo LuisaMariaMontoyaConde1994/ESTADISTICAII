{
  "nbformat": 4,
  "nbformat_minor": 0,
  "metadata": {
    "colab": {
      "provenance": [],
      "authorship_tag": "ABX9TyONi9hD+zCSQcK8Mjd4xcKG",
      "include_colab_link": true
    },
    "kernelspec": {
      "name": "python3",
      "display_name": "Python 3"
    },
    "language_info": {
      "name": "python"
    }
  },
  "cells": [
    {
      "cell_type": "markdown",
      "metadata": {
        "id": "view-in-github",
        "colab_type": "text"
      },
      "source": [
        "<a href=\"https://colab.research.google.com/github/LuisaMariaMontoyaConde1994/ESTADISTICAII/blob/main/Distribuciones_Discretas.ipynb\" target=\"_parent\"><img src=\"https://colab.research.google.com/assets/colab-badge.svg\" alt=\"Open In Colab\"/></a>"
      ]
    },
    {
      "cell_type": "markdown",
      "source": [
        "## Laura Valentina Beltran Orduz"
      ],
      "metadata": {
        "id": "u7ZoGzueny7Q"
      }
    },
    {
      "cell_type": "markdown",
      "source": [
        "# Distribuciones discretas\n",
        "\n"
      ],
      "metadata": {
        "id": "pry5ZZsP7M6s"
      }
    },
    {
      "cell_type": "code",
      "source": [
        "import numpy as np\n",
        "import matplotlib.pyplot as plt\n",
        "from scipy.stats import binom\n",
        "from scipy.stats import poisson\n",
        "from scipy.stats import hypergeom"
      ],
      "metadata": {
        "id": "lwVfZJNO7-zM"
      },
      "execution_count": null,
      "outputs": []
    },
    {
      "cell_type": "code",
      "source": [
        "x=6\n",
        "lamda=4\n",
        "prob=poisson.pmf(x,lamda)\n",
        "print(prob)"
      ],
      "metadata": {
        "colab": {
          "base_uri": "https://localhost:8080/"
        },
        "id": "0NxwhJHz8G_L",
        "outputId": "ef79fd1d-e323-4975-a426-8ae2ba8f2f5b"
      },
      "execution_count": null,
      "outputs": [
        {
          "output_type": "stream",
          "name": "stdout",
          "text": [
            "0.10419563456702102\n"
          ]
        }
      ]
    },
    {
      "cell_type": "code",
      "source": [
        "N=40\n",
        "n=5\n",
        "k=3\n",
        "x=2\n",
        "prob_1=hypergeom.pmf(x,N,n,k)\n",
        "print(prob_1)"
      ],
      "metadata": {
        "colab": {
          "base_uri": "https://localhost:8080/"
        },
        "id": "-krbvClo8niD",
        "outputId": "d4563122-ee04-4ad8-da1c-29ff0a00ab46"
      },
      "execution_count": null,
      "outputs": [
        {
          "output_type": "stream",
          "name": "stdout",
          "text": [
            "0.0354251012145749\n"
          ]
        }
      ]
    },
    {
      "cell_type": "markdown",
      "source": [
        "Durante un experimento el promedio de partículas es de 4 milisegundos ¿Cuál es la probabilidad que entren a lo más 5 particulas en 1 milisegundo?"
      ],
      "metadata": {
        "id": "Fq7eALnp9XoD"
      }
    },
    {
      "cell_type": "code",
      "source": [
        "x=5\n",
        "lamda=4\n",
        "prob_1=poisson.cdf(x,lamda)\n",
        "print(prob_1)"
      ],
      "metadata": {
        "colab": {
          "base_uri": "https://localhost:8080/"
        },
        "id": "Q920asF7-cbD",
        "outputId": "774c7535-a967-479f-cede-937628b7b768"
      },
      "execution_count": null,
      "outputs": [
        {
          "output_type": "stream",
          "name": "stdout",
          "text": [
            "0.7851303870304052\n"
          ]
        }
      ]
    },
    {
      "cell_type": "markdown",
      "source": [
        "Lotes con 40 componentes, cada uno que contenga 3 o más defectuosos. Si se seleccionan 5 componentes al azar ¿Cuál es la probabilidad de que salgan a lo más 2 defectuosos?"
      ],
      "metadata": {
        "id": "XE-ntwdo94xy"
      }
    },
    {
      "cell_type": "code",
      "source": [
        "x=2\n",
        "N=40\n",
        "n=5\n",
        "k=3\n",
        "prob_1=hypergeom.cdf(x,N,n,k)\n",
        "print(prob_1)"
      ],
      "metadata": {
        "colab": {
          "base_uri": "https://localhost:8080/"
        },
        "id": "I377P52uCGlD",
        "outputId": "9a7bb38a-2552-4d91-96f0-b0555615232d"
      },
      "execution_count": null,
      "outputs": [
        {
          "output_type": "stream",
          "name": "stdout",
          "text": [
            "0.9989878542510121\n"
          ]
        }
      ]
    },
    {
      "cell_type": "markdown",
      "source": [
        "Distribucion geométrica\n",
        "En una fábrica 1 de cada 100 artículos en promedio resulta defectuoso ¿Cuál es la probabilidad de que el 5 artículo sea el primer defectuoso?"
      ],
      "metadata": {
        "id": "JsVMYpGf-Rzi"
      }
    },
    {
      "cell_type": "code",
      "source": [
        "from scipy.stats.distributions import geom\n",
        "p=0.01\n",
        "x=5\n",
        "prob_5=geom.pmf(x,p)\n",
        "print(prob_5)"
      ],
      "metadata": {
        "colab": {
          "base_uri": "https://localhost:8080/"
        },
        "id": "9uX4N5_hFJJy",
        "outputId": "923d039b-e5f6-4fdf-944f-10c055393404"
      },
      "execution_count": 1,
      "outputs": [
        {
          "output_type": "stream",
          "name": "stdout",
          "text": [
            "0.0096059601\n"
          ]
        }
      ]
    },
    {
      "cell_type": "markdown",
      "source": [
        "Ejercicio de distribución binomial negativa"
      ],
      "metadata": {
        "id": "_lweFJAYqM6p"
      }
    },
    {
      "cell_type": "code",
      "source": [
        "from scipy.stats import binom\n",
        "x=6-1\n",
        "k=4-1\n",
        "p=0.55\n",
        "prob=binom.pmf(k,x,p)\n",
        "print(prob)"
      ],
      "metadata": {
        "colab": {
          "base_uri": "https://localhost:8080/"
        },
        "id": "0H8QjgSdqUQb",
        "outputId": "c2d1ebd5-6c33-42ed-cc38-f8511b94b23e"
      },
      "execution_count": 5,
      "outputs": [
        {
          "output_type": "stream",
          "name": "stdout",
          "text": [
            "0.3369093749999999\n"
          ]
        }
      ]
    }
  ]
}