{
  "nbformat": 4,
  "nbformat_minor": 0,
  "metadata": {
    "colab": {
      "provenance": [],
      "authorship_tag": "ABX9TyPPXrDZaZJpbdv9+dr1i6bJ",
      "include_colab_link": true
    },
    "kernelspec": {
      "name": "python3",
      "display_name": "Python 3"
    },
    "language_info": {
      "name": "python"
    }
  },
  "cells": [
    {
      "cell_type": "markdown",
      "metadata": {
        "id": "view-in-github",
        "colab_type": "text"
      },
      "source": [
        "<a href=\"https://colab.research.google.com/github/LuisaMariaMontoyaConde1994/ESTADISTICAII/blob/LuisaMariaMontoyaConde1994-patch-1/media.ipynb\" target=\"_parent\"><img src=\"https://colab.research.google.com/assets/colab-badge.svg\" alt=\"Open In Colab\"/></a>"
      ]
    },
    {
      "cell_type": "markdown",
      "source": [
        "$$\\bar{x}=\\sum_{i=1}^{n} \\frac{x_{i}}{n}$$"
      ],
      "metadata": {
        "id": "pefaNhyK_eNV"
      }
    },
    {
      "cell_type": "code",
      "execution_count": null,
      "metadata": {
        "colab": {
          "base_uri": "https://localhost:8080/"
        },
        "id": "HYTyiXl7FAwN",
        "outputId": "6d96c7b6-a09c-42d3-ef49-60970069a7ea"
      },
      "outputs": [
        {
          "output_type": "stream",
          "name": "stdout",
          "text": [
            "la media de los datos es: 4.333333333333333\n"
          ]
        }
      ],
      "source": [
        "suma=0\n",
        "lista=[4,6,8,2,0,6]\n",
        "n=len(lista)\n",
        "for i in lista:\n",
        "  suma=suma+i\n",
        "print(\"la media de los datos es:\",suma/n)\n"
      ]
    },
    {
      "cell_type": "code",
      "source": [
        "m=[4,5,3,7,8,8,7]\n",
        "m_1= sorted(m)\n",
        "p=len(m)\n",
        "k=(1/2)*(p+1)\n",
        "print(\"la posición es \",k)\n",
        "print(\"la lista ordenada \", m_1)\n",
        "print(\"la mediana es \" ,m_1[4])"
      ],
      "metadata": {
        "colab": {
          "base_uri": "https://localhost:8080/"
        },
        "id": "cZc2DRWDm3CA",
        "outputId": "1f8f4332-c93b-4928-b16e-caec6881ded8"
      },
      "execution_count": null,
      "outputs": [
        {
          "output_type": "stream",
          "name": "stdout",
          "text": [
            "la posición es  4.0\n",
            "la lista ordenada  [3, 4, 5, 7, 7, 8, 8]\n",
            "la mediana es  7\n"
          ]
        }
      ]
    },
    {
      "cell_type": "code",
      "source": [
        "np."
      ],
      "metadata": {
        "id": "3uSOj3qoNjRx"
      },
      "execution_count": null,
      "outputs": []
    },
    {
      "cell_type": "code",
      "source": [
        "import numpy as np"
      ],
      "metadata": {
        "id": "5978Vu3SjoT6"
      },
      "execution_count": null,
      "outputs": []
    },
    {
      "cell_type": "code",
      "source": [
        "lista=[4,6,8,2,0,6]\n"
      ],
      "metadata": {
        "id": "UhYwr9UV5sYt"
      },
      "execution_count": null,
      "outputs": []
    },
    {
      "cell_type": "code",
      "source": [
        "print(\"Media es:\",np.mean(lista))"
      ],
      "metadata": {
        "colab": {
          "base_uri": "https://localhost:8080/"
        },
        "id": "fYG5GVp1jvpE",
        "outputId": "49d662ee-6eee-4ec5-f2b1-03053be33d04"
      },
      "execution_count": null,
      "outputs": [
        {
          "output_type": "stream",
          "name": "stdout",
          "text": [
            "Media es: 4.333333333333333\n"
          ]
        }
      ]
    },
    {
      "cell_type": "code",
      "source": [
        "print(\"Varianza es:\",np.var(lista))"
      ],
      "metadata": {
        "id": "RtzAuZpBZ8zJ",
        "outputId": "6e8c46b5-bf93-47db-ce53-ffa020e19ed9",
        "colab": {
          "base_uri": "https://localhost:8080/"
        }
      },
      "execution_count": null,
      "outputs": [
        {
          "output_type": "stream",
          "name": "stdout",
          "text": [
            "Varianza es: 7.222222222222222\n"
          ]
        }
      ]
    },
    {
      "cell_type": "code",
      "source": [
        "input(\"Cual es su nombre\")"
      ],
      "metadata": {
        "colab": {
          "base_uri": "https://localhost:8080/",
          "height": 53
        },
        "id": "rvyaRjndkBQk",
        "outputId": "c324be5b-ae6f-4e81-8b92-179482408820"
      },
      "execution_count": null,
      "outputs": [
        {
          "name": "stdout",
          "output_type": "stream",
          "text": [
            "Cual es su nombreluisa\n"
          ]
        },
        {
          "output_type": "execute_result",
          "data": {
            "text/plain": [
              "'luisa'"
            ],
            "application/vnd.google.colaboratory.intrinsic+json": {
              "type": "string"
            }
          },
          "metadata": {},
          "execution_count": 7
        }
      ]
    },
    {
      "cell_type": "code",
      "source": [
        "a_1=int(input(\"ingrese el número:\"))\n",
        "b_2=int(input(\"ingrese el número:\"))\n",
        "res=a_1+b_2"
      ],
      "metadata": {
        "colab": {
          "base_uri": "https://localhost:8080/"
        },
        "id": "KQt-qtXkOI14",
        "outputId": "60449679-2eed-4d3c-e0ef-5960a2606600"
      },
      "execution_count": null,
      "outputs": [
        {
          "name": "stdout",
          "output_type": "stream",
          "text": [
            "ingrese el número:6\n",
            "ingrese el número:5\n"
          ]
        }
      ]
    },
    {
      "cell_type": "code",
      "source": [
        "res=a_1+b_2\n",
        "res"
      ],
      "metadata": {
        "colab": {
          "base_uri": "https://localhost:8080/"
        },
        "id": "B-6DKFTdOQ7Y",
        "outputId": "d179aebb-1e22-4b09-d26d-f88d5962a675"
      },
      "execution_count": null,
      "outputs": [
        {
          "output_type": "execute_result",
          "data": {
            "text/plain": [
              "11"
            ]
          },
          "metadata": {},
          "execution_count": 10
        }
      ]
    },
    {
      "cell_type": "markdown",
      "source": [
        "## Intro\n",
        "\n",
        "$̄\\bar{x}=\\sum_{i=1}^{n}\\frac{x_{i}}{n}$"
      ],
      "metadata": {
        "id": "beSu8YfYiw-n"
      }
    }
  ]
}