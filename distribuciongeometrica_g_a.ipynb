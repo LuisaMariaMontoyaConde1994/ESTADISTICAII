{
  "nbformat": 4,
  "nbformat_minor": 0,
  "metadata": {
    "colab": {
      "provenance": [],
      "authorship_tag": "ABX9TyOyQlbaAOZ52tSGacEc+VOy",
      "include_colab_link": true
    },
    "kernelspec": {
      "name": "python3",
      "display_name": "Python 3"
    },
    "language_info": {
      "name": "python"
    }
  },
  "cells": [
    {
      "cell_type": "markdown",
      "metadata": {
        "id": "view-in-github",
        "colab_type": "text"
      },
      "source": [
        "<a href=\"https://colab.research.google.com/github/LuisaMariaMontoyaConde1994/ESTADISTICAII/blob/main/distribuciongeometrica_g_a.ipynb\" target=\"_parent\"><img src=\"https://colab.research.google.com/assets/colab-badge.svg\" alt=\"Open In Colab\"/></a>"
      ]
    },
    {
      "cell_type": "markdown",
      "source": [
        "Gabirel Aguilar"
      ],
      "metadata": {
        "id": "Z_xkxTQScDBT"
      }
    },
    {
      "cell_type": "code",
      "execution_count": 3,
      "metadata": {
        "id": "hnndbtCq7XuB"
      },
      "outputs": [],
      "source": [
        "import numpy as np\n",
        "import matplotlib.pyplot as plt\n",
        "from scipy.stats import binom\n",
        "from scipy.stats import poisson\n",
        "from scipy.stats import hypergeom"
      ]
    },
    {
      "cell_type": "code",
      "source": [
        "x=6\n",
        "lamda=4\n",
        "prob=poisson.pmf(x,lamda)\n",
        "print(prob)"
      ],
      "metadata": {
        "colab": {
          "base_uri": "https://localhost:8080/"
        },
        "id": "6WrUxEom72iO",
        "outputId": "548ddbbe-50db-41d8-faab-4125e2ff66e7"
      },
      "execution_count": null,
      "outputs": [
        {
          "output_type": "stream",
          "name": "stdout",
          "text": [
            "0.10419563456702102\n"
          ]
        }
      ]
    },
    {
      "cell_type": "code",
      "source": [
        "N=40\n",
        "n=5\n",
        "x=2\n",
        "k=3\n",
        "prob_1=hypergeom.pmf(x,N,n,k)\n",
        "print(prob_1)"
      ],
      "metadata": {
        "colab": {
          "base_uri": "https://localhost:8080/"
        },
        "id": "eo5geWi_8j7-",
        "outputId": "be1d52a9-6e4f-48c2-c88f-0fed5059b4b5"
      },
      "execution_count": null,
      "outputs": [
        {
          "output_type": "stream",
          "name": "stdout",
          "text": [
            "0.0354251012145749\n"
          ]
        }
      ]
    },
    {
      "cell_type": "markdown",
      "source": [
        "durante un experimento el promedio es de 4 milisegundos¿cual es la probabilidad de que entre a lo mas 5 particulas ?\n",
        "¿cual es la probabilidad de que salgan  a lo mas 3 defectuosos?\n",
        "distirbucon binomial negativa\n",
        "distribucion geometrica"
      ],
      "metadata": {
        "id": "uDGShn5J9MEt"
      }
    },
    {
      "cell_type": "markdown",
      "source": [
        "1) Durante un experimento el promedio de particulas es 4 milisegundos ¿Cúal es la probabilidad de que entre a lo mas 5 particulas en un milisegundo?\n",
        "\n",
        "$$Λ=4$$\n",
        "$$t=1$$\n",
        "$$X=P(5\\geq X )$$"
      ],
      "metadata": {
        "id": "ZL793oGR-AAV"
      }
    },
    {
      "cell_type": "code",
      "source": [
        "lamda=4\n",
        "t=1\n",
        "x=5\n",
        "prob_1=poisson.cdf(x, lamda)\n",
        "print(prob_1)"
      ],
      "metadata": {
        "colab": {
          "base_uri": "https://localhost:8080/"
        },
        "id": "VgeUXsvYBWoO",
        "outputId": "23011e99-c021-4af0-a89d-2338e79c07a5"
      },
      "execution_count": 4,
      "outputs": [
        {
          "output_type": "stream",
          "name": "stdout",
          "text": [
            "0.7851303870304052\n"
          ]
        }
      ]
    },
    {
      "cell_type": "markdown",
      "source": [
        "la probabilidad de que entren a lo mas 5 particulas en un milisegundo es 78%"
      ],
      "metadata": {
        "id": "ltnTNweOEMp3"
      }
    },
    {
      "cell_type": "markdown",
      "source": [
        "Lotes con 40 componentes cada uno que contenga 3 o mas componentes defectuososo, si se relacionan 5 componentes al azar ¿Cúal es la probabilidad de que salgan a lo mas 3 defectuosos?"
      ],
      "metadata": {
        "id": "o2W3v53XV_9R"
      }
    },
    {
      "cell_type": "code",
      "source": [
        "lamda=0.2\n",
        "t=1\n",
        "x=3\n",
        "prob_1=poisson.cdf(x, lamda)\n",
        "print(prob_1)"
      ],
      "metadata": {
        "colab": {
          "base_uri": "https://localhost:8080/"
        },
        "id": "pxwzmz9yEZVU",
        "outputId": "e4f58b6a-bfab-4949-bc9e-015253c34692"
      },
      "execution_count": null,
      "outputs": [
        {
          "output_type": "stream",
          "name": "stdout",
          "text": [
            "0.9999431597592419\n"
          ]
        }
      ]
    },
    {
      "cell_type": "markdown",
      "source": [
        "la probabilidad de que a lo mas salgan 3 defectuosos es 99%"
      ],
      "metadata": {
        "id": "RDhgfpAwE3l2"
      }
    },
    {
      "cell_type": "code",
      "source": [
        "n=4-1\n",
        "p=0.55\n",
        "x=6-1\n",
        "q=0.55\n",
        "pro=binom.pmf(4, 15, 0.4)#fucion de masa de probabilidad.pmf#\n",
        "print(pro)"
      ],
      "metadata": {
        "id": "EvMMJDRGFJPu",
        "colab": {
          "base_uri": "https://localhost:8080/"
        },
        "outputId": "79f6258b-70ca-469e-cc33-fcae9032b93d"
      },
      "execution_count": 5,
      "outputs": [
        {
          "output_type": "stream",
          "name": "stdout",
          "text": [
            "0.1267758032486401\n"
          ]
        }
      ]
    },
    {
      "cell_type": "markdown",
      "source": [],
      "metadata": {
        "id": "s9tYYhgScA81"
      }
    }
  ]
}