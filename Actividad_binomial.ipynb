{
  "nbformat": 4,
  "nbformat_minor": 0,
  "metadata": {
    "colab": {
      "provenance": [],
      "authorship_tag": "ABX9TyO07gkhGgDaoa/XqebqkdsX",
      "include_colab_link": true
    },
    "kernelspec": {
      "name": "python3",
      "display_name": "Python 3"
    },
    "language_info": {
      "name": "python"
    }
  },
  "cells": [
    {
      "cell_type": "markdown",
      "metadata": {
        "id": "view-in-github",
        "colab_type": "text"
      },
      "source": [
        "<a href=\"https://colab.research.google.com/github/LuisaMariaMontoyaConde1994/ESTADISTICAII/blob/main/Actividad_binomial.ipynb\" target=\"_parent\"><img src=\"https://colab.research.google.com/assets/colab-badge.svg\" alt=\"Open In Colab\"/></a>"
      ]
    },
    {
      "cell_type": "markdown",
      "source": [
        "**Paula Geraldine Morales Díaz**"
      ],
      "metadata": {
        "id": "uoM6XK332e0w"
      }
    },
    {
      "cell_type": "markdown",
      "source": [
        "# **Actividad**\n",
        "En una elección, un candidato tiene una probabilidad del $60\\%$ de recibir un voto en cada votación individual. Si se emiten $20$ votos.\n",
        "\n",
        "\n",
        "1.   ¿Cuál es la probabilidad que que al menos el candidato obtenga $12$ votos?\n",
        "2.   ¿Cuál es la probabilidad  que a lo más $10$ votos?\n",
        "3.   ¿Cuál es la probabilidad  que obtenga entre $9$ y $16$ votos?\n",
        "4.   ¿Cuál es la probabilidad  que obtenga $15$ votos exactamente?\n",
        "\n",
        "*   $p=0.6$\n",
        "*   $q=1-0.6=0.4$\n",
        "*   $n=20$\n",
        "\n"
      ],
      "metadata": {
        "id": "8I6HgzrT1TuY"
      }
    },
    {
      "cell_type": "code",
      "execution_count": 1,
      "metadata": {
        "id": "FCHpx1zr1E-K"
      },
      "outputs": [],
      "source": [
        "import numpy as np\n",
        "import matplotlib.pyplot as plt\n",
        "from scipy.stats import binom"
      ]
    },
    {
      "cell_type": "markdown",
      "source": [
        "¿Cuál es la probabilidad que que al menos el candidato obtenga $12$ votos?\n",
        "$$(X\\geq 12)$$"
      ],
      "metadata": {
        "id": "oX28eZyw2VoP"
      }
    },
    {
      "cell_type": "code",
      "source": [
        "n=20\n",
        "p=0.6\n",
        "x=12\n",
        "prob_1=1-binom.cdf(x,n,p)\n",
        "print(prob_1)"
      ],
      "metadata": {
        "colab": {
          "base_uri": "https://localhost:8080/"
        },
        "id": "VUuW7Zjd2lZW",
        "outputId": "902135ee-8e9f-464e-df21-a6eec09629aa"
      },
      "execution_count": 2,
      "outputs": [
        {
          "output_type": "stream",
          "name": "stdout",
          "text": [
            "0.41589293755753554\n"
          ]
        }
      ]
    },
    {
      "cell_type": "markdown",
      "source": [
        "**La probabilidad de que al menos el candidato obtenga $12$ votos es del $41.58\\%$**"
      ],
      "metadata": {
        "id": "ToS92K_u3f2G"
      }
    },
    {
      "cell_type": "markdown",
      "source": [
        "¿Cuál es la probabilidad  que a lo más $10$ votos?\n",
        "$$(X\\leq 10)$$"
      ],
      "metadata": {
        "id": "Uy_STA603ENn"
      }
    },
    {
      "cell_type": "code",
      "source": [
        "n=20\n",
        "p=0.6\n",
        "x=10\n",
        "prob_1=binom.cdf(x,n,p)\n",
        "print(prob_1)"
      ],
      "metadata": {
        "colab": {
          "base_uri": "https://localhost:8080/"
        },
        "id": "LFvRq0dm3W2m",
        "outputId": "0b06932c-da6e-484d-da54-e09c49675770"
      },
      "execution_count": 3,
      "outputs": [
        {
          "output_type": "stream",
          "name": "stdout",
          "text": [
            "0.24466279668360685\n"
          ]
        }
      ]
    },
    {
      "cell_type": "markdown",
      "source": [
        "**La probabilidad de que a lo más el candidato obtenga $10$ votos es del $24.46\\%$**\n",
        "\n"
      ],
      "metadata": {
        "id": "mDpR5m4i4Kte"
      }
    },
    {
      "cell_type": "markdown",
      "source": [
        " ¿Cuál es la probabilidad  que obtenga entre $9$ y $16$ votos?\n",
        " $$P(9\\leq X \\leq 16)$$\n"
      ],
      "metadata": {
        "id": "LPwtb-pe4ZkO"
      }
    },
    {
      "cell_type": "code",
      "source": [
        "n=20\n",
        "p=0.6\n",
        "x_1=9\n",
        "x_2=16\n",
        "prob=binom.cdf(x_2,n,p)-binom.cdf(x_1,n,p)\n",
        "print(prob)"
      ],
      "metadata": {
        "colab": {
          "base_uri": "https://localhost:8080/"
        },
        "id": "ou1N028J4nQH",
        "outputId": "8c88afcd-f910-4667-ca59-9787d42a7d54"
      },
      "execution_count": 4,
      "outputs": [
        {
          "output_type": "stream",
          "name": "stdout",
          "text": [
            "0.856517591062775\n"
          ]
        }
      ]
    },
    {
      "cell_type": "markdown",
      "source": [
        "**La probabilidad de que el candidato obtenga entre $9$ y $16$ votos es del $85.65\\%$**"
      ],
      "metadata": {
        "id": "F7J0BCwc42uf"
      }
    },
    {
      "cell_type": "markdown",
      "source": [
        "¿Cuál es la probabilidad  que obtenga $15$ votos exactamente?\n",
        "$$P(x=15)$$"
      ],
      "metadata": {
        "id": "73XVyB6L5iZw"
      }
    },
    {
      "cell_type": "code",
      "source": [
        "n=20\n",
        "p=0.6\n",
        "x=15\n",
        "pro=binom.pmf(x, n, p)\n",
        "print(pro)"
      ],
      "metadata": {
        "colab": {
          "base_uri": "https://localhost:8080/"
        },
        "id": "7c_4VtRK5nQm",
        "outputId": "90af8880-dc5a-4c81-db6a-b1656ca7c604"
      },
      "execution_count": 5,
      "outputs": [
        {
          "output_type": "stream",
          "name": "stdout",
          "text": [
            "0.07464701952887111\n"
          ]
        }
      ]
    },
    {
      "cell_type": "markdown",
      "source": [
        "**La probabilidad de que el candidato obtenga exactamente $15$ votos es del $7.4\\%$**"
      ],
      "metadata": {
        "id": "pQ5szTPq52s2"
      }
    }
  ]
}