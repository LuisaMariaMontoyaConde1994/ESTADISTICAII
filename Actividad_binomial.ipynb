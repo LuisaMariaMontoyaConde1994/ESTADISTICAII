{
  "nbformat": 4,
  "nbformat_minor": 0,
  "metadata": {
    "colab": {
      "provenance": [],
      "authorship_tag": "ABX9TyMu4ojWxy47ADZP/3CuFS2o",
      "include_colab_link": true
    },
    "kernelspec": {
      "name": "python3",
      "display_name": "Python 3"
    },
    "language_info": {
      "name": "python"
    }
  },
  "cells": [
    {
      "cell_type": "markdown",
      "metadata": {
        "id": "view-in-github",
        "colab_type": "text"
      },
      "source": [
        "<a href=\"https://colab.research.google.com/github/LuisaMariaMontoyaConde1994/ESTADISTICAII/blob/main/Actividad_binomial.ipynb\" target=\"_parent\"><img src=\"https://colab.research.google.com/assets/colab-badge.svg\" alt=\"Open In Colab\"/></a>"
      ]
    },
    {
      "cell_type": "markdown",
      "source": [
        "Kevin Julián Domínguez Ayala"
      ],
      "metadata": {
        "id": "sBn5ZFfk8aCH"
      }
    },
    {
      "cell_type": "markdown",
      "source": [
        "# **Actividad**\n",
        "\n",
        "En una elección, un candidato tiene una probabilidad del 60% de recibir un voto en cada votación individual. Si se emiten $20$ votos.\n",
        "\n",
        "\n",
        "1.   ¿Cuál es la probabilidad que al menos el candidato obtenga $12$ votos?\n",
        "2.   ¿Cuál es la probabilidad  que a lo más $10$ votos?\n",
        "3.   ¿Cuál es la probabilidad  que obtenga entre $9$ y $16$ votos?\n",
        "4.   ¿Cuál es la probabilidad  que obtenga $15$ votos exactamente?\n"
      ],
      "metadata": {
        "id": "ydlGe3cJ1U5S"
      }
    },
    {
      "cell_type": "code",
      "source": [
        "import numpy as np\n",
        "import matplotlib.pyplot as plt\n",
        "from scipy.stats import binom"
      ],
      "metadata": {
        "id": "bOwHx0we2Mn0"
      },
      "execution_count": 1,
      "outputs": []
    },
    {
      "cell_type": "markdown",
      "source": [
        "1. ¿Cuál es la probabilidad que al menos el candidato obtenga $12$ votos?\n",
        "$$P(X \\geq 12)$$\n"
      ],
      "metadata": {
        "id": "aA_hoOPC2Wsr"
      }
    },
    {
      "cell_type": "code",
      "source": [
        "n=20\n",
        "p=0.6\n",
        "x=12\n",
        "prob_1=1-binom.cdf(x, n, p)\n",
        "print(prob_1)"
      ],
      "metadata": {
        "colab": {
          "base_uri": "https://localhost:8080/"
        },
        "id": "9YaT7iji3dEN",
        "outputId": "bb7e0c61-d5cc-4ce5-de5c-672d7eb562f9"
      },
      "execution_count": 2,
      "outputs": [
        {
          "output_type": "stream",
          "name": "stdout",
          "text": [
            "0.41589293755753554\n"
          ]
        }
      ]
    },
    {
      "cell_type": "markdown",
      "source": [
        "$RESPUESTA$\n",
        "\n",
        "la probabilidad de que al menos obtenga $12$ votos es del $41\\%$ aproximadamente"
      ],
      "metadata": {
        "id": "LNYvBiHt3jwL"
      }
    },
    {
      "cell_type": "markdown",
      "source": [
        "2. ¿Cuál es la probabilidad  que a lo más $10$ votos?\n",
        "$$P(X \\leq 10)$$"
      ],
      "metadata": {
        "id": "fxs7xFQ23750"
      }
    },
    {
      "cell_type": "code",
      "source": [
        "n=20\n",
        "p=0.6\n",
        "x=10\n",
        "prob_1=binom.cdf(x, n, p)\n",
        "print(prob_1)"
      ],
      "metadata": {
        "colab": {
          "base_uri": "https://localhost:8080/"
        },
        "id": "vES7GGpn5W7f",
        "outputId": "6806daa4-8d3b-4b23-8f89-12e3fa91c792"
      },
      "execution_count": 4,
      "outputs": [
        {
          "output_type": "stream",
          "name": "stdout",
          "text": [
            "0.24466279668360685\n"
          ]
        }
      ]
    },
    {
      "cell_type": "markdown",
      "source": [
        "$RESPUESTA$\n",
        "\n",
        "la probabilidad de que obtenga mas de $10$ votos es del $24\\%$ aproximadamente"
      ],
      "metadata": {
        "id": "RRuUQfHc5hQt"
      }
    },
    {
      "cell_type": "markdown",
      "source": [
        "3. ¿Cuál es la probabilidad que obtenga entre  9  y  16  votos?\n",
        "$$P(9\\leq X \\leq 16)$$"
      ],
      "metadata": {
        "id": "OpCR2Q8T5wXF"
      }
    },
    {
      "cell_type": "code",
      "source": [
        "n=20\n",
        "p=0.6\n",
        "x_1=9\n",
        "x_2=16\n",
        "prob=binom.cdf(x_2, n, p)-binom.cdf(x_1, n, p)\n",
        "print(prob)"
      ],
      "metadata": {
        "colab": {
          "base_uri": "https://localhost:8080/"
        },
        "id": "57K94tV-5477",
        "outputId": "7e960d7c-9703-4636-fbef-d1c84fd21ae1"
      },
      "execution_count": 5,
      "outputs": [
        {
          "output_type": "stream",
          "name": "stdout",
          "text": [
            "0.856517591062775\n"
          ]
        }
      ]
    },
    {
      "cell_type": "markdown",
      "source": [
        "$RESPUESTA$\n",
        "\n",
        "la probabilidad de que obtenga entre los $9$ y $16$ de voto es del $85\\%$ aproximadamente"
      ],
      "metadata": {
        "id": "rT41bh5_6N-1"
      }
    },
    {
      "cell_type": "markdown",
      "source": [
        "4. ¿Cuál es la probabilidad  que obtenga $15$ votos exactamente?\n",
        "\n",
        "*   $p=0.6$\n",
        "*   $q=1-06=0.4$\n",
        "*   $n=20$\n",
        "*   $x=15$\n",
        "\n",
        "$$P(X=15)=\\binom{20}{15}(0.6)^{15}(0.4)^{20-15}$$\n",
        "$$P(X=15)=0.74$$"
      ],
      "metadata": {
        "id": "7oNn7xqY6qiG"
      }
    },
    {
      "cell_type": "code",
      "source": [
        "n=20\n",
        "p=0.6\n",
        "x=15\n",
        "pro=binom.pmf(x, n, p)\n",
        "print(pro)"
      ],
      "metadata": {
        "colab": {
          "base_uri": "https://localhost:8080/"
        },
        "id": "xsAAHrim7TwP",
        "outputId": "3e25edb0-7f19-418d-99c2-761a84375637"
      },
      "execution_count": 6,
      "outputs": [
        {
          "output_type": "stream",
          "name": "stdout",
          "text": [
            "0.07464701952887111\n"
          ]
        }
      ]
    },
    {
      "cell_type": "markdown",
      "source": [
        "$RESPUESTA$\n",
        "\n",
        "la probabilidad de que obtenga $15$ votos exactamente es del $7\\%$ aproximadamente"
      ],
      "metadata": {
        "id": "gXTTMrVJ7ddt"
      }
    }
  ]
}