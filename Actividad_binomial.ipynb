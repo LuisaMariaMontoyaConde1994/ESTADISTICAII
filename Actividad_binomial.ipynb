{
  "nbformat": 4,
  "nbformat_minor": 0,
  "metadata": {
    "colab": {
      "provenance": [],
      "authorship_tag": "ABX9TyMQu3HC79UKCrt9HVIqu8Oh",
      "include_colab_link": true
    },
    "kernelspec": {
      "name": "python3",
      "display_name": "Python 3"
    },
    "language_info": {
      "name": "python"
    }
  },
  "cells": [
    {
      "cell_type": "markdown",
      "metadata": {
        "id": "view-in-github",
        "colab_type": "text"
      },
      "source": [
        "<a href=\"https://colab.research.google.com/github/LuisaMariaMontoyaConde1994/ESTADISTICAII/blob/main/Actividad_binomial.ipynb\" target=\"_parent\"><img src=\"https://colab.research.google.com/assets/colab-badge.svg\" alt=\"Open In Colab\"/></a>"
      ]
    },
    {
      "cell_type": "markdown",
      "source": [
        "Cintya Catalina Aparicio Rincón"
      ],
      "metadata": {
        "id": "dWPqglyZ3NWl"
      }
    },
    {
      "cell_type": "markdown",
      "source": [
        "# **Actividad**\n",
        "En una elección, un candidato tiene una probabilidad del 60% de recibir un voto en cada votación individual. Si se emiten 20 votos.\n",
        "\n",
        "\n",
        "1.   ¿Cuál es la probabilidad que que al menos el candidato obtenga 12 votos?\n",
        "2.   ¿Cuál es la probabilidad  que a lo más 10 votos?\n",
        "3.   ¿Cuál es la probabilidad  que obtenga entre 9 y 16 votos?\n",
        "4.   ¿Cuál es la probabilidad  que obtenga 15 votos exactamente?"
      ],
      "metadata": {
        "id": "cSTh6Je21a7N"
      }
    },
    {
      "cell_type": "code",
      "execution_count": 4,
      "metadata": {
        "id": "sY7gBbIF1HQY"
      },
      "outputs": [],
      "source": [
        "import numpy as np\n",
        "import matplotlib.pyplot as plt\n",
        "from scipy.stats import binom"
      ]
    },
    {
      "cell_type": "markdown",
      "source": [
        "¿Cuál es la probabilidad que que al menos el candidato obtenga 12 votos?\n",
        "\n",
        "$$P(X ≥12)$$\n",
        "\n",
        "\n",
        "\n",
        "\n",
        "\n",
        "\n",
        "\n",
        "\n",
        "\n",
        "\n",
        "\n",
        "\n"
      ],
      "metadata": {
        "id": "NO67oWpg2LB8"
      }
    },
    {
      "cell_type": "code",
      "source": [
        "n=20\n",
        "p=0.6\n",
        "x=12\n",
        "prob_1=1 -binom.cdf(x, n, p,)#cdf funcion de densidad continua de la binomial#\n",
        "print(prob_1)"
      ],
      "metadata": {
        "colab": {
          "base_uri": "https://localhost:8080/"
        },
        "id": "vVg8yKv86sWM",
        "outputId": "7476d4cf-cb33-4dbe-d2dd-6bec90c32015"
      },
      "execution_count": 5,
      "outputs": [
        {
          "output_type": "stream",
          "name": "stdout",
          "text": [
            "0.41589293755753554\n"
          ]
        }
      ]
    },
    {
      "cell_type": "markdown",
      "source": [
        "¿Cuál es la probabilidad que a lo más 10 votos?\n",
        "\n",
        "$$P(X≤10)$$"
      ],
      "metadata": {
        "id": "YfABlhAs7HDj"
      }
    },
    {
      "cell_type": "code",
      "source": [
        "n=20\n",
        "p=0.6\n",
        "x=10\n",
        "prob_1=binom.cdf(x, n, p,)#cdf funcion de densidad continua de la binomial#\n",
        "print(prob_1)"
      ],
      "metadata": {
        "colab": {
          "base_uri": "https://localhost:8080/"
        },
        "id": "65iLz1Am66dj",
        "outputId": "97690ce8-5aca-4ef1-86fe-7d0eaff04b93"
      },
      "execution_count": 6,
      "outputs": [
        {
          "output_type": "stream",
          "name": "stdout",
          "text": [
            "0.24466279668360685\n"
          ]
        }
      ]
    },
    {
      "cell_type": "markdown",
      "source": [
        "¿Cuál es la probabilidad que obtenga entre 9 y 16 votos?\n",
        "$$P(9≤X≤16)$$"
      ],
      "metadata": {
        "id": "sPDKAYzL8BE7"
      }
    },
    {
      "cell_type": "code",
      "source": [
        "n=20\n",
        "p=0.6\n",
        "x_1=9\n",
        "x_2=16\n",
        "prob=binom.cdf(x_2,n,p)-binom.cdf(x_1,n,p)\n",
        "print(prob)"
      ],
      "metadata": {
        "colab": {
          "base_uri": "https://localhost:8080/"
        },
        "id": "Xwy40jHq8XqL",
        "outputId": "48dd3fdc-9c58-4dda-ed2c-58d7c04c692b"
      },
      "execution_count": 7,
      "outputs": [
        {
          "output_type": "stream",
          "name": "stdout",
          "text": [
            "0.856517591062775\n"
          ]
        }
      ]
    },
    {
      "cell_type": "markdown",
      "source": [
        "¿Cuál es la probabilidad que obtenga 15 votos exactamente?\n",
        "\n",
        "$$P(X=15)$$\n"
      ],
      "metadata": {
        "id": "YjzjAz-g8lec"
      }
    },
    {
      "cell_type": "code",
      "source": [
        "n=20\n",
        "p=0.6\n",
        "x=15\n",
        "pro=binom.pmf(15, 20, 0.6)#fucion de masa de probabilidad.pmf#\n",
        "print(pro)"
      ],
      "metadata": {
        "colab": {
          "base_uri": "https://localhost:8080/"
        },
        "id": "NBo8pkJB8sMc",
        "outputId": "cce19caf-104b-4579-96e4-850a8670f593"
      },
      "execution_count": 8,
      "outputs": [
        {
          "output_type": "stream",
          "name": "stdout",
          "text": [
            "0.07464701952887111\n"
          ]
        }
      ]
    }
  ]
}