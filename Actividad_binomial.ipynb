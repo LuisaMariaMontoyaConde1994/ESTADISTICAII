{
  "nbformat": 4,
  "nbformat_minor": 0,
  "metadata": {
    "colab": {
      "provenance": [],
      "authorship_tag": "ABX9TyP5c1/P+Toxl/hN0tYQunrx",
      "include_colab_link": true
    },
    "kernelspec": {
      "name": "python3",
      "display_name": "Python 3"
    },
    "language_info": {
      "name": "python"
    }
  },
  "cells": [
    {
      "cell_type": "markdown",
      "metadata": {
        "id": "view-in-github",
        "colab_type": "text"
      },
      "source": [
        "<a href=\"https://colab.research.google.com/github/LuisaMariaMontoyaConde1994/ESTADISTICAII/blob/main/Actividad_binomial.ipynb\" target=\"_parent\"><img src=\"https://colab.research.google.com/assets/colab-badge.svg\" alt=\"Open In Colab\"/></a>"
      ]
    },
    {
      "cell_type": "code",
      "execution_count": null,
      "metadata": {
        "id": "bxemh37unsA4"
      },
      "outputs": [],
      "source": []
    },
    {
      "cell_type": "markdown",
      "source": [
        "JULIAN ANDRES ROJAS SUAREZ"
      ],
      "metadata": {
        "id": "l4tuNZpB_zFp"
      }
    },
    {
      "cell_type": "markdown",
      "source": [
        "#Binomial\n"
      ],
      "metadata": {
        "id": "wpayFkPGnxnP"
      }
    },
    {
      "cell_type": "markdown",
      "source": [
        "## Ejemplo 1\n",
        "la probabilidad de que un paciente se recupere de una rara enfermedad es de $40\\%$. si se sabe que $15$ personas contrajeron la enfermedad¡cual es la probabilidad de que sobrevivan $5$ personas ?\n",
        "\n",
        "*    $p=0.4$\n",
        "*    $q=1-0.4=0.6$\n",
        "*    $n=15$\n",
        "\n",
        "\n",
        "$$P(x=5)=\\binom{15}{5}(0.4)^{5}(0.6)^{15-5}$$\n",
        "$$P(x=5)=0.18$$"
      ],
      "metadata": {
        "id": "qWU8crvOn322"
      }
    },
    {
      "cell_type": "code",
      "source": [
        "import numpy as np\n",
        "import matplotlib.pyplot as plt\n",
        "from scipy.stats import binom"
      ],
      "metadata": {
        "id": "7tpbEbEeqaFe"
      },
      "execution_count": 1,
      "outputs": []
    },
    {
      "cell_type": "code",
      "source": [
        "n=15\n",
        "p=0.4\n",
        "x=5\n",
        "pro=binom.pmf(x,n,p)\n",
        "print(pro)"
      ],
      "metadata": {
        "colab": {
          "base_uri": "https://localhost:8080/"
        },
        "id": "-RyjwRBerFE0",
        "outputId": "7a4ca43f-7d83-49f7-c46c-1c3e43a4dcee"
      },
      "execution_count": 2,
      "outputs": [
        {
          "output_type": "stream",
          "name": "stdout",
          "text": [
            "0.18593784476467187\n"
          ]
        }
      ]
    },
    {
      "cell_type": "markdown",
      "source": [
        "¿Cual es la probabilidad de que al menos 6 sobrevivan?\n",
        "\n",
        "\n",
        "\n",
        "\n",
        "\n"
      ],
      "metadata": {
        "id": "JfzbT9n5zIUh"
      }
    },
    {
      "cell_type": "code",
      "source": [
        "n=15\n",
        "p=0.4\n",
        "x=6\n",
        "prob_1=1-binom.cdf(x, n, p)\n",
        "print(prob_1)\n"
      ],
      "metadata": {
        "colab": {
          "base_uri": "https://localhost:8080/"
        },
        "id": "vVBhEzPH1neG",
        "outputId": "626eadf0-bb21-4833-9b2f-f4d1ddc00012"
      },
      "execution_count": 3,
      "outputs": [
        {
          "output_type": "stream",
          "name": "stdout",
          "text": [
            "0.3901868442910721\n"
          ]
        }
      ]
    },
    {
      "cell_type": "markdown",
      "source": [
        "La probabilidad de que sobrevivan al menos 6 personas es de $39\\%$ aproximadamente\n"
      ],
      "metadata": {
        "id": "n1AAiMmT1tuN"
      }
    },
    {
      "cell_type": "markdown",
      "source": [
        "¿Cual es la probabilidad de que sobrevivan entre $8$ y $10$ personas?\n"
      ],
      "metadata": {
        "id": "pd2xvRNx1x8N"
      }
    },
    {
      "cell_type": "markdown",
      "source": [
        "\n",
        "$$P(8\\leq X \\leq 10)$$\n",
        "\n",
        "---\n",
        "\n"
      ],
      "metadata": {
        "id": "FtM8mJTP19Mt"
      }
    },
    {
      "cell_type": "code",
      "source": [
        "\n",
        "\n",
        "\n",
        "\n",
        "\n",
        "n=15\n",
        "p=0.4\n",
        "x_1=8\n",
        "x_2=10\n",
        "prob=binom.cdf(x_2,n,p)-binom.cdf(x_1,n,p)\n",
        "print(prob)\n"
      ],
      "metadata": {
        "colab": {
          "base_uri": "https://localhost:8080/"
        },
        "id": "tNzOliAI12kV",
        "outputId": "70997a74-f12b-4c2b-ca54-034f6f5d514e"
      },
      "execution_count": 4,
      "outputs": [
        {
          "output_type": "stream",
          "name": "stdout",
          "text": [
            "0.08569974738124797\n"
          ]
        }
      ]
    },
    {
      "cell_type": "markdown",
      "source": [
        "# **Actividad**\n",
        "En una elección, un candidato tiene una probabilidad del 60% de recibir un voto en cada votación individual. Si se emiten 20 votos.\n",
        "\n",
        "\n",
        "1.   ¿Cuál es la probabilidad que que al menos el candidato obtenga 12 votos?\n",
        "2.   ¿Cuál es la probabilidad  que a lo más 10 votos?\n",
        "3.   ¿Cuál es la probabilidad  que obtenga entre 9 y 16 votos?\n",
        "4.   ¿Cuál es la probabilidad  que obtenga 15 votos exactamente?"
      ],
      "metadata": {
        "id": "jrG9FCW92QAG"
      }
    },
    {
      "cell_type": "code",
      "source": [
        "import numpy as np\n",
        "import matplotlib.pyplot as plt\n",
        "from scipy.stats import binom"
      ],
      "metadata": {
        "id": "Gk4zllWu3QoF"
      },
      "execution_count": 5,
      "outputs": []
    },
    {
      "cell_type": "markdown",
      "source": [
        "1.   ¿Cuál es la probabilidad que que al menos el candidato obtenga 12 votos?\n",
        "\n",
        "\n",
        "$$(X\\geq 12)$$"
      ],
      "metadata": {
        "id": "lKKzARp526_N"
      }
    },
    {
      "cell_type": "code",
      "source": [
        "n=20\n",
        "p=0.6\n",
        "x=12\n",
        "prob_1=1-binom.cdf(x, n, p)\n",
        "print(prob_1)\n"
      ],
      "metadata": {
        "colab": {
          "base_uri": "https://localhost:8080/"
        },
        "id": "5WsKkpjv7nsk",
        "outputId": "26cdac25-2daa-4dbf-b5ab-4605e068b6d4"
      },
      "execution_count": 6,
      "outputs": [
        {
          "output_type": "stream",
          "name": "stdout",
          "text": [
            "0.41589293755753554\n"
          ]
        }
      ]
    },
    {
      "cell_type": "markdown",
      "source": [
        "la probabilidad de que al menos el candidato obtenga $12$ votos es de $41\\%$"
      ],
      "metadata": {
        "id": "7WVapvCE8H4z"
      }
    },
    {
      "cell_type": "markdown",
      "source": [
        "   ¿Cuál es la probabilidad  que a lo más 10 votos?"
      ],
      "metadata": {
        "id": "MxtNz26D8oqa"
      }
    },
    {
      "cell_type": "code",
      "source": [
        "n=20\n",
        "p=0.6\n",
        "x=10\n",
        "prob_1=binom.cdf(x, n, p)\n",
        "print(prob_1)"
      ],
      "metadata": {
        "colab": {
          "base_uri": "https://localhost:8080/"
        },
        "id": "kTD994709jZm",
        "outputId": "c7b541a8-7894-4e1b-a15c-fb5da528bd72"
      },
      "execution_count": 7,
      "outputs": [
        {
          "output_type": "stream",
          "name": "stdout",
          "text": [
            "0.24466279668360685\n"
          ]
        }
      ]
    },
    {
      "cell_type": "markdown",
      "source": [
        "la probabilidad de que a lo mas el candidato obtenga  10  votos es de  24%"
      ],
      "metadata": {
        "id": "olfKk0sZ9l_7"
      }
    },
    {
      "cell_type": "markdown",
      "source": [
        "¿Cuál es la probabilidad que obtenga entre 9 y 16 votos?\n"
      ],
      "metadata": {
        "id": "QfSi64vp92ED"
      }
    },
    {
      "cell_type": "code",
      "source": [
        "n=20\n",
        "p=0.6\n",
        "x_1=9\n",
        "x_2=16\n",
        "prob_1=binom.cdf(x_2, n, p)-binom.cdf(x_1, n, p)\n",
        "print(prob_1)"
      ],
      "metadata": {
        "colab": {
          "base_uri": "https://localhost:8080/"
        },
        "id": "i9mOJ2P0-Hdr",
        "outputId": "921cd581-58bf-48c3-d3aa-b06b6cd3ed93"
      },
      "execution_count": 8,
      "outputs": [
        {
          "output_type": "stream",
          "name": "stdout",
          "text": [
            "0.856517591062775\n"
          ]
        }
      ]
    },
    {
      "cell_type": "markdown",
      "source": [
        "la probabilidad de que tenga entre 9 y 16 votos es de 85%"
      ],
      "metadata": {
        "id": "6T4kAGm3-9wp"
      }
    },
    {
      "cell_type": "markdown",
      "source": [
        "¿Cuál es la probabilidad que obtenga 15 votos exactamente?"
      ],
      "metadata": {
        "id": "A4ftz0R-_Hap"
      }
    },
    {
      "cell_type": "code",
      "source": [
        "n=20\n",
        "p=0.6\n",
        "x=15\n",
        "pro=binom.pmf(x, n, p)\n",
        "print(pro)\n"
      ],
      "metadata": {
        "colab": {
          "base_uri": "https://localhost:8080/"
        },
        "id": "viAcuKlk_VjF",
        "outputId": "8d3f8d70-e730-4012-e986-7c0e6f1b81f9"
      },
      "execution_count": 9,
      "outputs": [
        {
          "output_type": "stream",
          "name": "stdout",
          "text": [
            "0.07464701952887111\n"
          ]
        }
      ]
    },
    {
      "cell_type": "markdown",
      "source": [
        "la probabilidad de que tenga 15 votos exactamente es del 74%\n"
      ],
      "metadata": {
        "id": "ty_XRLmL_g2p"
      }
    }
  ]
}