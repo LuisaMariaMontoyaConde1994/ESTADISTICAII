{
  "nbformat": 4,
  "nbformat_minor": 0,
  "metadata": {
    "colab": {
      "provenance": [],
      "authorship_tag": "ABX9TyOZLTPdMWAGOJFNV6yYT581",
      "include_colab_link": true
    },
    "kernelspec": {
      "name": "python3",
      "display_name": "Python 3"
    },
    "language_info": {
      "name": "python"
    }
  },
  "cells": [
    {
      "cell_type": "markdown",
      "metadata": {
        "id": "view-in-github",
        "colab_type": "text"
      },
      "source": [
        "<a href=\"https://colab.research.google.com/github/LuisaMariaMontoyaConde1994/ESTADISTICAII/blob/main/Distribuciones_discretas123.ipynb\" target=\"_parent\"><img src=\"https://colab.research.google.com/assets/colab-badge.svg\" alt=\"Open In Colab\"/></a>"
      ]
    },
    {
      "cell_type": "markdown",
      "source": [
        "### Integrantes: Santiago Borja, Ana Yiseth Cortes"
      ],
      "metadata": {
        "id": "pw0LzZ4jHHi2"
      }
    },
    {
      "cell_type": "markdown",
      "source": [
        "# Distribuciones discretas"
      ],
      "metadata": {
        "id": "psqeCzgj7Owz"
      }
    },
    {
      "cell_type": "code",
      "execution_count": 10,
      "metadata": {
        "id": "nR6-lbR-ugkl"
      },
      "outputs": [],
      "source": [
        "import numpy as np\n",
        "import matplotlib.pyplot as plt\n",
        "from scipy.stats import binom\n",
        "from scipy.stats import poisson\n",
        "from scipy.stats import hypergeom\n",
        "from scipy.stats import geom"
      ]
    },
    {
      "cell_type": "code",
      "source": [
        "x=6\n",
        "lamda=4\n",
        "prob=poisson.pmf(x,lamda)\n",
        "print(prob)"
      ],
      "metadata": {
        "colab": {
          "base_uri": "https://localhost:8080/"
        },
        "id": "U1bbXYQZ70XM",
        "outputId": "b21780ac-0fff-48da-d70f-2253b9986ab8"
      },
      "execution_count": null,
      "outputs": [
        {
          "output_type": "stream",
          "name": "stdout",
          "text": [
            "0.10419563456702102\n"
          ]
        }
      ]
    },
    {
      "cell_type": "markdown",
      "source": [
        "## Distribución hipergeométrica\n"
      ],
      "metadata": {
        "id": "N8IaWMuq8jjz"
      }
    },
    {
      "cell_type": "code",
      "source": [
        "N=40\n",
        "n=5\n",
        "k=3\n",
        "x=2\n",
        "prob_1=hypergeom.pmf(x, N, n, k)\n",
        "print(prob_1)"
      ],
      "metadata": {
        "colab": {
          "base_uri": "https://localhost:8080/"
        },
        "id": "9QZDNo6X8nKS",
        "outputId": "51a5f206-5fe4-43da-b255-a151c2f04d04"
      },
      "execution_count": null,
      "outputs": [
        {
          "output_type": "stream",
          "name": "stdout",
          "text": [
            "0.0354251012145749\n"
          ]
        }
      ]
    },
    {
      "cell_type": "markdown",
      "source": [
        "Durante un experimento el promedio de partículas es de $4$ milisegundos ¿Cuál es la probabilidad de que entren a los más $5$ partículas?\n",
        "$$P(X\\geq 5)$$"
      ],
      "metadata": {
        "id": "9p-EULqc9PRC"
      }
    },
    {
      "cell_type": "code",
      "source": [
        "x=5\n",
        "lamda=4\n",
        "prob_2=poisson.cdf(x, lamda)\n",
        "print(prob_2)"
      ],
      "metadata": {
        "colab": {
          "base_uri": "https://localhost:8080/"
        },
        "id": "Xgsr58k3938a",
        "outputId": "d95e8b80-d227-48b5-fd6d-59306e8e8c14"
      },
      "execution_count": 6,
      "outputs": [
        {
          "output_type": "stream",
          "name": "stdout",
          "text": [
            "0.7851303870304052\n"
          ]
        }
      ]
    },
    {
      "cell_type": "markdown",
      "source": [
        "La probabilidad de que entren a lo más $5$ partículas es el $78\\%$  aproximadamente."
      ],
      "metadata": {
        "id": "FjIz6C1Fqi4I"
      }
    },
    {
      "cell_type": "markdown",
      "source": [
        "¿Cuál es la probabilidad de que salgan a lo más $2$ defectuosos? Distribución hipergeométrica\n",
        "$$P(X\\geq 2)$$"
      ],
      "metadata": {
        "id": "6cg7lRtk9Z0K"
      }
    },
    {
      "cell_type": "code",
      "source": [
        "N=40\n",
        "n=5\n",
        "k=3\n",
        "x=2\n",
        "prob_3=hypergeom.cdf(x, N, n, k)\n",
        "print(prob_3)"
      ],
      "metadata": {
        "colab": {
          "base_uri": "https://localhost:8080/"
        },
        "id": "isGrYjXU_OXS",
        "outputId": "975e763a-6d66-4484-a047-027e5032e9a2"
      },
      "execution_count": 13,
      "outputs": [
        {
          "output_type": "stream",
          "name": "stdout",
          "text": [
            "0.9989878542510121\n"
          ]
        }
      ]
    },
    {
      "cell_type": "markdown",
      "source": [
        "La probabilidad de que salgan a lo más $2$ defectuosos es del $99,8\\%$ aproximadamente."
      ],
      "metadata": {
        "id": "pYZJQe0Zugf4"
      }
    },
    {
      "cell_type": "markdown",
      "source": [
        "* Realice el mismo ejemplo de la binomial negativa compruebe y en la distribucion\n",
        "\n",
        "\n",
        "geometrica."
      ],
      "metadata": {
        "id": "ZGa6K-jt9v8K"
      }
    },
    {
      "cell_type": "markdown",
      "source": [
        "#Distribución binomial negativa"
      ],
      "metadata": {
        "id": "lyOlLR_ToT_V"
      }
    },
    {
      "cell_type": "markdown",
      "source": [
        "¿Cuál es la probabilidad de que gane el equipo $A$ en $6$ juegos?"
      ],
      "metadata": {
        "id": "0SB4lt3iBwVp"
      }
    },
    {
      "cell_type": "code",
      "source": [
        "x=6-1\n",
        "k=4-1\n",
        "p=0.55\n",
        "prob_4=binom.pmf(k, x, p )\n",
        "print(prob_4)"
      ],
      "metadata": {
        "colab": {
          "base_uri": "https://localhost:8080/"
        },
        "id": "boGiT3ApB1cr",
        "outputId": "e3934d5a-c6cd-4768-959d-67ea73683922"
      },
      "execution_count": 14,
      "outputs": [
        {
          "output_type": "stream",
          "name": "stdout",
          "text": [
            "0.3369093749999999\n"
          ]
        }
      ]
    },
    {
      "cell_type": "markdown",
      "source": [
        "La probabilidad de que gane el equipo A en $6$ juegos es del $33,6\\%$ aproximadamente."
      ],
      "metadata": {
        "id": "ELimELhRohTR"
      }
    },
    {
      "cell_type": "markdown",
      "source": [
        "#Distribución geométrica"
      ],
      "metadata": {
        "id": "F1nxbZCwtUr5"
      }
    },
    {
      "cell_type": "markdown",
      "source": [
        "¿Cuál es la probabilidad de que el $5$ articulo sea el primer defectuoso?\n",
        "\n"
      ],
      "metadata": {
        "id": "KcE4_DK_DXng"
      }
    },
    {
      "cell_type": "code",
      "source": [
        "p=0.01\n",
        "x=5\n",
        "prob_5=geom.pmf(x, p)\n",
        "print(prob_5)"
      ],
      "metadata": {
        "colab": {
          "base_uri": "https://localhost:8080/"
        },
        "id": "loisigsCDiBb",
        "outputId": "8e57d27b-9b0e-41ad-f351-e285131a57c4"
      },
      "execution_count": 15,
      "outputs": [
        {
          "output_type": "stream",
          "name": "stdout",
          "text": [
            "0.0096059601\n"
          ]
        }
      ]
    },
    {
      "cell_type": "markdown",
      "source": [
        "La probabilidad de que el $5$ articulo sea el primer defectuoso es del $0,96\\%$ aproximadamente."
      ],
      "metadata": {
        "id": "w4saUItvpfXp"
      }
    }
  ]
}