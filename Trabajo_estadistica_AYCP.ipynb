{
  "nbformat": 4,
  "nbformat_minor": 0,
  "metadata": {
    "colab": {
      "provenance": [],
      "include_colab_link": true
    },
    "kernelspec": {
      "name": "python3",
      "display_name": "Python 3"
    },
    "language_info": {
      "name": "python"
    }
  },
  "cells": [
    {
      "cell_type": "markdown",
      "metadata": {
        "id": "view-in-github",
        "colab_type": "text"
      },
      "source": [
        "<a href=\"https://colab.research.google.com/github/LuisaMariaMontoyaConde1994/ESTADISTICAII/blob/main/Trabajo_estadistica_AYCP.ipynb\" target=\"_parent\"><img src=\"https://colab.research.google.com/assets/colab-badge.svg\" alt=\"Open In Colab\"/></a>"
      ]
    },
    {
      "cell_type": "markdown",
      "source": [
        "Nombre: Ana Yiseth Cortes Parada"
      ],
      "metadata": {
        "id": "C_3k6kJuFy9F"
      }
    },
    {
      "cell_type": "markdown",
      "source": [
        "#Taller estadistica\n"
      ],
      "metadata": {
        "id": "4CwOSS_y_U6q"
      }
    },
    {
      "cell_type": "code",
      "source": [
        "import numpy as np\n",
        "import matplotlib.pyplot as plt\n",
        "from scipy.stats import binom\n",
        "from scipy.stats import poisson\n",
        "from scipy.stats import hypergeom\n",
        "from scipy.stats import geom\n",
        "import numpy as np\n",
        "import pandas as pd\n"
      ],
      "metadata": {
        "id": "eO7_kIzmDNN4"
      },
      "execution_count": null,
      "outputs": []
    },
    {
      "cell_type": "markdown",
      "source": [
        "###1. Clasifique las siguientes variables aleatorias como discretas o continuas:\n",
        "*   X: el número de accidentes automovilísticos que ocurren al año en Virginia. **Variable aleatoria discreta***\n",
        "* Y: el tiempo para jugar 18 hoyos de golf. **Variable Aleatoria continua***\n",
        "* M: la cantidad de leche que una vaca específica produce anualmente.**Variable Aleatoria continua***\n",
        "* N: el número de huevos que una gallina pone mensualmente. **Variable Aleatoria discreta***\n",
        "* P: el número de permisos para construcción que los funcionarios de unaciudad emiten cada mes. **Variable Aleatoria discreta***\n",
        "* Q: el peso del grano producido por acre. **Variable Aleatoria continua**"
      ],
      "metadata": {
        "id": "pDP5Xwo8_JmM"
      }
    },
    {
      "cell_type": "markdown",
      "source": [
        "###2. Considere la función de densidad\n",
        "$$f(x)= \\left\\{ \\begin{array}{lcc} k\\sqrt{x}, & 0<x<1 \\\\ \\\\ 0,  & en \\ otro\\  caso &  & \\end{array} \\right.$$\n",
        "*Evalúe k\n",
        "$$k\\sqrt{x} = \\int_{-\\infty}^{\\infty}f(x)dx$$\n",
        "$$\\int_{0}^{1}k\\sqrt{x}dx$$\n",
        "$$\\int_{0}^{1}k(x)^{\\frac{1}{2}}dx$$\n",
        "$$k\\int_{0}^{1}x^{\\frac{1}{2}}dx$$\n",
        "$$k(\\frac{x^{\\frac{3}{2}}}{\\frac{3}{2}})\\int_{0}^{1}$$\n",
        "$$(\\frac{2kx^{\\frac{3}{2}}}{3})\\int_{0}^{1}=(\\frac{2k(1)^{\\frac{3}{2}}}{3}) $$\n",
        "$$(\\frac{2k}{3})$$\n",
        "$$k=(\\frac{3}{2})$$\n",
        "*Calcule F(x) y utilice el resultado para evaluar = p(0.3<x<0.6)\n",
        "$$(0<x<1)$$\n",
        "$$\\int_{0}^{x}k(x)^{\\frac{1}{2}}dx$$\n",
        "$$\\int_{0}^{x}\\frac{3}{2}x^{\\frac{1}{2}}dx$$\n",
        "$$\\frac{3}{2}\\int_{0}^{x}x^{\\frac{1}{2}}dx$$\n",
        "$$\\frac{3}{2}(\\frac{x^{\\frac{3}{2}}}{\\frac{3}{2}})\\int_{0}^{x}$$\n",
        "$$\\frac{3}{2}(\\frac{2x^{\\frac{3}{2}}}{3})\\int_{0}^{x}= x^{\\frac{3}{2}}$$\n",
        "\n",
        "$$P(0.3<X<0.6)$$\n",
        "$$(0.6)^{\\frac{3}{2}}-(0.3)^{\\frac{3}{2}}=0.3004$$"
      ],
      "metadata": {
        "id": "HGEuxB3D_jDv"
      }
    },
    {
      "cell_type": "markdown",
      "source": [
        "###3. El Departamento de Energía (DE) asigna proyectos mediante licitación y, por lo general, estima lo que debería ser una licitación razonable. Sea b el estimado. El DE determinó que la función de densidad de la licitación ganadora (baja) es\n",
        "$$f(x)= \\left\\{ \\begin{array}{lcc} (\\frac{5}{8b}), & (\\frac{2}{5}b)< x < 2b \\\\ \\\\ 0, & en \\ otro\\  caso &  & \\end{array} \\right.$$\n",
        "\n",
        "* Demuestre que es una función de probabilidad\n",
        "* Halle el valor esperado y la varianza\n",
        "\n",
        "##Solucion\n",
        "$\\int_{-\\infty}^{∞}\\frac{5}{8b}db$\n",
        "\n",
        "$=\\frac{5}{8}[\\int\\frac{1}{b} ∫db]$\n",
        "\n",
        "$=\\frac{5}{8}[lnb]$\n",
        "\n",
        "$=\\frac{5}{8}[lnb]\\int_\\frac{2}{5b}^{2b}$\n",
        "\n",
        "$=\\frac{5}{8}[ln2b]-\\frac{5}{8}[ln\\frac{2}{5b}]$\n",
        "\n",
        "$=\\frac{5}{8}[ln2b]-[ln\\frac{2}{5b}]$\n",
        "\n",
        "$=\\frac{5}{8}[1.6094379124b]$\n",
        "\n",
        "$b=1.00$\n",
        "\n",
        "Si cumple"
      ],
      "metadata": {
        "id": "ulaLHDNB_vOG"
      }
    },
    {
      "cell_type": "markdown",
      "source": [
        "###4. Considere la función de densidad\n",
        "$$f(x)= \\left\\{ \\begin{array}{lcc} k\\sqrt x, & 0< x < 1 \\\\ \\\\ 0, & en \\ otro\\  caso &  & \\end{array} \\right.$$\n",
        "\n",
        "* Calcule F(x) y utilice el resultado para evaluar}\n",
        "$$P(0.3<x<0.6)$$\n",
        "\n",
        "#v\n"
      ],
      "metadata": {
        "id": "PkDQTHdVAJXo"
      }
    },
    {
      "cell_type": "markdown",
      "source": [
        "###5. Las mediciones en los sistemas científicos siempre están sujetas a variación, algunas veces más que otras. Hay muchas estructuras para los errores de medición y los estadísticos pasan mucho tiempo modelándolos. Suponga que el error de medición X de cierta cantidad física es determinado por la siguiente función de densidad:\n",
        "$$f(x)= \\left\\{ \\begin{array}{lcc} k(3-x^{2}), & -1< x <1 \\\\ \\\\ 0, & en \\ otro\\  caso &  & \\end{array} \\right.$$\n",
        "* Demuestre si es o no una función continua\n",
        "\n",
        "###**Solución**\n",
        "\n",
        "$\\int_{-\\infty}^{\\infty}f(x)dx$\n",
        "\n",
        "$\\mu=k\\int_{-1}^{1}(3-x^{2})dx=1$\n",
        "\n",
        "$\\mu=(3x-(\\frac{(x)^{2+1}}{2+1})\\int_{-1}^{1})=1$\n",
        "\n",
        "$\\mu=(3x- (\\frac{(x)^{3}}{3})\\int_{-1}^{1})=1$\n",
        "\n",
        "$\\mu=k(3x-(\\frac{(x)^{3}}{3})\\int_{-1}^{1})=1$\n",
        "\n",
        "$\\mu=k((3*1-(\\frac{(1)^{3}}{3})-(3*-1-(\\frac{(-1)^{3}}{3}))=1$\n",
        "\n",
        "$\\mu=k((3-(\\frac{(1)}{3})-(-3-(\\frac{(-1)}{3}))=1$\n",
        "\n",
        "$k[(\\frac{8}{3})-(-\\frac{8}{3})=1$\n",
        "\n",
        "$(\\frac{16}{3})k=1$\n",
        "\n",
        "$k=\\frac{3}{16}$\n",
        "\n",
        "$k=0.187$\n",
        "\n",
        "\n",
        "\n",
        "\n",
        "\n"
      ],
      "metadata": {
        "id": "-8ksoxrPARsW"
      }
    },
    {
      "cell_type": "markdown",
      "source": [
        "###6. Las impurezas en el lote del producto final de un proceso químico a menudo\n",
        "reflejan un grave problema. A partir de una cantidad considerable de datos\n",
        "recabados en la planta se sabe que la proporción Y de impurezas en un lote tiene\n",
        "una función de densidad dada por\n",
        "\n",
        "\n",
        "$$f(x)= \\left\\{ \\begin{array}{lcc} 10(1-y)^{9}, & 0\\leq y \\leq 1 \\\\ \\\\ 0, & en \\ otro\\  caso &  & \\end{array} \\right.$$\n",
        "* Demuestre si la función se distribuye como una función de densidad\n",
        "continua.\n",
        "###Solución\n",
        "\n",
        "$\\int_{-\\infty}^{\\infty}f(y)dy$\n",
        "\n",
        "$\\int_{0}^{1}(10(1-y)^{9})dy$\n",
        "\n",
        "Se realiza metodo de sustitución, tal que: $(1-y)=u$ y la integral se maneja en terminos de: $-du$\n",
        "\n",
        "$\\mu=-10\\int_{0}^{1}(u)^{9}du$\n",
        "\n",
        "$\\mu=(-10)(\\frac{(u)^{9+1}}{9+1})\\int_{0}^{1}$\n",
        "\n",
        "$\\mu=(-10)(\\frac{(u)^{10}}{10})\\int_{0}^{1}$\n",
        "\n",
        "$\\mu=(-u)^{10}\\int_{0}^{1}$\n",
        "\n",
        "$\\mu=-(1-y)^{10}-(-(1-y))^{10}\\int_{0}^{1}$\n",
        "\n",
        "$\\mu=-(1-1)^{10}-(-(1-0)^{10})$\n",
        "\n",
        "$\\mu=-(0)^{10}-(-(1)^{10})$\n",
        "\n",
        "$\\mu=(0^{10})-(-(1)^{10})$\n",
        "\n",
        "$\\mu=(0)-(-1)$\n",
        "\n",
        "$\\mu=1$\n"
      ],
      "metadata": {
        "id": "KaGg5ktcAlAv"
      }
    },
    {
      "cell_type": "markdown",
      "source": [
        "##7. Sea X una variable aleatoria con la siguiente distribución de probabilidad\n",
        "\n"
      ],
      "metadata": {
        "id": "3OMxrQhbAvt-"
      }
    },
    {
      "cell_type": "code",
      "source": [
        "TABLA = pd.DataFrame({\"X\": [-2,2,5],\n",
        "                   \"f(x)\": [0.3, 0.2, 0.5],})\n",
        "TABLA"
      ],
      "metadata": {
        "colab": {
          "base_uri": "https://localhost:8080/",
          "height": 143
        },
        "id": "264M_GkxWqwp",
        "outputId": "1dca4016-10c8-4156-bf20-c3098f02986e"
      },
      "execution_count": null,
      "outputs": [
        {
          "output_type": "execute_result",
          "data": {
            "text/plain": [
              "   X  f(x)\n",
              "0 -2   0.3\n",
              "1  2   0.2\n",
              "2  5   0.5"
            ],
            "text/html": [
              "\n",
              "  <div id=\"df-4fc7a0d0-6e93-47b9-a732-9d6ceac4969b\" class=\"colab-df-container\">\n",
              "    <div>\n",
              "<style scoped>\n",
              "    .dataframe tbody tr th:only-of-type {\n",
              "        vertical-align: middle;\n",
              "    }\n",
              "\n",
              "    .dataframe tbody tr th {\n",
              "        vertical-align: top;\n",
              "    }\n",
              "\n",
              "    .dataframe thead th {\n",
              "        text-align: right;\n",
              "    }\n",
              "</style>\n",
              "<table border=\"1\" class=\"dataframe\">\n",
              "  <thead>\n",
              "    <tr style=\"text-align: right;\">\n",
              "      <th></th>\n",
              "      <th>X</th>\n",
              "      <th>f(x)</th>\n",
              "    </tr>\n",
              "  </thead>\n",
              "  <tbody>\n",
              "    <tr>\n",
              "      <th>0</th>\n",
              "      <td>-2</td>\n",
              "      <td>0.3</td>\n",
              "    </tr>\n",
              "    <tr>\n",
              "      <th>1</th>\n",
              "      <td>2</td>\n",
              "      <td>0.2</td>\n",
              "    </tr>\n",
              "    <tr>\n",
              "      <th>2</th>\n",
              "      <td>5</td>\n",
              "      <td>0.5</td>\n",
              "    </tr>\n",
              "  </tbody>\n",
              "</table>\n",
              "</div>\n",
              "    <div class=\"colab-df-buttons\">\n",
              "\n",
              "  <div class=\"colab-df-container\">\n",
              "    <button class=\"colab-df-convert\" onclick=\"convertToInteractive('df-4fc7a0d0-6e93-47b9-a732-9d6ceac4969b')\"\n",
              "            title=\"Convert this dataframe to an interactive table.\"\n",
              "            style=\"display:none;\">\n",
              "\n",
              "  <svg xmlns=\"http://www.w3.org/2000/svg\" height=\"24px\" viewBox=\"0 -960 960 960\">\n",
              "    <path d=\"M120-120v-720h720v720H120Zm60-500h600v-160H180v160Zm220 220h160v-160H400v160Zm0 220h160v-160H400v160ZM180-400h160v-160H180v160Zm440 0h160v-160H620v160ZM180-180h160v-160H180v160Zm440 0h160v-160H620v160Z\"/>\n",
              "  </svg>\n",
              "    </button>\n",
              "\n",
              "  <style>\n",
              "    .colab-df-container {\n",
              "      display:flex;\n",
              "      gap: 12px;\n",
              "    }\n",
              "\n",
              "    .colab-df-convert {\n",
              "      background-color: #E8F0FE;\n",
              "      border: none;\n",
              "      border-radius: 50%;\n",
              "      cursor: pointer;\n",
              "      display: none;\n",
              "      fill: #1967D2;\n",
              "      height: 32px;\n",
              "      padding: 0 0 0 0;\n",
              "      width: 32px;\n",
              "    }\n",
              "\n",
              "    .colab-df-convert:hover {\n",
              "      background-color: #E2EBFA;\n",
              "      box-shadow: 0px 1px 2px rgba(60, 64, 67, 0.3), 0px 1px 3px 1px rgba(60, 64, 67, 0.15);\n",
              "      fill: #174EA6;\n",
              "    }\n",
              "\n",
              "    .colab-df-buttons div {\n",
              "      margin-bottom: 4px;\n",
              "    }\n",
              "\n",
              "    [theme=dark] .colab-df-convert {\n",
              "      background-color: #3B4455;\n",
              "      fill: #D2E3FC;\n",
              "    }\n",
              "\n",
              "    [theme=dark] .colab-df-convert:hover {\n",
              "      background-color: #434B5C;\n",
              "      box-shadow: 0px 1px 3px 1px rgba(0, 0, 0, 0.15);\n",
              "      filter: drop-shadow(0px 1px 2px rgba(0, 0, 0, 0.3));\n",
              "      fill: #FFFFFF;\n",
              "    }\n",
              "  </style>\n",
              "\n",
              "    <script>\n",
              "      const buttonEl =\n",
              "        document.querySelector('#df-4fc7a0d0-6e93-47b9-a732-9d6ceac4969b button.colab-df-convert');\n",
              "      buttonEl.style.display =\n",
              "        google.colab.kernel.accessAllowed ? 'block' : 'none';\n",
              "\n",
              "      async function convertToInteractive(key) {\n",
              "        const element = document.querySelector('#df-4fc7a0d0-6e93-47b9-a732-9d6ceac4969b');\n",
              "        const dataTable =\n",
              "          await google.colab.kernel.invokeFunction('convertToInteractive',\n",
              "                                                    [key], {});\n",
              "        if (!dataTable) return;\n",
              "\n",
              "        const docLinkHtml = 'Like what you see? Visit the ' +\n",
              "          '<a target=\"_blank\" href=https://colab.research.google.com/notebooks/data_table.ipynb>data table notebook</a>'\n",
              "          + ' to learn more about interactive tables.';\n",
              "        element.innerHTML = '';\n",
              "        dataTable['output_type'] = 'display_data';\n",
              "        await google.colab.output.renderOutput(dataTable, element);\n",
              "        const docLink = document.createElement('div');\n",
              "        docLink.innerHTML = docLinkHtml;\n",
              "        element.appendChild(docLink);\n",
              "      }\n",
              "    </script>\n",
              "  </div>\n",
              "\n",
              "\n",
              "<div id=\"df-ffa9d7f2-01ae-4ee5-97d5-cc0131171fba\">\n",
              "  <button class=\"colab-df-quickchart\" onclick=\"quickchart('df-ffa9d7f2-01ae-4ee5-97d5-cc0131171fba')\"\n",
              "            title=\"Suggest charts.\"\n",
              "            style=\"display:none;\">\n",
              "\n",
              "<svg xmlns=\"http://www.w3.org/2000/svg\" height=\"24px\"viewBox=\"0 0 24 24\"\n",
              "     width=\"24px\">\n",
              "    <g>\n",
              "        <path d=\"M19 3H5c-1.1 0-2 .9-2 2v14c0 1.1.9 2 2 2h14c1.1 0 2-.9 2-2V5c0-1.1-.9-2-2-2zM9 17H7v-7h2v7zm4 0h-2V7h2v10zm4 0h-2v-4h2v4z\"/>\n",
              "    </g>\n",
              "</svg>\n",
              "  </button>\n",
              "\n",
              "<style>\n",
              "  .colab-df-quickchart {\n",
              "      --bg-color: #E8F0FE;\n",
              "      --fill-color: #1967D2;\n",
              "      --hover-bg-color: #E2EBFA;\n",
              "      --hover-fill-color: #174EA6;\n",
              "      --disabled-fill-color: #AAA;\n",
              "      --disabled-bg-color: #DDD;\n",
              "  }\n",
              "\n",
              "  [theme=dark] .colab-df-quickchart {\n",
              "      --bg-color: #3B4455;\n",
              "      --fill-color: #D2E3FC;\n",
              "      --hover-bg-color: #434B5C;\n",
              "      --hover-fill-color: #FFFFFF;\n",
              "      --disabled-bg-color: #3B4455;\n",
              "      --disabled-fill-color: #666;\n",
              "  }\n",
              "\n",
              "  .colab-df-quickchart {\n",
              "    background-color: var(--bg-color);\n",
              "    border: none;\n",
              "    border-radius: 50%;\n",
              "    cursor: pointer;\n",
              "    display: none;\n",
              "    fill: var(--fill-color);\n",
              "    height: 32px;\n",
              "    padding: 0;\n",
              "    width: 32px;\n",
              "  }\n",
              "\n",
              "  .colab-df-quickchart:hover {\n",
              "    background-color: var(--hover-bg-color);\n",
              "    box-shadow: 0 1px 2px rgba(60, 64, 67, 0.3), 0 1px 3px 1px rgba(60, 64, 67, 0.15);\n",
              "    fill: var(--button-hover-fill-color);\n",
              "  }\n",
              "\n",
              "  .colab-df-quickchart-complete:disabled,\n",
              "  .colab-df-quickchart-complete:disabled:hover {\n",
              "    background-color: var(--disabled-bg-color);\n",
              "    fill: var(--disabled-fill-color);\n",
              "    box-shadow: none;\n",
              "  }\n",
              "\n",
              "  .colab-df-spinner {\n",
              "    border: 2px solid var(--fill-color);\n",
              "    border-color: transparent;\n",
              "    border-bottom-color: var(--fill-color);\n",
              "    animation:\n",
              "      spin 1s steps(1) infinite;\n",
              "  }\n",
              "\n",
              "  @keyframes spin {\n",
              "    0% {\n",
              "      border-color: transparent;\n",
              "      border-bottom-color: var(--fill-color);\n",
              "      border-left-color: var(--fill-color);\n",
              "    }\n",
              "    20% {\n",
              "      border-color: transparent;\n",
              "      border-left-color: var(--fill-color);\n",
              "      border-top-color: var(--fill-color);\n",
              "    }\n",
              "    30% {\n",
              "      border-color: transparent;\n",
              "      border-left-color: var(--fill-color);\n",
              "      border-top-color: var(--fill-color);\n",
              "      border-right-color: var(--fill-color);\n",
              "    }\n",
              "    40% {\n",
              "      border-color: transparent;\n",
              "      border-right-color: var(--fill-color);\n",
              "      border-top-color: var(--fill-color);\n",
              "    }\n",
              "    60% {\n",
              "      border-color: transparent;\n",
              "      border-right-color: var(--fill-color);\n",
              "    }\n",
              "    80% {\n",
              "      border-color: transparent;\n",
              "      border-right-color: var(--fill-color);\n",
              "      border-bottom-color: var(--fill-color);\n",
              "    }\n",
              "    90% {\n",
              "      border-color: transparent;\n",
              "      border-bottom-color: var(--fill-color);\n",
              "    }\n",
              "  }\n",
              "</style>\n",
              "\n",
              "  <script>\n",
              "    async function quickchart(key) {\n",
              "      const quickchartButtonEl =\n",
              "        document.querySelector('#' + key + ' button');\n",
              "      quickchartButtonEl.disabled = true;  // To prevent multiple clicks.\n",
              "      quickchartButtonEl.classList.add('colab-df-spinner');\n",
              "      try {\n",
              "        const charts = await google.colab.kernel.invokeFunction(\n",
              "            'suggestCharts', [key], {});\n",
              "      } catch (error) {\n",
              "        console.error('Error during call to suggestCharts:', error);\n",
              "      }\n",
              "      quickchartButtonEl.classList.remove('colab-df-spinner');\n",
              "      quickchartButtonEl.classList.add('colab-df-quickchart-complete');\n",
              "    }\n",
              "    (() => {\n",
              "      let quickchartButtonEl =\n",
              "        document.querySelector('#df-ffa9d7f2-01ae-4ee5-97d5-cc0131171fba button');\n",
              "      quickchartButtonEl.style.display =\n",
              "        google.colab.kernel.accessAllowed ? 'block' : 'none';\n",
              "    })();\n",
              "  </script>\n",
              "</div>\n",
              "    </div>\n",
              "  </div>\n"
            ]
          },
          "metadata": {},
          "execution_count": 31
        }
      ]
    },
    {
      "cell_type": "markdown",
      "source": [
        "* Calcule la desviación estándar de X\n",
        "\n",
        "###Valor esperado\n",
        "\n",
        "$$\\varepsilon(x) = \\mu = \\displaystyle\\sum_{x} xf(x) = $$\n",
        "$$\\mu = (-2)(0.3)+(3)(0.2)+(5)(0.5)$$\n",
        "$$\\mu= -0.6 + 0.6 + 2.5 $$\n",
        "$$\\mu=2.5$$\n",
        "\n",
        "###Varianza\n",
        "\n",
        "$$\\sigma^2=E[(x-\\mu)^{2}] = \\displaystyle\\sum_{x} (x-\\mu)^{2} f(x) = $$\n",
        "$$\\sigma^{2}=(-2-2.5)^2(0.3)+(3-2.5)^2(0.2)+(5-2.5)^2(0.5)$$\n",
        "$$\\sigma^{2}=(6.075)+(0.05)+(3.125)$$\n",
        "$$\\sigma^{2}=9.25$$\n",
        "\n",
        "###Desviación Estandar\n",
        "\n",
        "$$\\sqrt{\\sigma^{2}}=\\sqrt{9.25}$$\n",
        "$$=3.04$$"
      ],
      "metadata": {
        "id": "mpHlqc8SaIfM"
      }
    },
    {
      "cell_type": "markdown",
      "source": [
        "###8. La utilidad de un distribuidor, en unidades de $5000, por un automóvil nuevo es una variable aleatoria X que tiene la siguiente función de densidad\n",
        "\n",
        "$f(x)= \\left\\{ \\begin{array}{lcc} 2(1-x), & 0\\leq x \\leq1 \\\\ \\\\ 0, & en \\ otro\\  caso &  & \\end{array} \\right.$\n",
        "\n",
        "$$\\mu(x)= E[x] = \\int_{-\\infty}^{\\infty} xf(x)dx =\\int_{0}^{1} x[2(1-x)]dx $$$$=\\int_{0}^{1} 2x - 2x^{2} dx$$ $$ = 2\\int xdx - 2\\int x^{2} dx$$$$ = 2[\\frac{x^2}{2}]-2[\\frac{x^{3}}{3}]$$$$ = x^{2} \\int_{0}^{1} - \\frac{2x^{3}}{3} \\int_{0}^{1}$$$$ = [(1)^{2} - (0)^{2}] - [\\frac{2(1)^{3}}{3} - \\frac{2(0)^{3}}{3}]$$$$ = [1]-[\\frac{2}{3}]$$$$ \\mu = \\frac{1}{3}$$\n",
        "\n",
        "$$\\sigma^{2}= E [(x-\\mu)^{2}]=\\int_{0}^{1}(x-\\frac{1}{3})^{2}[2(1-x)]dx$$$$=\\int_{0}^{1}[x^{2}-2(\\frac{1}{3})(x)+(\\frac{1}{3})^{2}][(2-2x)]dx$$$$=\\int_{0}^{1}[x^{2}-(\\frac{2x}{3})+(\\frac{1}{9})][(2-2x)]dx$$$$=\\int_{0}^{1}[-2x^{3}+\\frac{10x^{2}}{3}-\\frac{14x}{9}+\\frac{2}{9}]dx$$$$=-2\\int x^{3}dx+\\frac{10}{3}\\int x^{2}dx-\\frac{14}{9} \\int xdx +\\frac{2}{9} \\int dx$$$$=-2[\\frac{x^{4}}{4}]+\\frac{10}{3}[\\frac{x^{3}}{3}]-\\frac{14}{9}[\\frac{x^{2}}{2}]+\\frac{2}{9}[x]$$$$=\\frac{-x^{4}}{2}+\\frac{10x^{3}}{9}-\\frac{7x^{2}}{9}+\\frac{2x}{9}$$$$=\\frac{-x^{4}}{2}\\int_{0}^{1}+\\frac{10x^{3}}{9}\\int_{0}^{1}-\\frac{7x^{2}}{9}\\int_{0}^{1}+\\frac{2x}{9}\\int_{0}^{1}$$$$=[\\frac{-(1)^{4}}{2}-\\frac{-(0)^{4}}{2}]+[\\frac{10(1)^{3}}{9}-\\frac{10(0)^{3}}{9}]- [\\frac{7(1)^{2}}{9}-\\frac{7(0)^{2}}{9}]+[\\frac{2(1)}{9}-\\frac{2(0)}{9}]$$$$[\\frac{-1}{2}]+[\\frac{10}{9}]-[\\frac{7}{9}]+[\\frac{2}{9}]$$$$=\\frac{1}{18}$$RTA: La varianza del distribuidor es igual al: $$\\frac{1}{18}$$\n",
        "\n",
        "\n",
        "\n",
        "\n"
      ],
      "metadata": {
        "id": "CohCdQcoA3Ye"
      }
    },
    {
      "cell_type": "markdown",
      "source": [
        "###9. Mediante un conjunto de datos, y por la amplia investigación, se sabe que la cantidad de tiempo que cierto empleado de una empresa llega tarde a trabajar,medido en segundos, es una variable aleatoria X con la siguiente función de densidad\n",
        "\n",
        "En otras palabras, él no sólo llega ligeramente retrasado a veces, sino que también\n",
        "puede llegar temprano a trabajar.\n",
        "* Calcule el valor esperado del tiempo en segundos que llega tarde.\n",
        "* ¿Cuál es la desviación estándar del tiempo en que llega tarde?\n",
        "\n",
        "$$E(x^2)= \\frac{3}{(4)(50^3}$$\n",
        "$$\\int_{-50}^{50}(50^2x^2-x^4)dx$$\n",
        "$$=\\frac{3}{(4)(50^3)}(\\frac{50^2x^3}{3}-\\frac{x^5}{5})\\int_{-50}^{50}$$\n",
        "$$=\\frac{3}{(4)(50^3)}[\\frac{50^2x^3}{3}-\\frac{x^5}{5}]$$\n",
        "$$-(\\frac{50^2(-50^3)}{3}-\\frac{(50)^5}{5})$$\n",
        "$$=\\frac{3}{(4)(50^3)}(41666666.67)$$\n",
        "$$-(-41666666.67)$$\n",
        "$$=\\frac{3}{(4)(50^3)}(83333333.33)=500$$\n",
        "Determine la varianza y la desviación estándar.\n",
        "$$\\sigma^2=E(x^2)-\\mu^2=500-\\sigma^2=500$$\n",
        "$$\\sigma=\\sqrt{\\sigma^2}=\\sigma=\\sqrt{500}=22.36$$\n"
      ],
      "metadata": {
        "id": "nFKjPSwAA7KQ"
      }
    },
    {
      "cell_type": "markdown",
      "source": [
        "###10. Se entregan dos altavoces idénticos a 12 personas y se les pide que los escuchen para determinar si hay alguna diferencia entre ellos. Suponga que sus respuestas son simplemente conjeturas. Calcule la probabilidad de que tres personas afirmen haber detectado una diferencia entre los dos altavoces.\n",
        "$$n=12;p=0.5; q= 1-(0.5)= 0.5;k=3$$\n",
        "$$P(X=3)= \\binom{12}{3}(0.50)^3(1-0.50)^{12-3}$$\n",
        "$$P(X=3)= (\\frac{12!}{(3!)(9!)})(0.50)^3(0.50)^9$$\n",
        "$$=0.0537(100) = 5,37\\%$$"
      ],
      "metadata": {
        "id": "ScmkTxPUBJsK"
      }
    },
    {
      "cell_type": "markdown",
      "source": [
        "###11. Sea X una variable aleatoria discreta con función de densidad dada por:\n",
        "\n",
        "\n",
        "* Halle el valor esperado\n",
        "* Hallar la varianza y la desviación estándar\n",
        "\n"
      ],
      "metadata": {
        "id": "1gQ1dut1BQHw"
      }
    },
    {
      "cell_type": "code",
      "source": [
        "TABLA = pd.DataFrame({\"X\": [1,2,3,4,5,6],\n",
        "                   \"P(X=x)\": [0.225, 0.2, 0.125, 0.125, 0.15,0.175],})\n",
        "TABLA"
      ],
      "metadata": {
        "colab": {
          "base_uri": "https://localhost:8080/",
          "height": 238
        },
        "id": "c52zbJ7Hw9Q4",
        "outputId": "2beccb73-f462-4f3b-88ca-50b0214b402b"
      },
      "execution_count": null,
      "outputs": [
        {
          "output_type": "execute_result",
          "data": {
            "text/plain": [
              "   X  P(X=x)\n",
              "0  1   0.225\n",
              "1  2   0.200\n",
              "2  3   0.125\n",
              "3  4   0.125\n",
              "4  5   0.150\n",
              "5  6   0.175"
            ],
            "text/html": [
              "\n",
              "  <div id=\"df-ade55a20-6239-43ac-86f3-aff69a9fd188\" class=\"colab-df-container\">\n",
              "    <div>\n",
              "<style scoped>\n",
              "    .dataframe tbody tr th:only-of-type {\n",
              "        vertical-align: middle;\n",
              "    }\n",
              "\n",
              "    .dataframe tbody tr th {\n",
              "        vertical-align: top;\n",
              "    }\n",
              "\n",
              "    .dataframe thead th {\n",
              "        text-align: right;\n",
              "    }\n",
              "</style>\n",
              "<table border=\"1\" class=\"dataframe\">\n",
              "  <thead>\n",
              "    <tr style=\"text-align: right;\">\n",
              "      <th></th>\n",
              "      <th>X</th>\n",
              "      <th>P(X=x)</th>\n",
              "    </tr>\n",
              "  </thead>\n",
              "  <tbody>\n",
              "    <tr>\n",
              "      <th>0</th>\n",
              "      <td>1</td>\n",
              "      <td>0.225</td>\n",
              "    </tr>\n",
              "    <tr>\n",
              "      <th>1</th>\n",
              "      <td>2</td>\n",
              "      <td>0.200</td>\n",
              "    </tr>\n",
              "    <tr>\n",
              "      <th>2</th>\n",
              "      <td>3</td>\n",
              "      <td>0.125</td>\n",
              "    </tr>\n",
              "    <tr>\n",
              "      <th>3</th>\n",
              "      <td>4</td>\n",
              "      <td>0.125</td>\n",
              "    </tr>\n",
              "    <tr>\n",
              "      <th>4</th>\n",
              "      <td>5</td>\n",
              "      <td>0.150</td>\n",
              "    </tr>\n",
              "    <tr>\n",
              "      <th>5</th>\n",
              "      <td>6</td>\n",
              "      <td>0.175</td>\n",
              "    </tr>\n",
              "  </tbody>\n",
              "</table>\n",
              "</div>\n",
              "    <div class=\"colab-df-buttons\">\n",
              "\n",
              "  <div class=\"colab-df-container\">\n",
              "    <button class=\"colab-df-convert\" onclick=\"convertToInteractive('df-ade55a20-6239-43ac-86f3-aff69a9fd188')\"\n",
              "            title=\"Convert this dataframe to an interactive table.\"\n",
              "            style=\"display:none;\">\n",
              "\n",
              "  <svg xmlns=\"http://www.w3.org/2000/svg\" height=\"24px\" viewBox=\"0 -960 960 960\">\n",
              "    <path d=\"M120-120v-720h720v720H120Zm60-500h600v-160H180v160Zm220 220h160v-160H400v160Zm0 220h160v-160H400v160ZM180-400h160v-160H180v160Zm440 0h160v-160H620v160ZM180-180h160v-160H180v160Zm440 0h160v-160H620v160Z\"/>\n",
              "  </svg>\n",
              "    </button>\n",
              "\n",
              "  <style>\n",
              "    .colab-df-container {\n",
              "      display:flex;\n",
              "      gap: 12px;\n",
              "    }\n",
              "\n",
              "    .colab-df-convert {\n",
              "      background-color: #E8F0FE;\n",
              "      border: none;\n",
              "      border-radius: 50%;\n",
              "      cursor: pointer;\n",
              "      display: none;\n",
              "      fill: #1967D2;\n",
              "      height: 32px;\n",
              "      padding: 0 0 0 0;\n",
              "      width: 32px;\n",
              "    }\n",
              "\n",
              "    .colab-df-convert:hover {\n",
              "      background-color: #E2EBFA;\n",
              "      box-shadow: 0px 1px 2px rgba(60, 64, 67, 0.3), 0px 1px 3px 1px rgba(60, 64, 67, 0.15);\n",
              "      fill: #174EA6;\n",
              "    }\n",
              "\n",
              "    .colab-df-buttons div {\n",
              "      margin-bottom: 4px;\n",
              "    }\n",
              "\n",
              "    [theme=dark] .colab-df-convert {\n",
              "      background-color: #3B4455;\n",
              "      fill: #D2E3FC;\n",
              "    }\n",
              "\n",
              "    [theme=dark] .colab-df-convert:hover {\n",
              "      background-color: #434B5C;\n",
              "      box-shadow: 0px 1px 3px 1px rgba(0, 0, 0, 0.15);\n",
              "      filter: drop-shadow(0px 1px 2px rgba(0, 0, 0, 0.3));\n",
              "      fill: #FFFFFF;\n",
              "    }\n",
              "  </style>\n",
              "\n",
              "    <script>\n",
              "      const buttonEl =\n",
              "        document.querySelector('#df-ade55a20-6239-43ac-86f3-aff69a9fd188 button.colab-df-convert');\n",
              "      buttonEl.style.display =\n",
              "        google.colab.kernel.accessAllowed ? 'block' : 'none';\n",
              "\n",
              "      async function convertToInteractive(key) {\n",
              "        const element = document.querySelector('#df-ade55a20-6239-43ac-86f3-aff69a9fd188');\n",
              "        const dataTable =\n",
              "          await google.colab.kernel.invokeFunction('convertToInteractive',\n",
              "                                                    [key], {});\n",
              "        if (!dataTable) return;\n",
              "\n",
              "        const docLinkHtml = 'Like what you see? Visit the ' +\n",
              "          '<a target=\"_blank\" href=https://colab.research.google.com/notebooks/data_table.ipynb>data table notebook</a>'\n",
              "          + ' to learn more about interactive tables.';\n",
              "        element.innerHTML = '';\n",
              "        dataTable['output_type'] = 'display_data';\n",
              "        await google.colab.output.renderOutput(dataTable, element);\n",
              "        const docLink = document.createElement('div');\n",
              "        docLink.innerHTML = docLinkHtml;\n",
              "        element.appendChild(docLink);\n",
              "      }\n",
              "    </script>\n",
              "  </div>\n",
              "\n",
              "\n",
              "<div id=\"df-cdfb4d4e-3dd2-483c-a821-066a58d1bc04\">\n",
              "  <button class=\"colab-df-quickchart\" onclick=\"quickchart('df-cdfb4d4e-3dd2-483c-a821-066a58d1bc04')\"\n",
              "            title=\"Suggest charts.\"\n",
              "            style=\"display:none;\">\n",
              "\n",
              "<svg xmlns=\"http://www.w3.org/2000/svg\" height=\"24px\"viewBox=\"0 0 24 24\"\n",
              "     width=\"24px\">\n",
              "    <g>\n",
              "        <path d=\"M19 3H5c-1.1 0-2 .9-2 2v14c0 1.1.9 2 2 2h14c1.1 0 2-.9 2-2V5c0-1.1-.9-2-2-2zM9 17H7v-7h2v7zm4 0h-2V7h2v10zm4 0h-2v-4h2v4z\"/>\n",
              "    </g>\n",
              "</svg>\n",
              "  </button>\n",
              "\n",
              "<style>\n",
              "  .colab-df-quickchart {\n",
              "      --bg-color: #E8F0FE;\n",
              "      --fill-color: #1967D2;\n",
              "      --hover-bg-color: #E2EBFA;\n",
              "      --hover-fill-color: #174EA6;\n",
              "      --disabled-fill-color: #AAA;\n",
              "      --disabled-bg-color: #DDD;\n",
              "  }\n",
              "\n",
              "  [theme=dark] .colab-df-quickchart {\n",
              "      --bg-color: #3B4455;\n",
              "      --fill-color: #D2E3FC;\n",
              "      --hover-bg-color: #434B5C;\n",
              "      --hover-fill-color: #FFFFFF;\n",
              "      --disabled-bg-color: #3B4455;\n",
              "      --disabled-fill-color: #666;\n",
              "  }\n",
              "\n",
              "  .colab-df-quickchart {\n",
              "    background-color: var(--bg-color);\n",
              "    border: none;\n",
              "    border-radius: 50%;\n",
              "    cursor: pointer;\n",
              "    display: none;\n",
              "    fill: var(--fill-color);\n",
              "    height: 32px;\n",
              "    padding: 0;\n",
              "    width: 32px;\n",
              "  }\n",
              "\n",
              "  .colab-df-quickchart:hover {\n",
              "    background-color: var(--hover-bg-color);\n",
              "    box-shadow: 0 1px 2px rgba(60, 64, 67, 0.3), 0 1px 3px 1px rgba(60, 64, 67, 0.15);\n",
              "    fill: var(--button-hover-fill-color);\n",
              "  }\n",
              "\n",
              "  .colab-df-quickchart-complete:disabled,\n",
              "  .colab-df-quickchart-complete:disabled:hover {\n",
              "    background-color: var(--disabled-bg-color);\n",
              "    fill: var(--disabled-fill-color);\n",
              "    box-shadow: none;\n",
              "  }\n",
              "\n",
              "  .colab-df-spinner {\n",
              "    border: 2px solid var(--fill-color);\n",
              "    border-color: transparent;\n",
              "    border-bottom-color: var(--fill-color);\n",
              "    animation:\n",
              "      spin 1s steps(1) infinite;\n",
              "  }\n",
              "\n",
              "  @keyframes spin {\n",
              "    0% {\n",
              "      border-color: transparent;\n",
              "      border-bottom-color: var(--fill-color);\n",
              "      border-left-color: var(--fill-color);\n",
              "    }\n",
              "    20% {\n",
              "      border-color: transparent;\n",
              "      border-left-color: var(--fill-color);\n",
              "      border-top-color: var(--fill-color);\n",
              "    }\n",
              "    30% {\n",
              "      border-color: transparent;\n",
              "      border-left-color: var(--fill-color);\n",
              "      border-top-color: var(--fill-color);\n",
              "      border-right-color: var(--fill-color);\n",
              "    }\n",
              "    40% {\n",
              "      border-color: transparent;\n",
              "      border-right-color: var(--fill-color);\n",
              "      border-top-color: var(--fill-color);\n",
              "    }\n",
              "    60% {\n",
              "      border-color: transparent;\n",
              "      border-right-color: var(--fill-color);\n",
              "    }\n",
              "    80% {\n",
              "      border-color: transparent;\n",
              "      border-right-color: var(--fill-color);\n",
              "      border-bottom-color: var(--fill-color);\n",
              "    }\n",
              "    90% {\n",
              "      border-color: transparent;\n",
              "      border-bottom-color: var(--fill-color);\n",
              "    }\n",
              "  }\n",
              "</style>\n",
              "\n",
              "  <script>\n",
              "    async function quickchart(key) {\n",
              "      const quickchartButtonEl =\n",
              "        document.querySelector('#' + key + ' button');\n",
              "      quickchartButtonEl.disabled = true;  // To prevent multiple clicks.\n",
              "      quickchartButtonEl.classList.add('colab-df-spinner');\n",
              "      try {\n",
              "        const charts = await google.colab.kernel.invokeFunction(\n",
              "            'suggestCharts', [key], {});\n",
              "      } catch (error) {\n",
              "        console.error('Error during call to suggestCharts:', error);\n",
              "      }\n",
              "      quickchartButtonEl.classList.remove('colab-df-spinner');\n",
              "      quickchartButtonEl.classList.add('colab-df-quickchart-complete');\n",
              "    }\n",
              "    (() => {\n",
              "      let quickchartButtonEl =\n",
              "        document.querySelector('#df-cdfb4d4e-3dd2-483c-a821-066a58d1bc04 button');\n",
              "      quickchartButtonEl.style.display =\n",
              "        google.colab.kernel.accessAllowed ? 'block' : 'none';\n",
              "    })();\n",
              "  </script>\n",
              "</div>\n",
              "    </div>\n",
              "  </div>\n"
            ]
          },
          "metadata": {},
          "execution_count": 22
        }
      ]
    },
    {
      "cell_type": "markdown",
      "source": [
        "# **Esperanza (valor esperado)**$$E(X)=\\mu=\\sum_{x}xf(x)$$"
      ],
      "metadata": {
        "id": "YI7dN_PPfR6a"
      }
    },
    {
      "cell_type": "code",
      "source": [
        "m=1*0.225+2*0.200+3*0.125+4*0.125+5*0.15+6*0.175\n",
        "print(m)"
      ],
      "metadata": {
        "colab": {
          "base_uri": "https://localhost:8080/"
        },
        "id": "F0aM5jnefTBy",
        "outputId": "5c07b928-9a50-46d3-fa57-8719affb0c0e"
      },
      "execution_count": null,
      "outputs": [
        {
          "output_type": "stream",
          "name": "stdout",
          "text": [
            "3.3\n"
          ]
        }
      ]
    },
    {
      "cell_type": "markdown",
      "source": [
        "#**Varianza**$$\\sigma^2=E[(X-\\mu)^2]$$"
      ],
      "metadata": {
        "id": "LoqPfiOGfcbK"
      }
    },
    {
      "cell_type": "code",
      "source": [
        "\n",
        "l=(1-m)**2*(0.225)+(2-m)**2*(0.200)+(3-m)**2*(0.125)+(4-m)**2*(0.125)+(5-m)**2*(0.15)+(6-m)**2*(0.175)\n",
        "print(l)\n",
        "\n"
      ],
      "metadata": {
        "colab": {
          "base_uri": "https://localhost:8080/"
        },
        "id": "K2Iy2dC4fdmi",
        "outputId": "25c4461c-270b-4433-963e-038e4257be5e"
      },
      "execution_count": null,
      "outputs": [
        {
          "output_type": "stream",
          "name": "stdout",
          "text": [
            "3.3099999999999996\n"
          ]
        }
      ]
    },
    {
      "cell_type": "markdown",
      "source": [
        "#**Desviacion Estandar**$$\\sigma=\\sqrt{\\sigma^2}$$"
      ],
      "metadata": {
        "id": "lCUMDDIVfq_q"
      }
    },
    {
      "cell_type": "code",
      "source": [
        "d=l**0.5\n",
        "d"
      ],
      "metadata": {
        "colab": {
          "base_uri": "https://localhost:8080/"
        },
        "id": "MoMEp6SBfubk",
        "outputId": "6c98b00a-ef61-4e1f-b406-3f58a779a003"
      },
      "execution_count": null,
      "outputs": [
        {
          "output_type": "execute_result",
          "data": {
            "text/plain": [
              "1.8193405398660252"
            ]
          },
          "metadata": {},
          "execution_count": 30
        }
      ]
    },
    {
      "cell_type": "markdown",
      "source": [
        "###12. Suponga que el número de llamadas que entran a una central telefónica es de 30 por hora ¿Cúal es la probabilidad de que no se reciban llamadas en un periodo de 3 minutos?\n",
        "\n",
        "\n"
      ],
      "metadata": {
        "id": "bPF6AeurBUEN"
      }
    },
    {
      "cell_type": "code",
      "source": [
        "x=0\n",
        "t=0.05\n",
        "lamda=30\n",
        "prob=poisson.pmf(x,t,lamda)\n",
        "print(prob)"
      ],
      "metadata": {
        "colab": {
          "base_uri": "https://localhost:8080/"
        },
        "id": "BZ6HqqUM-aAU",
        "outputId": "d06e30f3-6bf1-4b7c-8eb3-94898eb2b4c0"
      },
      "execution_count": null,
      "outputs": [
        {
          "output_type": "stream",
          "name": "stdout",
          "text": [
            "0.0\n"
          ]
        }
      ]
    },
    {
      "cell_type": "markdown",
      "source": [
        "13. En un auditorio se encuentran $135$ estudiantes. La probabilidad de que uno de los\n",
        "estudiantes se encuentre hoy de cumpleaños es igual a $1$ de $365$ ¿Cuál es la\n",
        "probabilidad de que en el auditorio $dos$ personas cumplan años?\n",
        "\n",
        "\n",
        "*   $p=0.0027398$\n",
        "*   $q=1-0.0027398=0.25$\n",
        "*   $n=135$\n",
        "*   $x=2$\n",
        "\n",
        "$$P(x=2)=\\binom{135}{2}(0.0027398)^{2}(0.99727)^{15-2}$$\n",
        "$$P(x=2)=0.0471|$$"
      ],
      "metadata": {
        "id": "WkcvaP9iBaJK"
      }
    },
    {
      "cell_type": "markdown",
      "source": [
        "###14. En cierto distrito de la ciudad se establece que la causa de 75% de todos los robos es la necesidad de dinero para comprar drogas. Calcule la probabilidad de que entre los siguientes cinco casos de robo que se reporten en este distrito, a) exactamente 2 sean resultado de la necesidad de dinero para comprar drogas;\n",
        "$p=0.75$\n",
        "\n",
        "$q=1-0.75=0.25$\n",
        "\n",
        "$n=5$\n",
        "\n",
        "$x=2$\n",
        "\n",
        "$p(X=2)=\\binom{5}{2}(0.75)^{2}(0.25)^{5-2}$\n",
        "\n",
        "$p(X=2)=0.087$"
      ],
      "metadata": {
        "id": "aVp5ORGlBiK8"
      }
    },
    {
      "cell_type": "markdown",
      "source": [
        "###15. Una ciudad vecina considera entablar una demanda de anexión en contra de una subdivisión del condado de 1200 residencias. Si los ocupantes de la mitad de las residencias objetan la anexión, ¿cuál es la probabilidad de que en una muestra aleatoria de 10 residencias al menos 3 estén a favor de la anexión?"
      ],
      "metadata": {
        "id": "n-mT_ezRBp-6"
      }
    },
    {
      "cell_type": "code",
      "source": [
        "n=10\n",
        "p=0.5\n",
        "x=3\n",
        "prob_1=1-binom.cdf(x, n, p)\n",
        "print(prob_1)"
      ],
      "metadata": {
        "colab": {
          "base_uri": "https://localhost:8080/"
        },
        "id": "UyOzHJhoF0dv",
        "outputId": "6b691f28-e319-4c61-9759-28aba73177a0"
      },
      "execution_count": null,
      "outputs": [
        {
          "output_type": "stream",
          "name": "stdout",
          "text": [
            "0.828125\n"
          ]
        }
      ]
    },
    {
      "cell_type": "markdown",
      "source": [
        "La probabilidad de que en una muestra aleatoria de $10$ residencias al menos $3$ estén a favor de la anexión es de $82.2\\%$ aproximadamente."
      ],
      "metadata": {
        "id": "-8NvViVrJFEa"
      }
    },
    {
      "cell_type": "markdown",
      "source": [
        "###16. La probabilidad de que una persona que estudia la carrera de piloto privado apruebe el examen escrito para obtener la licencia es de 0.7. Calcule la probabilidad de que cierto estudiante apruebe el examen en el tercer intento\n",
        "$$P(X=3)=(0.7)(0.3)^{3-1}$$  $$(0.7)(0.9)=0.063*100$$ $$\\approx6\\%$$*La probabilidad de que el estudiante aprube el examen en el tercer intento es de aproximadamente 6\\%*"
      ],
      "metadata": {
        "id": "-pMOAZDSCBl2"
      }
    },
    {
      "cell_type": "markdown",
      "source": [
        "**17**. Los cambios en los procedimientos de los aeropuertos requieren una planeación considerable. Los índices de llegadas de los aviones son factores importantes que deben tomarse en cuenta. Suponga que los aviones pequeños llegan a cierto aeropuerto, de acuerdo con un proceso de Poisson, con una frecuencia de 6 por hora. De esta manera, el parámetro de Poisson para las llegadas en un periodo de horas es μ = 6t.\n",
        "* ¿Cuál es la probabilidad de que lleguen exactamente $4$ aviones pequeños durante un periodo de una hora?\n"
      ],
      "metadata": {
        "id": "nLzw1YmFCG69"
      }
    },
    {
      "cell_type": "code",
      "source": [
        "x=4\n",
        "lamda=6\n",
        "prob=poisson.pmf(x, lamda)\n",
        "print(prob)"
      ],
      "metadata": {
        "colab": {
          "base_uri": "https://localhost:8080/"
        },
        "id": "qWNND33cC59f",
        "outputId": "0f9cabcd-fdd1-46cf-9c46-725bb0bdc5ab"
      },
      "execution_count": null,
      "outputs": [
        {
          "output_type": "stream",
          "name": "stdout",
          "text": [
            "0.13385261753998332\n"
          ]
        }
      ]
    },
    {
      "cell_type": "markdown",
      "source": [
        "La probabilidad de que lleguen exactamente $4$ aviones pequeños durante un periodo de una hora es de $13.3\\%$ aproximadamente."
      ],
      "metadata": {
        "id": "XtHA4T0TFFNF"
      }
    }
  ]
}